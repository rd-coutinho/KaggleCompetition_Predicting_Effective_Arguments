{
 "cells": [
  {
   "cell_type": "markdown",
   "id": "8baff9c1",
   "metadata": {},
   "source": [
    "# Solution for the Kaggle's Competition \"Feedback Prize - Predicting Effective Arguments\""
   ]
  },
  {
   "cell_type": "markdown",
   "id": "5c479007",
   "metadata": {},
   "source": [
    "Solution for the Kaggle competition \"Feedback Prize - Predicting Effective Arguments - Rate the effectiveness of argumentative writing elements from students grade 6-12\". The goal of this competition is to classify argumentative elements in student writing as \"effective\", \"adequate\" or \"ineffective\" creating a model using data that is representative of the 6th-12th grade population in the United States. The purpose is to provide students enhanced feedback on their argumentative writing with automated guidance using machine learning.\n",
    "\n",
    "For this competition I will use a Long Short Term Memory network (LSTM) so we can consider all the sequence of data to make the classifications."
   ]
  },
  {
   "cell_type": "markdown",
   "id": "bfd1e7b7",
   "metadata": {},
   "source": [
    "### Importing the necessary libraries"
   ]
  },
  {
   "cell_type": "code",
   "execution_count": 2,
   "id": "83783451",
   "metadata": {},
   "outputs": [
    {
     "name": "stderr",
     "output_type": "stream",
     "text": [
      "[nltk_data] Downloading package stopwords to C:\\Users\\rd-\n",
      "[nltk_data]     co\\AppData\\Roaming\\nltk_data...\n",
      "[nltk_data]   Package stopwords is already up-to-date!\n",
      "[nltk_data] Downloading package punkt to C:\\Users\\rd-\n",
      "[nltk_data]     co\\AppData\\Roaming\\nltk_data...\n",
      "[nltk_data]   Package punkt is already up-to-date!\n"
     ]
    }
   ],
   "source": [
    "import pandas as pd\n",
    "import numpy as np\n",
    "import matplotlib.pyplot as plt\n",
    "import seaborn as sns\n",
    "import re\n",
    "import nltk\n",
    "\n",
    "nltk.download('stopwords')\n",
    "nltk.download('punkt')\n",
    "from nltk.corpus import stopwords\n",
    "from nltk.stem.porter import PorterStemmer\n",
    "from nltk import tokenize\n",
    "from sklearn.feature_extraction.text import CountVectorizer\n",
    "from sklearn.naive_bayes import GaussianNB\n",
    "from sklearn.metrics import confusion_matrix, accuracy_score"
   ]
  },
  {
   "cell_type": "markdown",
   "id": "ee2f479a",
   "metadata": {},
   "source": [
    "### Loading the training and test datasets"
   ]
  },
  {
   "cell_type": "code",
   "execution_count": 4,
   "id": "6995770b",
   "metadata": {},
   "outputs": [],
   "source": [
    "dataset_test = pd.read_csv(\"test.csv\")\n",
    "dataset_train = pd.read_csv(\"train.csv\")"
   ]
  },
  {
   "cell_type": "markdown",
   "id": "3fe64a8b",
   "metadata": {},
   "source": [
    "### Exploring and analysing the training set (EDA - Exploratory Data Analysis)"
   ]
  },
  {
   "cell_type": "code",
   "execution_count": 9,
   "id": "8e3944d3",
   "metadata": {},
   "outputs": [
    {
     "data": {
      "text/html": [
       "<div>\n",
       "<style scoped>\n",
       "    .dataframe tbody tr th:only-of-type {\n",
       "        vertical-align: middle;\n",
       "    }\n",
       "\n",
       "    .dataframe tbody tr th {\n",
       "        vertical-align: top;\n",
       "    }\n",
       "\n",
       "    .dataframe thead th {\n",
       "        text-align: right;\n",
       "    }\n",
       "</style>\n",
       "<table border=\"1\" class=\"dataframe\">\n",
       "  <thead>\n",
       "    <tr style=\"text-align: right;\">\n",
       "      <th></th>\n",
       "      <th>discourse_id</th>\n",
       "      <th>essay_id</th>\n",
       "      <th>discourse_text</th>\n",
       "      <th>discourse_type</th>\n",
       "      <th>discourse_effectiveness</th>\n",
       "    </tr>\n",
       "  </thead>\n",
       "  <tbody>\n",
       "    <tr>\n",
       "      <th>0</th>\n",
       "      <td>0013cc385424</td>\n",
       "      <td>007ACE74B050</td>\n",
       "      <td>Hi, i'm Isaac, i'm going to be writing about h...</td>\n",
       "      <td>Lead</td>\n",
       "      <td>Adequate</td>\n",
       "    </tr>\n",
       "    <tr>\n",
       "      <th>1</th>\n",
       "      <td>9704a709b505</td>\n",
       "      <td>007ACE74B050</td>\n",
       "      <td>On my perspective, I think that the face is a ...</td>\n",
       "      <td>Position</td>\n",
       "      <td>Adequate</td>\n",
       "    </tr>\n",
       "    <tr>\n",
       "      <th>2</th>\n",
       "      <td>c22adee811b6</td>\n",
       "      <td>007ACE74B050</td>\n",
       "      <td>I think that the face is a natural landform be...</td>\n",
       "      <td>Claim</td>\n",
       "      <td>Adequate</td>\n",
       "    </tr>\n",
       "    <tr>\n",
       "      <th>3</th>\n",
       "      <td>a10d361e54e4</td>\n",
       "      <td>007ACE74B050</td>\n",
       "      <td>If life was on Mars, we would know by now. The...</td>\n",
       "      <td>Evidence</td>\n",
       "      <td>Adequate</td>\n",
       "    </tr>\n",
       "    <tr>\n",
       "      <th>4</th>\n",
       "      <td>db3e453ec4e2</td>\n",
       "      <td>007ACE74B050</td>\n",
       "      <td>People thought that the face was formed by ali...</td>\n",
       "      <td>Counterclaim</td>\n",
       "      <td>Adequate</td>\n",
       "    </tr>\n",
       "  </tbody>\n",
       "</table>\n",
       "</div>"
      ],
      "text/plain": [
       "   discourse_id      essay_id  \\\n",
       "0  0013cc385424  007ACE74B050   \n",
       "1  9704a709b505  007ACE74B050   \n",
       "2  c22adee811b6  007ACE74B050   \n",
       "3  a10d361e54e4  007ACE74B050   \n",
       "4  db3e453ec4e2  007ACE74B050   \n",
       "\n",
       "                                      discourse_text discourse_type  \\\n",
       "0  Hi, i'm Isaac, i'm going to be writing about h...           Lead   \n",
       "1  On my perspective, I think that the face is a ...       Position   \n",
       "2  I think that the face is a natural landform be...          Claim   \n",
       "3  If life was on Mars, we would know by now. The...       Evidence   \n",
       "4  People thought that the face was formed by ali...   Counterclaim   \n",
       "\n",
       "  discourse_effectiveness  \n",
       "0                Adequate  \n",
       "1                Adequate  \n",
       "2                Adequate  \n",
       "3                Adequate  \n",
       "4                Adequate  "
      ]
     },
     "execution_count": 9,
     "metadata": {},
     "output_type": "execute_result"
    }
   ],
   "source": [
    "dataset_train.head(5)"
   ]
  },
  {
   "cell_type": "markdown",
   "id": "68cceab6",
   "metadata": {},
   "source": [
    "We can see that the training set has no missing values, since all the columns has 36765 values being strings."
   ]
  },
  {
   "cell_type": "code",
   "execution_count": 10,
   "id": "33e7e020",
   "metadata": {},
   "outputs": [
    {
     "name": "stdout",
     "output_type": "stream",
     "text": [
      "<class 'pandas.core.frame.DataFrame'>\n",
      "RangeIndex: 36765 entries, 0 to 36764\n",
      "Data columns (total 5 columns):\n",
      " #   Column                   Non-Null Count  Dtype \n",
      "---  ------                   --------------  ----- \n",
      " 0   discourse_id             36765 non-null  object\n",
      " 1   essay_id                 36765 non-null  object\n",
      " 2   discourse_text           36765 non-null  object\n",
      " 3   discourse_type           36765 non-null  object\n",
      " 4   discourse_effectiveness  36765 non-null  object\n",
      "dtypes: object(5)\n",
      "memory usage: 1.4+ MB\n"
     ]
    }
   ],
   "source": [
    "dataset_train.info() "
   ]
  },
  {
   "cell_type": "markdown",
   "id": "315d5d58",
   "metadata": {},
   "source": [
    "The unique values of \"discourse_id\" (36765) is differente compared to \"discourse_text\" (36691), indicating that there are duplicate values (assuming that for each discourse id, there is a unique discourse text associated)."
   ]
  },
  {
   "cell_type": "code",
   "execution_count": 11,
   "id": "1a2783c6",
   "metadata": {},
   "outputs": [
    {
     "data": {
      "text/html": [
       "<div>\n",
       "<style scoped>\n",
       "    .dataframe tbody tr th:only-of-type {\n",
       "        vertical-align: middle;\n",
       "    }\n",
       "\n",
       "    .dataframe tbody tr th {\n",
       "        vertical-align: top;\n",
       "    }\n",
       "\n",
       "    .dataframe thead th {\n",
       "        text-align: right;\n",
       "    }\n",
       "</style>\n",
       "<table border=\"1\" class=\"dataframe\">\n",
       "  <thead>\n",
       "    <tr style=\"text-align: right;\">\n",
       "      <th></th>\n",
       "      <th>discourse_id</th>\n",
       "      <th>essay_id</th>\n",
       "      <th>discourse_text</th>\n",
       "      <th>discourse_type</th>\n",
       "      <th>discourse_effectiveness</th>\n",
       "    </tr>\n",
       "  </thead>\n",
       "  <tbody>\n",
       "    <tr>\n",
       "      <th>count</th>\n",
       "      <td>36765</td>\n",
       "      <td>36765</td>\n",
       "      <td>36765</td>\n",
       "      <td>36765</td>\n",
       "      <td>36765</td>\n",
       "    </tr>\n",
       "    <tr>\n",
       "      <th>unique</th>\n",
       "      <td>36765</td>\n",
       "      <td>4191</td>\n",
       "      <td>36691</td>\n",
       "      <td>7</td>\n",
       "      <td>3</td>\n",
       "    </tr>\n",
       "    <tr>\n",
       "      <th>top</th>\n",
       "      <td>0013cc385424</td>\n",
       "      <td>91B1F82B2CF1</td>\n",
       "      <td>Summer projects should be student-designed</td>\n",
       "      <td>Evidence</td>\n",
       "      <td>Adequate</td>\n",
       "    </tr>\n",
       "    <tr>\n",
       "      <th>freq</th>\n",
       "      <td>1</td>\n",
       "      <td>23</td>\n",
       "      <td>14</td>\n",
       "      <td>12105</td>\n",
       "      <td>20977</td>\n",
       "    </tr>\n",
       "  </tbody>\n",
       "</table>\n",
       "</div>"
      ],
      "text/plain": [
       "        discourse_id      essay_id  \\\n",
       "count          36765         36765   \n",
       "unique         36765          4191   \n",
       "top     0013cc385424  91B1F82B2CF1   \n",
       "freq               1            23   \n",
       "\n",
       "                                     discourse_text discourse_type  \\\n",
       "count                                         36765          36765   \n",
       "unique                                        36691              7   \n",
       "top     Summer projects should be student-designed        Evidence   \n",
       "freq                                             14          12105   \n",
       "\n",
       "       discourse_effectiveness  \n",
       "count                    36765  \n",
       "unique                       3  \n",
       "top                   Adequate  \n",
       "freq                     20977  "
      ]
     },
     "execution_count": 11,
     "metadata": {},
     "output_type": "execute_result"
    }
   ],
   "source": [
    "dataset_train.describe()"
   ]
  },
  {
   "cell_type": "markdown",
   "id": "404e2a0f",
   "metadata": {},
   "source": [
    "Here we can see all the duplicate results with also different \"discourse_effectiveness\" for a same \"discourse_text\""
   ]
  },
  {
   "cell_type": "code",
   "execution_count": 14,
   "id": "de2e7e40",
   "metadata": {},
   "outputs": [],
   "source": [
    "duplicadas_geral = dataset_train[dataset_train.discourse_text.duplicated(keep=False)].sort_values(by=\"discourse_text\")"
   ]
  },
  {
   "cell_type": "code",
   "execution_count": 15,
   "id": "d9cdd90e",
   "metadata": {},
   "outputs": [
    {
     "data": {
      "text/html": [
       "<div>\n",
       "<style scoped>\n",
       "    .dataframe tbody tr th:only-of-type {\n",
       "        vertical-align: middle;\n",
       "    }\n",
       "\n",
       "    .dataframe tbody tr th {\n",
       "        vertical-align: top;\n",
       "    }\n",
       "\n",
       "    .dataframe thead th {\n",
       "        text-align: right;\n",
       "    }\n",
       "</style>\n",
       "<table border=\"1\" class=\"dataframe\">\n",
       "  <thead>\n",
       "    <tr style=\"text-align: right;\">\n",
       "      <th></th>\n",
       "      <th>discourse_id</th>\n",
       "      <th>essay_id</th>\n",
       "      <th>discourse_text</th>\n",
       "      <th>discourse_type</th>\n",
       "      <th>discourse_effectiveness</th>\n",
       "    </tr>\n",
       "  </thead>\n",
       "  <tbody>\n",
       "    <tr>\n",
       "      <th>26691</th>\n",
       "      <td>7f9c3500259d</td>\n",
       "      <td>A602D45D22B2</td>\n",
       "      <td>\"That's a lava dome that takes the form of an ...</td>\n",
       "      <td>Evidence</td>\n",
       "      <td>Adequate</td>\n",
       "    </tr>\n",
       "    <tr>\n",
       "      <th>27350</th>\n",
       "      <td>d628a6adda3a</td>\n",
       "      <td>ADB68BCD2874</td>\n",
       "      <td>\"That's a lava dome that takes the form of an ...</td>\n",
       "      <td>Evidence</td>\n",
       "      <td>Adequate</td>\n",
       "    </tr>\n",
       "    <tr>\n",
       "      <th>25391</th>\n",
       "      <td>781452d9404c</td>\n",
       "      <td>942ECB176B3A</td>\n",
       "      <td>At the most basic level, the electoral college...</td>\n",
       "      <td>Position</td>\n",
       "      <td>Adequate</td>\n",
       "    </tr>\n",
       "    <tr>\n",
       "      <th>28835</th>\n",
       "      <td>6fa171a95540</td>\n",
       "      <td>C2BAF4ADA2CA</td>\n",
       "      <td>At the most basic level, the electoral college...</td>\n",
       "      <td>Claim</td>\n",
       "      <td>Adequate</td>\n",
       "    </tr>\n",
       "    <tr>\n",
       "      <th>28436</th>\n",
       "      <td>9e12ec699196</td>\n",
       "      <td>BB3A6C2D0B65</td>\n",
       "      <td>Big States</td>\n",
       "      <td>Claim</td>\n",
       "      <td>Adequate</td>\n",
       "    </tr>\n",
       "    <tr>\n",
       "      <th>...</th>\n",
       "      <td>...</td>\n",
       "      <td>...</td>\n",
       "      <td>...</td>\n",
       "      <td>...</td>\n",
       "      <td>...</td>\n",
       "    </tr>\n",
       "    <tr>\n",
       "      <th>27033</th>\n",
       "      <td>f6b2d34d9c01</td>\n",
       "      <td>A98E8EFFC8A9</td>\n",
       "      <td>the technology failing</td>\n",
       "      <td>Claim</td>\n",
       "      <td>Adequate</td>\n",
       "    </tr>\n",
       "    <tr>\n",
       "      <th>35488</th>\n",
       "      <td>bcdb6e47ede3</td>\n",
       "      <td>AB8EFBD82820</td>\n",
       "      <td>you can help others.</td>\n",
       "      <td>Claim</td>\n",
       "      <td>Ineffective</td>\n",
       "    </tr>\n",
       "    <tr>\n",
       "      <th>35493</th>\n",
       "      <td>98510222f9b8</td>\n",
       "      <td>AB8EFBD82820</td>\n",
       "      <td>you can help others.</td>\n",
       "      <td>Claim</td>\n",
       "      <td>Adequate</td>\n",
       "    </tr>\n",
       "    <tr>\n",
       "      <th>4788</th>\n",
       "      <td>d068e2c646e8</td>\n",
       "      <td>56C6D97AF40B</td>\n",
       "      <td>you get to see the world</td>\n",
       "      <td>Claim</td>\n",
       "      <td>Adequate</td>\n",
       "    </tr>\n",
       "    <tr>\n",
       "      <th>13836</th>\n",
       "      <td>684c68931d56</td>\n",
       "      <td>F7D1D884AAD4</td>\n",
       "      <td>you get to see the world</td>\n",
       "      <td>Claim</td>\n",
       "      <td>Adequate</td>\n",
       "    </tr>\n",
       "  </tbody>\n",
       "</table>\n",
       "<p>119 rows × 5 columns</p>\n",
       "</div>"
      ],
      "text/plain": [
       "       discourse_id      essay_id  \\\n",
       "26691  7f9c3500259d  A602D45D22B2   \n",
       "27350  d628a6adda3a  ADB68BCD2874   \n",
       "25391  781452d9404c  942ECB176B3A   \n",
       "28835  6fa171a95540  C2BAF4ADA2CA   \n",
       "28436  9e12ec699196  BB3A6C2D0B65   \n",
       "...             ...           ...   \n",
       "27033  f6b2d34d9c01  A98E8EFFC8A9   \n",
       "35488  bcdb6e47ede3  AB8EFBD82820   \n",
       "35493  98510222f9b8  AB8EFBD82820   \n",
       "4788   d068e2c646e8  56C6D97AF40B   \n",
       "13836  684c68931d56  F7D1D884AAD4   \n",
       "\n",
       "                                          discourse_text discourse_type  \\\n",
       "26691  \"That's a lava dome that takes the form of an ...       Evidence   \n",
       "27350  \"That's a lava dome that takes the form of an ...       Evidence   \n",
       "25391  At the most basic level, the electoral college...       Position   \n",
       "28835  At the most basic level, the electoral college...          Claim   \n",
       "28436                                        Big States           Claim   \n",
       "...                                                  ...            ...   \n",
       "27033                            the technology failing           Claim   \n",
       "35488                              you can help others.           Claim   \n",
       "35493                              you can help others.           Claim   \n",
       "4788                           you get to see the world           Claim   \n",
       "13836                          you get to see the world           Claim   \n",
       "\n",
       "      discourse_effectiveness  \n",
       "26691                Adequate  \n",
       "27350                Adequate  \n",
       "25391                Adequate  \n",
       "28835                Adequate  \n",
       "28436                Adequate  \n",
       "...                       ...  \n",
       "27033                Adequate  \n",
       "35488             Ineffective  \n",
       "35493                Adequate  \n",
       "4788                 Adequate  \n",
       "13836                Adequate  \n",
       "\n",
       "[119 rows x 5 columns]"
      ]
     },
     "execution_count": 15,
     "metadata": {},
     "output_type": "execute_result"
    }
   ],
   "source": [
    "duplicadas_geral"
   ]
  },
  {
   "cell_type": "markdown",
   "id": "71ae2483",
   "metadata": {},
   "source": [
    "There's a total of 11 duplicated discourse texts with differente \"discourse effectiveness\". "
   ]
  },
  {
   "cell_type": "code",
   "execution_count": 26,
   "id": "faefd1ed",
   "metadata": {},
   "outputs": [
    {
     "data": {
      "text/html": [
       "<div>\n",
       "<style scoped>\n",
       "    .dataframe tbody tr th:only-of-type {\n",
       "        vertical-align: middle;\n",
       "    }\n",
       "\n",
       "    .dataframe tbody tr th {\n",
       "        vertical-align: top;\n",
       "    }\n",
       "\n",
       "    .dataframe thead th {\n",
       "        text-align: right;\n",
       "    }\n",
       "</style>\n",
       "<table border=\"1\" class=\"dataframe\">\n",
       "  <thead>\n",
       "    <tr style=\"text-align: right;\">\n",
       "      <th></th>\n",
       "      <th>discourse_type</th>\n",
       "      <th>discourse_text</th>\n",
       "      <th>discourse_effectiveness_nonUnique</th>\n",
       "    </tr>\n",
       "  </thead>\n",
       "  <tbody>\n",
       "    <tr>\n",
       "      <th>0</th>\n",
       "      <td>Claim</td>\n",
       "      <td>opinions,</td>\n",
       "      <td>2</td>\n",
       "    </tr>\n",
       "    <tr>\n",
       "      <th>1</th>\n",
       "      <td>Claim</td>\n",
       "      <td>Second, there could be a tie in the electoral ...</td>\n",
       "      <td>2</td>\n",
       "    </tr>\n",
       "    <tr>\n",
       "      <th>2</th>\n",
       "      <td>Claim</td>\n",
       "      <td>The Electoral College is unfair</td>\n",
       "      <td>2</td>\n",
       "    </tr>\n",
       "    <tr>\n",
       "      <th>3</th>\n",
       "      <td>Lead</td>\n",
       "      <td>When people ask for advice, they sometimes tal...</td>\n",
       "      <td>2</td>\n",
       "    </tr>\n",
       "    <tr>\n",
       "      <th>4</th>\n",
       "      <td>Claim</td>\n",
       "      <td>Big States</td>\n",
       "      <td>2</td>\n",
       "    </tr>\n",
       "    <tr>\n",
       "      <th>5</th>\n",
       "      <td>Position</td>\n",
       "      <td>I would want to keep the Electoral College</td>\n",
       "      <td>2</td>\n",
       "    </tr>\n",
       "    <tr>\n",
       "      <th>6</th>\n",
       "      <td>Claim</td>\n",
       "      <td>you can help others.</td>\n",
       "      <td>2</td>\n",
       "    </tr>\n",
       "    <tr>\n",
       "      <th>7</th>\n",
       "      <td>Claim</td>\n",
       "      <td>be creative,</td>\n",
       "      <td>2</td>\n",
       "    </tr>\n",
       "    <tr>\n",
       "      <th>8</th>\n",
       "      <td>Position</td>\n",
       "      <td>The author suggest that studying Venus is a wo...</td>\n",
       "      <td>2</td>\n",
       "    </tr>\n",
       "    <tr>\n",
       "      <th>9</th>\n",
       "      <td>Position</td>\n",
       "      <td>Seeking multiple opinions can help someone mak...</td>\n",
       "      <td>2</td>\n",
       "    </tr>\n",
       "    <tr>\n",
       "      <th>10</th>\n",
       "      <td>Counterclaim</td>\n",
       "      <td>Opponents say that cell phones are good becaus...</td>\n",
       "      <td>2</td>\n",
       "    </tr>\n",
       "  </tbody>\n",
       "</table>\n",
       "</div>"
      ],
      "text/plain": [
       "   discourse_type                                     discourse_text  \\\n",
       "0           Claim                                         opinions,    \n",
       "1           Claim  Second, there could be a tie in the electoral ...   \n",
       "2           Claim                   The Electoral College is unfair    \n",
       "3            Lead  When people ask for advice, they sometimes tal...   \n",
       "4           Claim                                        Big States    \n",
       "5        Position        I would want to keep the Electoral College    \n",
       "6           Claim                              you can help others.    \n",
       "7           Claim                                      be creative,    \n",
       "8        Position  The author suggest that studying Venus is a wo...   \n",
       "9        Position  Seeking multiple opinions can help someone mak...   \n",
       "10   Counterclaim  Opponents say that cell phones are good becaus...   \n",
       "\n",
       "    discourse_effectiveness_nonUnique  \n",
       "0                                   2  \n",
       "1                                   2  \n",
       "2                                   2  \n",
       "3                                   2  \n",
       "4                                   2  \n",
       "5                                   2  \n",
       "6                                   2  \n",
       "7                                   2  \n",
       "8                                   2  \n",
       "9                                   2  \n",
       "10                                  2  "
      ]
     },
     "execution_count": 26,
     "metadata": {},
     "output_type": "execute_result"
    }
   ],
   "source": [
    "duplicadas_analise = duplicadas_geral.groupby([\"discourse_type\", \"discourse_text\"]).discourse_effectiveness.nunique().to_frame().sort_values(by=\"discourse_effectiveness\", ascending=False)\n",
    "duplicadas_analise.columns = [\"discourse_effectiveness_nonUnique\"]\n",
    "duplicadas_analise = duplicadas_analise[duplicadas_analise.discourse_effectiveness_nonUnique > 1].reset_index(drop=False)  \n",
    "duplicadas_analise"
   ]
  },
  {
   "cell_type": "code",
   "execution_count": 27,
   "id": "66a5bf8c",
   "metadata": {},
   "outputs": [
    {
     "data": {
      "text/html": [
       "<div>\n",
       "<style scoped>\n",
       "    .dataframe tbody tr th:only-of-type {\n",
       "        vertical-align: middle;\n",
       "    }\n",
       "\n",
       "    .dataframe tbody tr th {\n",
       "        vertical-align: top;\n",
       "    }\n",
       "\n",
       "    .dataframe thead th {\n",
       "        text-align: right;\n",
       "    }\n",
       "</style>\n",
       "<table border=\"1\" class=\"dataframe\">\n",
       "  <thead>\n",
       "    <tr style=\"text-align: right;\">\n",
       "      <th></th>\n",
       "      <th>discourse_id</th>\n",
       "      <th>essay_id</th>\n",
       "      <th>discourse_text</th>\n",
       "      <th>discourse_type</th>\n",
       "      <th>discourse_effectiveness</th>\n",
       "    </tr>\n",
       "  </thead>\n",
       "  <tbody>\n",
       "    <tr>\n",
       "      <th>28436</th>\n",
       "      <td>9e12ec699196</td>\n",
       "      <td>BB3A6C2D0B65</td>\n",
       "      <td>Big States</td>\n",
       "      <td>Claim</td>\n",
       "      <td>Adequate</td>\n",
       "    </tr>\n",
       "    <tr>\n",
       "      <th>20121</th>\n",
       "      <td>35bf70c4a673</td>\n",
       "      <td>4CA37D113612</td>\n",
       "      <td>Big States</td>\n",
       "      <td>Claim</td>\n",
       "      <td>Ineffective</td>\n",
       "    </tr>\n",
       "    <tr>\n",
       "      <th>20842</th>\n",
       "      <td>34b98386dc46</td>\n",
       "      <td>5729D5AE055C</td>\n",
       "      <td>I would want to keep the Electoral College</td>\n",
       "      <td>Position</td>\n",
       "      <td>Effective</td>\n",
       "    </tr>\n",
       "    <tr>\n",
       "      <th>28406</th>\n",
       "      <td>98154af4855d</td>\n",
       "      <td>BACC53ECC1FB</td>\n",
       "      <td>I would want to keep the Electoral College</td>\n",
       "      <td>Position</td>\n",
       "      <td>Adequate</td>\n",
       "    </tr>\n",
       "    <tr>\n",
       "      <th>11970</th>\n",
       "      <td>cc0dad1234ec</td>\n",
       "      <td>D8013F49DE51</td>\n",
       "      <td>Opponents say that cell phones are good becaus...</td>\n",
       "      <td>Counterclaim</td>\n",
       "      <td>Adequate</td>\n",
       "    </tr>\n",
       "    <tr>\n",
       "      <th>6570</th>\n",
       "      <td>dee3f8aec4fc</td>\n",
       "      <td>7742D58270C9</td>\n",
       "      <td>Opponents say that cell phones are good becaus...</td>\n",
       "      <td>Counterclaim</td>\n",
       "      <td>Ineffective</td>\n",
       "    </tr>\n",
       "    <tr>\n",
       "      <th>31753</th>\n",
       "      <td>b318a4e3b80e</td>\n",
       "      <td>EE2FC4219F49</td>\n",
       "      <td>Second, there could be a tie in the electoral ...</td>\n",
       "      <td>Claim</td>\n",
       "      <td>Effective</td>\n",
       "    </tr>\n",
       "    <tr>\n",
       "      <th>31757</th>\n",
       "      <td>43848fd5dfb3</td>\n",
       "      <td>EE2FC4219F49</td>\n",
       "      <td>Second, there could be a tie in the electoral ...</td>\n",
       "      <td>Claim</td>\n",
       "      <td>Adequate</td>\n",
       "    </tr>\n",
       "    <tr>\n",
       "      <th>35299</th>\n",
       "      <td>608e1d81f4ed</td>\n",
       "      <td>9627B47C10DE</td>\n",
       "      <td>Seeking multiple opinions can help someone mak...</td>\n",
       "      <td>Position</td>\n",
       "      <td>Effective</td>\n",
       "    </tr>\n",
       "    <tr>\n",
       "      <th>34383</th>\n",
       "      <td>3312a23a5480</td>\n",
       "      <td>523EBD9ECA47</td>\n",
       "      <td>Seeking multiple opinions can help someone mak...</td>\n",
       "      <td>Position</td>\n",
       "      <td>Adequate</td>\n",
       "    </tr>\n",
       "  </tbody>\n",
       "</table>\n",
       "</div>"
      ],
      "text/plain": [
       "       discourse_id      essay_id  \\\n",
       "28436  9e12ec699196  BB3A6C2D0B65   \n",
       "20121  35bf70c4a673  4CA37D113612   \n",
       "20842  34b98386dc46  5729D5AE055C   \n",
       "28406  98154af4855d  BACC53ECC1FB   \n",
       "11970  cc0dad1234ec  D8013F49DE51   \n",
       "6570   dee3f8aec4fc  7742D58270C9   \n",
       "31753  b318a4e3b80e  EE2FC4219F49   \n",
       "31757  43848fd5dfb3  EE2FC4219F49   \n",
       "35299  608e1d81f4ed  9627B47C10DE   \n",
       "34383  3312a23a5480  523EBD9ECA47   \n",
       "\n",
       "                                          discourse_text discourse_type  \\\n",
       "28436                                        Big States           Claim   \n",
       "20121                                        Big States           Claim   \n",
       "20842        I would want to keep the Electoral College        Position   \n",
       "28406        I would want to keep the Electoral College        Position   \n",
       "11970  Opponents say that cell phones are good becaus...   Counterclaim   \n",
       "6570   Opponents say that cell phones are good becaus...   Counterclaim   \n",
       "31753  Second, there could be a tie in the electoral ...          Claim   \n",
       "31757  Second, there could be a tie in the electoral ...          Claim   \n",
       "35299  Seeking multiple opinions can help someone mak...       Position   \n",
       "34383  Seeking multiple opinions can help someone mak...       Position   \n",
       "\n",
       "      discourse_effectiveness  \n",
       "28436                Adequate  \n",
       "20121             Ineffective  \n",
       "20842               Effective  \n",
       "28406                Adequate  \n",
       "11970                Adequate  \n",
       "6570              Ineffective  \n",
       "31753               Effective  \n",
       "31757                Adequate  \n",
       "35299               Effective  \n",
       "34383                Adequate  "
      ]
     },
     "execution_count": 27,
     "metadata": {},
     "output_type": "execute_result"
    }
   ],
   "source": [
    "duplicadas_geral_analise = duplicadas_geral[duplicadas_geral.discourse_text.isin(duplicadas_analise.discourse_text)] \n",
    "duplicadas_geral_analise.head(10)"
   ]
  },
  {
   "cell_type": "markdown",
   "id": "571c69bc",
   "metadata": {},
   "source": [
    "#### Visualizing some graphs"
   ]
  },
  {
   "cell_type": "code",
   "execution_count": 28,
   "id": "cd65b2f7",
   "metadata": {},
   "outputs": [
    {
     "data": {
      "text/plain": [
       "Text(0, 0.5, 'Count')"
      ]
     },
     "execution_count": 28,
     "metadata": {},
     "output_type": "execute_result"
    },
    {
     "data": {
      "image/png": "[encoded data removed]",
      "text/plain": [
       "<Figure size 720x576 with 1 Axes>"
      ]
     },
     "metadata": {
      "needs_background": "light"
     },
     "output_type": "display_data"
    }
   ],
   "source": [
    "plt.figure(figsize=(10, 8))   # Contagem de cada classe de discurso das redações e as notas correspondentes\n",
    "sns.set_theme(style=\"darkgrid\")\n",
    "ax = sns.countplot(x=\"discourse_type\", hue=\"discourse_effectiveness\", data=dataset_train)\n",
    "ax.tick_params(axis = \"x\", rotation = 45)\n",
    "ax.set_title(\"Count of each discourse type x effectiveness\", fontsize=20, weight='bold')\n",
    "plt.xlabel(\"Discourse Type\", fontsize=15)\n",
    "plt.ylabel(\"Count\", fontsize=15)"
   ]
  },
  {
   "cell_type": "code",
   "execution_count": 29,
   "id": "fb7df38e",
   "metadata": {},
   "outputs": [
    {
     "data": {
      "text/plain": [
       "Text(0, 0.5, 'Count')"
      ]
     },
     "execution_count": 29,
     "metadata": {},
     "output_type": "execute_result"
    },
    {
     "data": {
      "image/png": "[encoded data removed]",
      "text/plain": [
       "<Figure size 720x576 with 1 Axes>"
      ]
     },
     "metadata": {},
     "output_type": "display_data"
    }
   ],
   "source": [
    "plt.figure(figsize=(10, 8))   # Contagem de cada classe de discurso das redações\n",
    "sns.set_theme(style=\"darkgrid\")\n",
    "ax = sns.countplot(x=\"discourse_type\", data=dataset_train)\n",
    "ax.tick_params(axis = \"x\", rotation = 45)\n",
    "ax.set_title(\"Count of each discourse type\", fontsize=20, weight='bold')\n",
    "plt.xlabel(\"Discourse Type\", fontsize=15)\n",
    "plt.ylabel(\"Count\", fontsize=15)"
   ]
  },
  {
   "cell_type": "code",
   "execution_count": 30,
   "id": "c3ddf5c8",
   "metadata": {},
   "outputs": [
    {
     "data": {
      "text/plain": [
       "Text(0, 0.5, 'Count')"
      ]
     },
     "execution_count": 30,
     "metadata": {},
     "output_type": "execute_result"
    },
    {
     "data": {
      "image/png": "[encoded data removed]",
      "text/plain": [
       "<Figure size 720x576 with 1 Axes>"
      ]
     },
     "metadata": {},
     "output_type": "display_data"
    }
   ],
   "source": [
    "plt.figure(figsize=(10, 8))   # \n",
    "sns.set_theme(style=\"darkgrid\")\n",
    "ax = sns.countplot(x=\"discourse_effectiveness\", data=dataset_train)\n",
    "ax.tick_params(axis = \"x\", rotation = 45)\n",
    "ax.set_title(\"Count of each discourse effectiveness\", fontsize=20, weight='bold')\n",
    "plt.xlabel(\"Discourse Type\", fontsize=15)\n",
    "plt.ylabel(\"Count\", fontsize=15)"
   ]
  },
  {
   "cell_type": "markdown",
   "id": "224ba2e2",
   "metadata": {},
   "source": [
    "We can see that, on average, each essay has approximately 9 \"discourse_text\":"
   ]
  },
  {
   "cell_type": "code",
   "execution_count": 36,
   "id": "ce3a8996",
   "metadata": {},
   "outputs": [
    {
     "data": {
      "text/html": [
       "<div>\n",
       "<style scoped>\n",
       "    .dataframe tbody tr th:only-of-type {\n",
       "        vertical-align: middle;\n",
       "    }\n",
       "\n",
       "    .dataframe tbody tr th {\n",
       "        vertical-align: top;\n",
       "    }\n",
       "\n",
       "    .dataframe thead th {\n",
       "        text-align: right;\n",
       "    }\n",
       "</style>\n",
       "<table border=\"1\" class=\"dataframe\">\n",
       "  <thead>\n",
       "    <tr style=\"text-align: right;\">\n",
       "      <th>discourse_type</th>\n",
       "      <th>Claim</th>\n",
       "      <th>Concluding Statement</th>\n",
       "      <th>Counterclaim</th>\n",
       "      <th>Evidence</th>\n",
       "      <th>Lead</th>\n",
       "      <th>Position</th>\n",
       "      <th>Rebuttal</th>\n",
       "      <th>Total_Sum</th>\n",
       "    </tr>\n",
       "    <tr>\n",
       "      <th>essay_id</th>\n",
       "      <th></th>\n",
       "      <th></th>\n",
       "      <th></th>\n",
       "      <th></th>\n",
       "      <th></th>\n",
       "      <th></th>\n",
       "      <th></th>\n",
       "      <th></th>\n",
       "    </tr>\n",
       "  </thead>\n",
       "  <tbody>\n",
       "    <tr>\n",
       "      <th>00066EA9880D</th>\n",
       "      <td>3.0</td>\n",
       "      <td>1.0</td>\n",
       "      <td>NaN</td>\n",
       "      <td>3.0</td>\n",
       "      <td>1.0</td>\n",
       "      <td>1.0</td>\n",
       "      <td>NaN</td>\n",
       "      <td>9.0</td>\n",
       "    </tr>\n",
       "    <tr>\n",
       "      <th>000E6DE9E817</th>\n",
       "      <td>5.0</td>\n",
       "      <td>1.0</td>\n",
       "      <td>1.0</td>\n",
       "      <td>3.0</td>\n",
       "      <td>NaN</td>\n",
       "      <td>1.0</td>\n",
       "      <td>1.0</td>\n",
       "      <td>12.0</td>\n",
       "    </tr>\n",
       "    <tr>\n",
       "      <th>0016926B079C</th>\n",
       "      <td>7.0</td>\n",
       "      <td>NaN</td>\n",
       "      <td>NaN</td>\n",
       "      <td>3.0</td>\n",
       "      <td>NaN</td>\n",
       "      <td>1.0</td>\n",
       "      <td>NaN</td>\n",
       "      <td>11.0</td>\n",
       "    </tr>\n",
       "    <tr>\n",
       "      <th>00203C45FC55</th>\n",
       "      <td>1.0</td>\n",
       "      <td>1.0</td>\n",
       "      <td>3.0</td>\n",
       "      <td>3.0</td>\n",
       "      <td>1.0</td>\n",
       "      <td>1.0</td>\n",
       "      <td>3.0</td>\n",
       "      <td>13.0</td>\n",
       "    </tr>\n",
       "    <tr>\n",
       "      <th>0029F4D19C3F</th>\n",
       "      <td>2.0</td>\n",
       "      <td>1.0</td>\n",
       "      <td>1.0</td>\n",
       "      <td>2.0</td>\n",
       "      <td>1.0</td>\n",
       "      <td>1.0</td>\n",
       "      <td>1.0</td>\n",
       "      <td>9.0</td>\n",
       "    </tr>\n",
       "    <tr>\n",
       "      <th>...</th>\n",
       "      <td>...</td>\n",
       "      <td>...</td>\n",
       "      <td>...</td>\n",
       "      <td>...</td>\n",
       "      <td>...</td>\n",
       "      <td>...</td>\n",
       "      <td>...</td>\n",
       "      <td>...</td>\n",
       "    </tr>\n",
       "    <tr>\n",
       "      <th>FFA381E58FC6</th>\n",
       "      <td>2.0</td>\n",
       "      <td>1.0</td>\n",
       "      <td>NaN</td>\n",
       "      <td>1.0</td>\n",
       "      <td>NaN</td>\n",
       "      <td>1.0</td>\n",
       "      <td>NaN</td>\n",
       "      <td>5.0</td>\n",
       "    </tr>\n",
       "    <tr>\n",
       "      <th>FFC43F453EF6</th>\n",
       "      <td>4.0</td>\n",
       "      <td>1.0</td>\n",
       "      <td>3.0</td>\n",
       "      <td>1.0</td>\n",
       "      <td>NaN</td>\n",
       "      <td>1.0</td>\n",
       "      <td>1.0</td>\n",
       "      <td>11.0</td>\n",
       "    </tr>\n",
       "    <tr>\n",
       "      <th>FFD97A99CEBA</th>\n",
       "      <td>NaN</td>\n",
       "      <td>NaN</td>\n",
       "      <td>NaN</td>\n",
       "      <td>1.0</td>\n",
       "      <td>NaN</td>\n",
       "      <td>NaN</td>\n",
       "      <td>NaN</td>\n",
       "      <td>1.0</td>\n",
       "    </tr>\n",
       "    <tr>\n",
       "      <th>FFF868E06176</th>\n",
       "      <td>3.0</td>\n",
       "      <td>1.0</td>\n",
       "      <td>NaN</td>\n",
       "      <td>3.0</td>\n",
       "      <td>1.0</td>\n",
       "      <td>1.0</td>\n",
       "      <td>NaN</td>\n",
       "      <td>9.0</td>\n",
       "    </tr>\n",
       "    <tr>\n",
       "      <th>FFFF80B8CC2F</th>\n",
       "      <td>NaN</td>\n",
       "      <td>NaN</td>\n",
       "      <td>NaN</td>\n",
       "      <td>1.0</td>\n",
       "      <td>NaN</td>\n",
       "      <td>NaN</td>\n",
       "      <td>NaN</td>\n",
       "      <td>1.0</td>\n",
       "    </tr>\n",
       "  </tbody>\n",
       "</table>\n",
       "<p>4191 rows × 8 columns</p>\n",
       "</div>"
      ],
      "text/plain": [
       "discourse_type  Claim  Concluding Statement  Counterclaim  Evidence  Lead  \\\n",
       "essay_id                                                                    \n",
       "00066EA9880D      3.0                   1.0           NaN       3.0   1.0   \n",
       "000E6DE9E817      5.0                   1.0           1.0       3.0   NaN   \n",
       "0016926B079C      7.0                   NaN           NaN       3.0   NaN   \n",
       "00203C45FC55      1.0                   1.0           3.0       3.0   1.0   \n",
       "0029F4D19C3F      2.0                   1.0           1.0       2.0   1.0   \n",
       "...               ...                   ...           ...       ...   ...   \n",
       "FFA381E58FC6      2.0                   1.0           NaN       1.0   NaN   \n",
       "FFC43F453EF6      4.0                   1.0           3.0       1.0   NaN   \n",
       "FFD97A99CEBA      NaN                   NaN           NaN       1.0   NaN   \n",
       "FFF868E06176      3.0                   1.0           NaN       3.0   1.0   \n",
       "FFFF80B8CC2F      NaN                   NaN           NaN       1.0   NaN   \n",
       "\n",
       "discourse_type  Position  Rebuttal  Total_Sum  \n",
       "essay_id                                       \n",
       "00066EA9880D         1.0       NaN        9.0  \n",
       "000E6DE9E817         1.0       1.0       12.0  \n",
       "0016926B079C         1.0       NaN       11.0  \n",
       "00203C45FC55         1.0       3.0       13.0  \n",
       "0029F4D19C3F         1.0       1.0        9.0  \n",
       "...                  ...       ...        ...  \n",
       "FFA381E58FC6         1.0       NaN        5.0  \n",
       "FFC43F453EF6         1.0       1.0       11.0  \n",
       "FFD97A99CEBA         NaN       NaN        1.0  \n",
       "FFF868E06176         1.0       NaN        9.0  \n",
       "FFFF80B8CC2F         NaN       NaN        1.0  \n",
       "\n",
       "[4191 rows x 8 columns]"
      ]
     },
     "execution_count": 36,
     "metadata": {},
     "output_type": "execute_result"
    }
   ],
   "source": [
    "discType_essayID = dataset_train.groupby([\"essay_id\"]).discourse_type.value_counts().to_frame()   # Contagem de \"discourse_type\" no training set para as \"essay_id\"\n",
    "discType_essayID.columns = [\"Contagem\"]\n",
    "discType_essayID.reset_index(drop=False, inplace=True)\n",
    "discType_essayID = discType_essayID.pivot(index=\"essay_id\", columns=\"discourse_type\").Contagem\n",
    "\n",
    "discType_essayID[\"Total_Sum\"] = discType_essayID.sum(axis=1)  # Cria uma nova coluna com a soma de cada count do discourse type em cada linha\n",
    "discType_essayID"
   ]
  },
  {
   "cell_type": "code",
   "execution_count": 35,
   "id": "f3282d88",
   "metadata": {},
   "outputs": [
    {
     "data": {
      "text/plain": [
       "8.772369362920545"
      ]
     },
     "execution_count": 35,
     "metadata": {},
     "output_type": "execute_result"
    }
   ],
   "source": [
    "discType_essayID.Total_Sum.mean()"
   ]
  },
  {
   "cell_type": "markdown",
   "id": "0f10c366",
   "metadata": {},
   "source": [
    "Analyzing the words, chars and sentences counts to see the relationship with the quality rating: "
   ]
  },
  {
   "cell_type": "code",
   "execution_count": 6,
   "id": "91c274d0",
   "metadata": {},
   "outputs": [],
   "source": [
    "dataset_train[\"discourse_text_numChars\"] = dataset_train.discourse_text.apply(lambda x: len(x))\n",
    "dataset_train[\"discourse_text_numWords\"] = dataset_train.discourse_text.apply(lambda x: len(x.split()))\n",
    "dataset_train[\"discourse_text_numSentences\"] = dataset_train.discourse_text.apply(lambda x: len(tokenize.sent_tokenize(x, language=\"english\")))    # Return a sentence-tokenized copy of text (split text into sentences)"
   ]
  },
  {
   "cell_type": "code",
   "execution_count": 38,
   "id": "080ed4d4",
   "metadata": {},
   "outputs": [
    {
     "data": {
      "image/png": "[encoded data removed]",
      "text/plain": [
       "<Figure size 432x288 with 1 Axes>"
      ]
     },
     "metadata": {},
     "output_type": "display_data"
    }
   ],
   "source": [
    "plt.hist(dataset_train[\"discourse_text_numWords\"], bins=100)\n",
    "plt.title(\"Words Count in the training set (Histogram)\", size = 16)\n",
    "plt.xlabel(\"Word Count\", size = 14)\n",
    "plt.show()"
   ]
  },
  {
   "cell_type": "code",
   "execution_count": 39,
   "id": "afc3609a",
   "metadata": {},
   "outputs": [
    {
     "data": {
      "image/png": "[encoded data removed]",
      "text/plain": [
       "<Figure size 432x288 with 1 Axes>"
      ]
     },
     "metadata": {},
     "output_type": "display_data"
    }
   ],
   "source": [
    "plt.hist(dataset_train[\"discourse_text_numChars\"], bins=100)\n",
    "plt.title(\"Chars Count in the training set (Histogram)\", size = 16)\n",
    "plt.xlabel(\"Chars Count\", size = 14)\n",
    "plt.show()"
   ]
  },
  {
   "cell_type": "code",
   "execution_count": 9,
   "id": "85e29d68",
   "metadata": {},
   "outputs": [
    {
     "data": {
      "text/plain": [
       "Text(0.5, 0, 'Word Count')"
      ]
     },
     "execution_count": 9,
     "metadata": {},
     "output_type": "execute_result"
    },
    {
     "data": {
      "image/png": "[encoded data removed]",
      "text/plain": [
       "<Figure size 720x576 with 1 Axes>"
      ]
     },
     "metadata": {
      "needs_background": "light"
     },
     "output_type": "display_data"
    }
   ],
   "source": [
    "plt.figure(figsize=(10, 8))   \n",
    "ax = sns.boxplot(x=dataset_train[\"discourse_text_numWords\"])\n",
    "ax.set_title(\"Distribution of Words Count in the training set\", fontsize=20, weight='bold')\n",
    "plt.xlabel(\"Word Count\", fontsize=15)"
   ]
  },
  {
   "cell_type": "markdown",
   "id": "6c41ea39",
   "metadata": {},
   "source": [
    "It's possible to see that higher word counts tend to have better quality ratings:"
   ]
  },
  {
   "cell_type": "code",
   "execution_count": 40,
   "id": "1ce4894a",
   "metadata": {},
   "outputs": [
    {
     "data": {
      "text/plain": [
       "Text(0, 0.5, 'Word Count')"
      ]
     },
     "execution_count": 40,
     "metadata": {},
     "output_type": "execute_result"
    },
    {
     "data": {
      "image/png": "[encoded data removed]",
      "text/plain": [
       "<Figure size 1800x720 with 1 Axes>"
      ]
     },
     "metadata": {},
     "output_type": "display_data"
    }
   ],
   "source": [
    "plt.figure(figsize=(25, 10))   \n",
    "ax = sns.boxplot(x=\"discourse_type\", y=\"discourse_text_numWords\", hue=\"discourse_effectiveness\", data=dataset_train)\n",
    "#ax.tick_params(axis = \"x\", rotation = 45)\n",
    "ax.set_title(\"Word Count x Discourse type\", fontsize=20, weight='bold')\n",
    "plt.xlabel(\"Discourse Type\", fontsize=15)\n",
    "plt.ylabel(\"Word Count\", fontsize=15)"
   ]
  },
  {
   "cell_type": "markdown",
   "id": "398b812c",
   "metadata": {},
   "source": [
    "### Normalizing and tokenizing data to remove stopwords, lemmatization, removing special characters, etc."
   ]
  },
  {
   "cell_type": "code",
   "execution_count": 10,
   "id": "8d244e3e",
   "metadata": {},
   "outputs": [],
   "source": [
    "import text_normalizer as tn\n",
    "import model_evaluation_utils as meu"
   ]
  },
  {
   "cell_type": "markdown",
   "id": "068ffed0",
   "metadata": {},
   "source": [
    "Encoding the \"discourse_effectiveness\" to numbers as it will be our output (prediction class labels):"
   ]
  },
  {
   "cell_type": "code",
   "execution_count": 11,
   "id": "761633a4",
   "metadata": {},
   "outputs": [],
   "source": [
    "dataset_train[\"discourse_effectiveness_encode\"] = dataset_train.discourse_effectiveness.replace({\"Ineffective\": 0, \"Adequate\":1, \"Effective\": 2})"
   ]
  },
  {
   "cell_type": "markdown",
   "id": "b7c4fe5c",
   "metadata": {},
   "source": [
    "Concatenating the \"discourse_type\" with the \"discourse_text\" for the training and test set for our input (by concatenating, the algorithm will learn the features of discourse_text presented in each discourse_type)"
   ]
  },
  {
   "cell_type": "code",
   "execution_count": 15,
   "id": "4a2c1769",
   "metadata": {},
   "outputs": [],
   "source": [
    "dataset_train[\"inputs\"] = dataset_train.discourse_type + \" \" + dataset_train.discourse_text\n",
    "dataset_test[\"inputs\"] = dataset_test.discourse_type + \" \" + dataset_test.discourse_text"
   ]
  },
  {
   "cell_type": "code",
   "execution_count": 16,
   "id": "4004cc39",
   "metadata": {},
   "outputs": [
    {
     "data": {
      "text/html": [
       "<div>\n",
       "<style scoped>\n",
       "    .dataframe tbody tr th:only-of-type {\n",
       "        vertical-align: middle;\n",
       "    }\n",
       "\n",
       "    .dataframe tbody tr th {\n",
       "        vertical-align: top;\n",
       "    }\n",
       "\n",
       "    .dataframe thead th {\n",
       "        text-align: right;\n",
       "    }\n",
       "</style>\n",
       "<table border=\"1\" class=\"dataframe\">\n",
       "  <thead>\n",
       "    <tr style=\"text-align: right;\">\n",
       "      <th></th>\n",
       "      <th>discourse_id</th>\n",
       "      <th>essay_id</th>\n",
       "      <th>discourse_text</th>\n",
       "      <th>discourse_type</th>\n",
       "      <th>discourse_effectiveness</th>\n",
       "      <th>discourse_text_numChars</th>\n",
       "      <th>discourse_text_numWords</th>\n",
       "      <th>discourse_text_numSentences</th>\n",
       "      <th>discourse_effectiveness_encode</th>\n",
       "      <th>inputs</th>\n",
       "    </tr>\n",
       "  </thead>\n",
       "  <tbody>\n",
       "    <tr>\n",
       "      <th>0</th>\n",
       "      <td>0013cc385424</td>\n",
       "      <td>007ACE74B050</td>\n",
       "      <td>Hi, i'm Isaac, i'm going to be writing about h...</td>\n",
       "      <td>Lead</td>\n",
       "      <td>Adequate</td>\n",
       "      <td>317</td>\n",
       "      <td>67</td>\n",
       "      <td>3</td>\n",
       "      <td>1</td>\n",
       "      <td>Lead Hi, i'm Isaac, i'm going to be writing ab...</td>\n",
       "    </tr>\n",
       "    <tr>\n",
       "      <th>1</th>\n",
       "      <td>9704a709b505</td>\n",
       "      <td>007ACE74B050</td>\n",
       "      <td>On my perspective, I think that the face is a ...</td>\n",
       "      <td>Position</td>\n",
       "      <td>Adequate</td>\n",
       "      <td>210</td>\n",
       "      <td>41</td>\n",
       "      <td>2</td>\n",
       "      <td>1</td>\n",
       "      <td>Position On my perspective, I think that the f...</td>\n",
       "    </tr>\n",
       "    <tr>\n",
       "      <th>2</th>\n",
       "      <td>c22adee811b6</td>\n",
       "      <td>007ACE74B050</td>\n",
       "      <td>I think that the face is a natural landform be...</td>\n",
       "      <td>Claim</td>\n",
       "      <td>Adequate</td>\n",
       "      <td>105</td>\n",
       "      <td>21</td>\n",
       "      <td>1</td>\n",
       "      <td>1</td>\n",
       "      <td>Claim I think that the face is a natural landf...</td>\n",
       "    </tr>\n",
       "  </tbody>\n",
       "</table>\n",
       "</div>"
      ],
      "text/plain": [
       "   discourse_id      essay_id  \\\n",
       "0  0013cc385424  007ACE74B050   \n",
       "1  9704a709b505  007ACE74B050   \n",
       "2  c22adee811b6  007ACE74B050   \n",
       "\n",
       "                                      discourse_text discourse_type  \\\n",
       "0  Hi, i'm Isaac, i'm going to be writing about h...           Lead   \n",
       "1  On my perspective, I think that the face is a ...       Position   \n",
       "2  I think that the face is a natural landform be...          Claim   \n",
       "\n",
       "  discourse_effectiveness  discourse_text_numChars  discourse_text_numWords  \\\n",
       "0                Adequate                      317                       67   \n",
       "1                Adequate                      210                       41   \n",
       "2                Adequate                      105                       21   \n",
       "\n",
       "   discourse_text_numSentences  discourse_effectiveness_encode  \\\n",
       "0                            3                               1   \n",
       "1                            2                               1   \n",
       "2                            1                               1   \n",
       "\n",
       "                                              inputs  \n",
       "0  Lead Hi, i'm Isaac, i'm going to be writing ab...  \n",
       "1  Position On my perspective, I think that the f...  \n",
       "2  Claim I think that the face is a natural landf...  "
      ]
     },
     "execution_count": 16,
     "metadata": {},
     "output_type": "execute_result"
    }
   ],
   "source": [
    "dataset_train.head(3)"
   ]
  },
  {
   "cell_type": "markdown",
   "id": "76ae1536",
   "metadata": {},
   "source": [
    "Passing the dataframes to Numpy arrays:"
   ]
  },
  {
   "cell_type": "code",
   "execution_count": null,
   "id": "a17b5dd7",
   "metadata": {},
   "outputs": [],
   "source": [
    "train_inputs = np.array(dataset_train[\"inputs\"])\n",
    "test_inputs = np.array(dataset_test[\"inputs\"])"
   ]
  },
  {
   "cell_type": "code",
   "execution_count": null,
   "id": "69f9d350",
   "metadata": {},
   "outputs": [],
   "source": []
  }
 ],
 "metadata": {
  "kernelspec": {
   "display_name": "Python 3 (ipykernel)",
   "language": "python",
   "name": "python3"
  },
  "language_info": {
   "codemirror_mode": {
    "name": "ipython",
    "version": 3
   },
   "file_extension": ".py",
   "mimetype": "text/x-python",
   "name": "python",
   "nbconvert_exporter": "python",
   "pygments_lexer": "ipython3",
   "version": "3.9.12"
  }
 },
 "nbformat": 4,
 "nbformat_minor": 5
}
