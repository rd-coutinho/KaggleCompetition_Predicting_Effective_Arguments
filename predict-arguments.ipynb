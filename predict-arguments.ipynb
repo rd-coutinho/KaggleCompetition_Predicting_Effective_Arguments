{
 "cells": [
  {
   "cell_type": "markdown",
   "id": "801ebac7",
   "metadata": {
    "papermill": {
     "duration": 0.019123,
     "end_time": "2022-07-30T21:44:17.884785",
     "exception": false,
     "start_time": "2022-07-30T21:44:17.865662",
     "status": "completed"
    },
    "tags": []
   },
   "source": [
    "# **Solution for the Kaggle's Competition \"Feedback Prize - Predicting Effective Arguments\"**"
   ]
  },
  {
   "cell_type": "markdown",
   "id": "b327ae42",
   "metadata": {
    "papermill": {
     "duration": 0.017209,
     "end_time": "2022-07-30T21:44:17.919512",
     "exception": false,
     "start_time": "2022-07-30T21:44:17.902303",
     "status": "completed"
    },
    "tags": []
   },
   "source": [
    "Solution for the Kaggle competition \"Feedback Prize - Predicting Effective Arguments - Rate the effectiveness of argumentative writing elements from students grade 6-12\". The goal of this competition is to classify argumentative elements in student writing as \"effective\", \"adequate\" or \"ineffective\" creating a model using data that is representative of the 6th-12th grade population in the United States. The purpose is to provide students enhanced feedback on their argumentative writing with automated guidance using machine learning.\n",
    "\n",
    "For this competition I will use a Long Short Term Memory network (LSTM) so we can consider all the sequence of data to make the classifications."
   ]
  },
  {
   "cell_type": "markdown",
   "id": "640ad523",
   "metadata": {
    "papermill": {
     "duration": 0.018182,
     "end_time": "2022-07-30T21:44:17.955328",
     "exception": false,
     "start_time": "2022-07-30T21:44:17.937146",
     "status": "completed"
    },
    "tags": []
   },
   "source": [
    "**Importing the necessary libraries**"
   ]
  },
  {
   "cell_type": "code",
   "execution_count": 1,
   "id": "53ad6c39",
   "metadata": {
    "execution": {
     "iopub.execute_input": "2022-07-30T21:44:17.992753Z",
     "iopub.status.busy": "2022-07-30T21:44:17.991709Z",
     "iopub.status.idle": "2022-07-30T21:44:59.745781Z",
     "shell.execute_reply": "2022-07-30T21:44:59.744802Z"
    },
    "papermill": {
     "duration": 41.79421,
     "end_time": "2022-07-30T21:44:59.767100",
     "exception": false,
     "start_time": "2022-07-30T21:44:17.972890",
     "status": "completed"
    },
    "tags": []
   },
   "outputs": [
    {
     "name": "stderr",
     "output_type": "stream",
     "text": [
      "[nltk_data] Error loading stopwords: <urlopen error [Errno -3]\n",
      "[nltk_data]     Temporary failure in name resolution>\n",
      "[nltk_data] Error loading punkt: <urlopen error [Errno -3] Temporary\n",
      "[nltk_data]     failure in name resolution>\n"
     ]
    }
   ],
   "source": [
    "import pandas as pd\n",
    "import numpy as np\n",
    "import matplotlib.pyplot as plt\n",
    "import seaborn as sns\n",
    "import re\n",
    "import nltk\n",
    "\n",
    "nltk.download('stopwords')\n",
    "nltk.download('punkt')\n",
    "from nltk.corpus import stopwords\n",
    "from nltk.stem.porter import PorterStemmer\n",
    "from nltk import tokenize\n",
    "from sklearn.feature_extraction.text import CountVectorizer\n",
    "from sklearn.naive_bayes import GaussianNB\n",
    "from sklearn.metrics import confusion_matrix, accuracy_score"
   ]
  },
  {
   "cell_type": "markdown",
   "id": "47b50cd3",
   "metadata": {
    "papermill": {
     "duration": 0.017255,
     "end_time": "2022-07-30T21:44:59.802946",
     "exception": false,
     "start_time": "2022-07-30T21:44:59.785691",
     "status": "completed"
    },
    "tags": []
   },
   "source": [
    "**Loading the training and test datasets**"
   ]
  },
  {
   "cell_type": "code",
   "execution_count": 2,
   "id": "441de341",
   "metadata": {
    "execution": {
     "iopub.execute_input": "2022-07-30T21:44:59.841409Z",
     "iopub.status.busy": "2022-07-30T21:44:59.841081Z",
     "iopub.status.idle": "2022-07-30T21:45:00.141448Z",
     "shell.execute_reply": "2022-07-30T21:45:00.140512Z"
    },
    "papermill": {
     "duration": 0.322559,
     "end_time": "2022-07-30T21:45:00.143850",
     "exception": false,
     "start_time": "2022-07-30T21:44:59.821291",
     "status": "completed"
    },
    "tags": []
   },
   "outputs": [],
   "source": [
    "dataset_test = pd.read_csv(\"/kaggle/input/feedback-prize-effectiveness/test.csv\")\n",
    "dataset_train = pd.read_csv(\"/kaggle/input/feedback-prize-effectiveness/train.csv\")"
   ]
  },
  {
   "cell_type": "markdown",
   "id": "f924db01",
   "metadata": {
    "papermill": {
     "duration": 0.017811,
     "end_time": "2022-07-30T21:45:00.179969",
     "exception": false,
     "start_time": "2022-07-30T21:45:00.162158",
     "status": "completed"
    },
    "tags": []
   },
   "source": [
    "**Exploring and analysing the training set (EDA - Exploratory Data Analysis)**"
   ]
  },
  {
   "cell_type": "code",
   "execution_count": 3,
   "id": "135b7d1a",
   "metadata": {
    "execution": {
     "iopub.execute_input": "2022-07-30T21:45:00.218236Z",
     "iopub.status.busy": "2022-07-30T21:45:00.216765Z",
     "iopub.status.idle": "2022-07-30T21:45:00.236049Z",
     "shell.execute_reply": "2022-07-30T21:45:00.235052Z"
    },
    "papermill": {
     "duration": 0.040742,
     "end_time": "2022-07-30T21:45:00.238430",
     "exception": false,
     "start_time": "2022-07-30T21:45:00.197688",
     "status": "completed"
    },
    "tags": []
   },
   "outputs": [
    {
     "data": {
      "text/html": [
       "<div>\n",
       "<style scoped>\n",
       "    .dataframe tbody tr th:only-of-type {\n",
       "        vertical-align: middle;\n",
       "    }\n",
       "\n",
       "    .dataframe tbody tr th {\n",
       "        vertical-align: top;\n",
       "    }\n",
       "\n",
       "    .dataframe thead th {\n",
       "        text-align: right;\n",
       "    }\n",
       "</style>\n",
       "<table border=\"1\" class=\"dataframe\">\n",
       "  <thead>\n",
       "    <tr style=\"text-align: right;\">\n",
       "      <th></th>\n",
       "      <th>discourse_id</th>\n",
       "      <th>essay_id</th>\n",
       "      <th>discourse_text</th>\n",
       "      <th>discourse_type</th>\n",
       "      <th>discourse_effectiveness</th>\n",
       "    </tr>\n",
       "  </thead>\n",
       "  <tbody>\n",
       "    <tr>\n",
       "      <th>0</th>\n",
       "      <td>0013cc385424</td>\n",
       "      <td>007ACE74B050</td>\n",
       "      <td>Hi, i'm Isaac, i'm going to be writing about h...</td>\n",
       "      <td>Lead</td>\n",
       "      <td>Adequate</td>\n",
       "    </tr>\n",
       "    <tr>\n",
       "      <th>1</th>\n",
       "      <td>9704a709b505</td>\n",
       "      <td>007ACE74B050</td>\n",
       "      <td>On my perspective, I think that the face is a ...</td>\n",
       "      <td>Position</td>\n",
       "      <td>Adequate</td>\n",
       "    </tr>\n",
       "    <tr>\n",
       "      <th>2</th>\n",
       "      <td>c22adee811b6</td>\n",
       "      <td>007ACE74B050</td>\n",
       "      <td>I think that the face is a natural landform be...</td>\n",
       "      <td>Claim</td>\n",
       "      <td>Adequate</td>\n",
       "    </tr>\n",
       "    <tr>\n",
       "      <th>3</th>\n",
       "      <td>a10d361e54e4</td>\n",
       "      <td>007ACE74B050</td>\n",
       "      <td>If life was on Mars, we would know by now. The...</td>\n",
       "      <td>Evidence</td>\n",
       "      <td>Adequate</td>\n",
       "    </tr>\n",
       "    <tr>\n",
       "      <th>4</th>\n",
       "      <td>db3e453ec4e2</td>\n",
       "      <td>007ACE74B050</td>\n",
       "      <td>People thought that the face was formed by ali...</td>\n",
       "      <td>Counterclaim</td>\n",
       "      <td>Adequate</td>\n",
       "    </tr>\n",
       "  </tbody>\n",
       "</table>\n",
       "</div>"
      ],
      "text/plain": [
       "   discourse_id      essay_id  \\\n",
       "0  0013cc385424  007ACE74B050   \n",
       "1  9704a709b505  007ACE74B050   \n",
       "2  c22adee811b6  007ACE74B050   \n",
       "3  a10d361e54e4  007ACE74B050   \n",
       "4  db3e453ec4e2  007ACE74B050   \n",
       "\n",
       "                                      discourse_text discourse_type  \\\n",
       "0  Hi, i'm Isaac, i'm going to be writing about h...           Lead   \n",
       "1  On my perspective, I think that the face is a ...       Position   \n",
       "2  I think that the face is a natural landform be...          Claim   \n",
       "3  If life was on Mars, we would know by now. The...       Evidence   \n",
       "4  People thought that the face was formed by ali...   Counterclaim   \n",
       "\n",
       "  discourse_effectiveness  \n",
       "0                Adequate  \n",
       "1                Adequate  \n",
       "2                Adequate  \n",
       "3                Adequate  \n",
       "4                Adequate  "
      ]
     },
     "execution_count": 3,
     "metadata": {},
     "output_type": "execute_result"
    }
   ],
   "source": [
    "dataset_train.head(5)"
   ]
  },
  {
   "cell_type": "markdown",
   "id": "3eeeb957",
   "metadata": {
    "papermill": {
     "duration": 0.017408,
     "end_time": "2022-07-30T21:45:00.273992",
     "exception": false,
     "start_time": "2022-07-30T21:45:00.256584",
     "status": "completed"
    },
    "tags": []
   },
   "source": [
    "We can see that the training set has no missing values, since all the columns has 36765 values being strings."
   ]
  },
  {
   "cell_type": "code",
   "execution_count": 4,
   "id": "b1e304a5",
   "metadata": {
    "execution": {
     "iopub.execute_input": "2022-07-30T21:45:00.310703Z",
     "iopub.status.busy": "2022-07-30T21:45:00.310382Z",
     "iopub.status.idle": "2022-07-30T21:45:00.348997Z",
     "shell.execute_reply": "2022-07-30T21:45:00.348029Z"
    },
    "papermill": {
     "duration": 0.059253,
     "end_time": "2022-07-30T21:45:00.350903",
     "exception": false,
     "start_time": "2022-07-30T21:45:00.291650",
     "status": "completed"
    },
    "tags": []
   },
   "outputs": [
    {
     "name": "stdout",
     "output_type": "stream",
     "text": [
      "<class 'pandas.core.frame.DataFrame'>\n",
      "RangeIndex: 36765 entries, 0 to 36764\n",
      "Data columns (total 5 columns):\n",
      " #   Column                   Non-Null Count  Dtype \n",
      "---  ------                   --------------  ----- \n",
      " 0   discourse_id             36765 non-null  object\n",
      " 1   essay_id                 36765 non-null  object\n",
      " 2   discourse_text           36765 non-null  object\n",
      " 3   discourse_type           36765 non-null  object\n",
      " 4   discourse_effectiveness  36765 non-null  object\n",
      "dtypes: object(5)\n",
      "memory usage: 1.4+ MB\n"
     ]
    }
   ],
   "source": [
    "dataset_train.info() "
   ]
  },
  {
   "cell_type": "markdown",
   "id": "d60bc512",
   "metadata": {
    "papermill": {
     "duration": 0.017707,
     "end_time": "2022-07-30T21:45:00.387442",
     "exception": false,
     "start_time": "2022-07-30T21:45:00.369735",
     "status": "completed"
    },
    "tags": []
   },
   "source": [
    "The unique values of \"discourse_id\" (36765) is differente compared to \"discourse_text\" (36691), indicating that there are duplicate values (assuming that for each discourse id, there is a unique discourse text associated)."
   ]
  },
  {
   "cell_type": "code",
   "execution_count": 5,
   "id": "7c229415",
   "metadata": {
    "execution": {
     "iopub.execute_input": "2022-07-30T21:45:00.425045Z",
     "iopub.status.busy": "2022-07-30T21:45:00.424502Z",
     "iopub.status.idle": "2022-07-30T21:45:00.509436Z",
     "shell.execute_reply": "2022-07-30T21:45:00.508448Z"
    },
    "papermill": {
     "duration": 0.10646,
     "end_time": "2022-07-30T21:45:00.511675",
     "exception": false,
     "start_time": "2022-07-30T21:45:00.405215",
     "status": "completed"
    },
    "tags": []
   },
   "outputs": [
    {
     "data": {
      "text/html": [
       "<div>\n",
       "<style scoped>\n",
       "    .dataframe tbody tr th:only-of-type {\n",
       "        vertical-align: middle;\n",
       "    }\n",
       "\n",
       "    .dataframe tbody tr th {\n",
       "        vertical-align: top;\n",
       "    }\n",
       "\n",
       "    .dataframe thead th {\n",
       "        text-align: right;\n",
       "    }\n",
       "</style>\n",
       "<table border=\"1\" class=\"dataframe\">\n",
       "  <thead>\n",
       "    <tr style=\"text-align: right;\">\n",
       "      <th></th>\n",
       "      <th>discourse_id</th>\n",
       "      <th>essay_id</th>\n",
       "      <th>discourse_text</th>\n",
       "      <th>discourse_type</th>\n",
       "      <th>discourse_effectiveness</th>\n",
       "    </tr>\n",
       "  </thead>\n",
       "  <tbody>\n",
       "    <tr>\n",
       "      <th>count</th>\n",
       "      <td>36765</td>\n",
       "      <td>36765</td>\n",
       "      <td>36765</td>\n",
       "      <td>36765</td>\n",
       "      <td>36765</td>\n",
       "    </tr>\n",
       "    <tr>\n",
       "      <th>unique</th>\n",
       "      <td>36765</td>\n",
       "      <td>4191</td>\n",
       "      <td>36691</td>\n",
       "      <td>7</td>\n",
       "      <td>3</td>\n",
       "    </tr>\n",
       "    <tr>\n",
       "      <th>top</th>\n",
       "      <td>0013cc385424</td>\n",
       "      <td>91B1F82B2CF1</td>\n",
       "      <td>Summer projects should be student-designed</td>\n",
       "      <td>Evidence</td>\n",
       "      <td>Adequate</td>\n",
       "    </tr>\n",
       "    <tr>\n",
       "      <th>freq</th>\n",
       "      <td>1</td>\n",
       "      <td>23</td>\n",
       "      <td>14</td>\n",
       "      <td>12105</td>\n",
       "      <td>20977</td>\n",
       "    </tr>\n",
       "  </tbody>\n",
       "</table>\n",
       "</div>"
      ],
      "text/plain": [
       "        discourse_id      essay_id  \\\n",
       "count          36765         36765   \n",
       "unique         36765          4191   \n",
       "top     0013cc385424  91B1F82B2CF1   \n",
       "freq               1            23   \n",
       "\n",
       "                                     discourse_text discourse_type  \\\n",
       "count                                         36765          36765   \n",
       "unique                                        36691              7   \n",
       "top     Summer projects should be student-designed        Evidence   \n",
       "freq                                             14          12105   \n",
       "\n",
       "       discourse_effectiveness  \n",
       "count                    36765  \n",
       "unique                       3  \n",
       "top                   Adequate  \n",
       "freq                     20977  "
      ]
     },
     "execution_count": 5,
     "metadata": {},
     "output_type": "execute_result"
    }
   ],
   "source": [
    "dataset_train.describe()"
   ]
  },
  {
   "cell_type": "markdown",
   "id": "83af077c",
   "metadata": {
    "papermill": {
     "duration": 0.017717,
     "end_time": "2022-07-30T21:45:00.547418",
     "exception": false,
     "start_time": "2022-07-30T21:45:00.529701",
     "status": "completed"
    },
    "tags": []
   },
   "source": [
    "Here we can see all the duplicate results with also different \"discourse_effectiveness\" for a same \"discourse_text\"."
   ]
  },
  {
   "cell_type": "code",
   "execution_count": 6,
   "id": "bc212958",
   "metadata": {
    "execution": {
     "iopub.execute_input": "2022-07-30T21:45:00.584705Z",
     "iopub.status.busy": "2022-07-30T21:45:00.584412Z",
     "iopub.status.idle": "2022-07-30T21:45:00.602788Z",
     "shell.execute_reply": "2022-07-30T21:45:00.601858Z"
    },
    "papermill": {
     "duration": 0.039388,
     "end_time": "2022-07-30T21:45:00.604688",
     "exception": false,
     "start_time": "2022-07-30T21:45:00.565300",
     "status": "completed"
    },
    "tags": []
   },
   "outputs": [
    {
     "data": {
      "text/html": [
       "<div>\n",
       "<style scoped>\n",
       "    .dataframe tbody tr th:only-of-type {\n",
       "        vertical-align: middle;\n",
       "    }\n",
       "\n",
       "    .dataframe tbody tr th {\n",
       "        vertical-align: top;\n",
       "    }\n",
       "\n",
       "    .dataframe thead th {\n",
       "        text-align: right;\n",
       "    }\n",
       "</style>\n",
       "<table border=\"1\" class=\"dataframe\">\n",
       "  <thead>\n",
       "    <tr style=\"text-align: right;\">\n",
       "      <th></th>\n",
       "      <th>discourse_id</th>\n",
       "      <th>essay_id</th>\n",
       "      <th>discourse_text</th>\n",
       "      <th>discourse_type</th>\n",
       "      <th>discourse_effectiveness</th>\n",
       "    </tr>\n",
       "  </thead>\n",
       "  <tbody>\n",
       "    <tr>\n",
       "      <th>26691</th>\n",
       "      <td>7f9c3500259d</td>\n",
       "      <td>A602D45D22B2</td>\n",
       "      <td>\"That's a lava dome that takes the form of an ...</td>\n",
       "      <td>Evidence</td>\n",
       "      <td>Adequate</td>\n",
       "    </tr>\n",
       "    <tr>\n",
       "      <th>27350</th>\n",
       "      <td>d628a6adda3a</td>\n",
       "      <td>ADB68BCD2874</td>\n",
       "      <td>\"That's a lava dome that takes the form of an ...</td>\n",
       "      <td>Evidence</td>\n",
       "      <td>Adequate</td>\n",
       "    </tr>\n",
       "    <tr>\n",
       "      <th>25391</th>\n",
       "      <td>781452d9404c</td>\n",
       "      <td>942ECB176B3A</td>\n",
       "      <td>At the most basic level, the electoral college...</td>\n",
       "      <td>Position</td>\n",
       "      <td>Adequate</td>\n",
       "    </tr>\n",
       "    <tr>\n",
       "      <th>28835</th>\n",
       "      <td>6fa171a95540</td>\n",
       "      <td>C2BAF4ADA2CA</td>\n",
       "      <td>At the most basic level, the electoral college...</td>\n",
       "      <td>Claim</td>\n",
       "      <td>Adequate</td>\n",
       "    </tr>\n",
       "    <tr>\n",
       "      <th>28436</th>\n",
       "      <td>9e12ec699196</td>\n",
       "      <td>BB3A6C2D0B65</td>\n",
       "      <td>Big States</td>\n",
       "      <td>Claim</td>\n",
       "      <td>Adequate</td>\n",
       "    </tr>\n",
       "    <tr>\n",
       "      <th>...</th>\n",
       "      <td>...</td>\n",
       "      <td>...</td>\n",
       "      <td>...</td>\n",
       "      <td>...</td>\n",
       "      <td>...</td>\n",
       "    </tr>\n",
       "    <tr>\n",
       "      <th>27033</th>\n",
       "      <td>f6b2d34d9c01</td>\n",
       "      <td>A98E8EFFC8A9</td>\n",
       "      <td>the technology failing</td>\n",
       "      <td>Claim</td>\n",
       "      <td>Adequate</td>\n",
       "    </tr>\n",
       "    <tr>\n",
       "      <th>35488</th>\n",
       "      <td>bcdb6e47ede3</td>\n",
       "      <td>AB8EFBD82820</td>\n",
       "      <td>you can help others.</td>\n",
       "      <td>Claim</td>\n",
       "      <td>Ineffective</td>\n",
       "    </tr>\n",
       "    <tr>\n",
       "      <th>35493</th>\n",
       "      <td>98510222f9b8</td>\n",
       "      <td>AB8EFBD82820</td>\n",
       "      <td>you can help others.</td>\n",
       "      <td>Claim</td>\n",
       "      <td>Adequate</td>\n",
       "    </tr>\n",
       "    <tr>\n",
       "      <th>4788</th>\n",
       "      <td>d068e2c646e8</td>\n",
       "      <td>56C6D97AF40B</td>\n",
       "      <td>you get to see the world</td>\n",
       "      <td>Claim</td>\n",
       "      <td>Adequate</td>\n",
       "    </tr>\n",
       "    <tr>\n",
       "      <th>13836</th>\n",
       "      <td>684c68931d56</td>\n",
       "      <td>F7D1D884AAD4</td>\n",
       "      <td>you get to see the world</td>\n",
       "      <td>Claim</td>\n",
       "      <td>Adequate</td>\n",
       "    </tr>\n",
       "  </tbody>\n",
       "</table>\n",
       "<p>119 rows × 5 columns</p>\n",
       "</div>"
      ],
      "text/plain": [
       "       discourse_id      essay_id  \\\n",
       "26691  7f9c3500259d  A602D45D22B2   \n",
       "27350  d628a6adda3a  ADB68BCD2874   \n",
       "25391  781452d9404c  942ECB176B3A   \n",
       "28835  6fa171a95540  C2BAF4ADA2CA   \n",
       "28436  9e12ec699196  BB3A6C2D0B65   \n",
       "...             ...           ...   \n",
       "27033  f6b2d34d9c01  A98E8EFFC8A9   \n",
       "35488  bcdb6e47ede3  AB8EFBD82820   \n",
       "35493  98510222f9b8  AB8EFBD82820   \n",
       "4788   d068e2c646e8  56C6D97AF40B   \n",
       "13836  684c68931d56  F7D1D884AAD4   \n",
       "\n",
       "                                          discourse_text discourse_type  \\\n",
       "26691  \"That's a lava dome that takes the form of an ...       Evidence   \n",
       "27350  \"That's a lava dome that takes the form of an ...       Evidence   \n",
       "25391  At the most basic level, the electoral college...       Position   \n",
       "28835  At the most basic level, the electoral college...          Claim   \n",
       "28436                                        Big States           Claim   \n",
       "...                                                  ...            ...   \n",
       "27033                            the technology failing           Claim   \n",
       "35488                              you can help others.           Claim   \n",
       "35493                              you can help others.           Claim   \n",
       "4788                           you get to see the world           Claim   \n",
       "13836                          you get to see the world           Claim   \n",
       "\n",
       "      discourse_effectiveness  \n",
       "26691                Adequate  \n",
       "27350                Adequate  \n",
       "25391                Adequate  \n",
       "28835                Adequate  \n",
       "28436                Adequate  \n",
       "...                       ...  \n",
       "27033                Adequate  \n",
       "35488             Ineffective  \n",
       "35493                Adequate  \n",
       "4788                 Adequate  \n",
       "13836                Adequate  \n",
       "\n",
       "[119 rows x 5 columns]"
      ]
     },
     "execution_count": 6,
     "metadata": {},
     "output_type": "execute_result"
    }
   ],
   "source": [
    "duplicadas_geral = dataset_train[dataset_train.discourse_text.duplicated(keep=False)].sort_values(by=\"discourse_text\")\n",
    "duplicadas_geral"
   ]
  },
  {
   "cell_type": "markdown",
   "id": "cde3a758",
   "metadata": {
    "papermill": {
     "duration": 0.018927,
     "end_time": "2022-07-30T21:45:00.642408",
     "exception": false,
     "start_time": "2022-07-30T21:45:00.623481",
     "status": "completed"
    },
    "tags": []
   },
   "source": [
    "There's a total of 11 duplicated discourse texts with differente \"discourse effectiveness\"."
   ]
  },
  {
   "cell_type": "code",
   "execution_count": 7,
   "id": "dcf8cb34",
   "metadata": {
    "execution": {
     "iopub.execute_input": "2022-07-30T21:45:00.681922Z",
     "iopub.status.busy": "2022-07-30T21:45:00.680367Z",
     "iopub.status.idle": "2022-07-30T21:45:00.698564Z",
     "shell.execute_reply": "2022-07-30T21:45:00.697652Z"
    },
    "papermill": {
     "duration": 0.039892,
     "end_time": "2022-07-30T21:45:00.700542",
     "exception": false,
     "start_time": "2022-07-30T21:45:00.660650",
     "status": "completed"
    },
    "tags": []
   },
   "outputs": [
    {
     "data": {
      "text/html": [
       "<div>\n",
       "<style scoped>\n",
       "    .dataframe tbody tr th:only-of-type {\n",
       "        vertical-align: middle;\n",
       "    }\n",
       "\n",
       "    .dataframe tbody tr th {\n",
       "        vertical-align: top;\n",
       "    }\n",
       "\n",
       "    .dataframe thead th {\n",
       "        text-align: right;\n",
       "    }\n",
       "</style>\n",
       "<table border=\"1\" class=\"dataframe\">\n",
       "  <thead>\n",
       "    <tr style=\"text-align: right;\">\n",
       "      <th></th>\n",
       "      <th>discourse_type</th>\n",
       "      <th>discourse_text</th>\n",
       "      <th>discourse_effectiveness_nonUnique</th>\n",
       "    </tr>\n",
       "  </thead>\n",
       "  <tbody>\n",
       "    <tr>\n",
       "      <th>0</th>\n",
       "      <td>Claim</td>\n",
       "      <td>opinions,</td>\n",
       "      <td>2</td>\n",
       "    </tr>\n",
       "    <tr>\n",
       "      <th>1</th>\n",
       "      <td>Claim</td>\n",
       "      <td>Second, there could be a tie in the electoral ...</td>\n",
       "      <td>2</td>\n",
       "    </tr>\n",
       "    <tr>\n",
       "      <th>2</th>\n",
       "      <td>Claim</td>\n",
       "      <td>The Electoral College is unfair</td>\n",
       "      <td>2</td>\n",
       "    </tr>\n",
       "    <tr>\n",
       "      <th>3</th>\n",
       "      <td>Lead</td>\n",
       "      <td>When people ask for advice, they sometimes tal...</td>\n",
       "      <td>2</td>\n",
       "    </tr>\n",
       "    <tr>\n",
       "      <th>4</th>\n",
       "      <td>Claim</td>\n",
       "      <td>Big States</td>\n",
       "      <td>2</td>\n",
       "    </tr>\n",
       "    <tr>\n",
       "      <th>5</th>\n",
       "      <td>Position</td>\n",
       "      <td>I would want to keep the Electoral College</td>\n",
       "      <td>2</td>\n",
       "    </tr>\n",
       "    <tr>\n",
       "      <th>6</th>\n",
       "      <td>Claim</td>\n",
       "      <td>you can help others.</td>\n",
       "      <td>2</td>\n",
       "    </tr>\n",
       "    <tr>\n",
       "      <th>7</th>\n",
       "      <td>Claim</td>\n",
       "      <td>be creative,</td>\n",
       "      <td>2</td>\n",
       "    </tr>\n",
       "    <tr>\n",
       "      <th>8</th>\n",
       "      <td>Position</td>\n",
       "      <td>The author suggest that studying Venus is a wo...</td>\n",
       "      <td>2</td>\n",
       "    </tr>\n",
       "    <tr>\n",
       "      <th>9</th>\n",
       "      <td>Position</td>\n",
       "      <td>Seeking multiple opinions can help someone mak...</td>\n",
       "      <td>2</td>\n",
       "    </tr>\n",
       "    <tr>\n",
       "      <th>10</th>\n",
       "      <td>Counterclaim</td>\n",
       "      <td>Opponents say that cell phones are good becaus...</td>\n",
       "      <td>2</td>\n",
       "    </tr>\n",
       "  </tbody>\n",
       "</table>\n",
       "</div>"
      ],
      "text/plain": [
       "   discourse_type                                     discourse_text  \\\n",
       "0           Claim                                         opinions,    \n",
       "1           Claim  Second, there could be a tie in the electoral ...   \n",
       "2           Claim                   The Electoral College is unfair    \n",
       "3            Lead  When people ask for advice, they sometimes tal...   \n",
       "4           Claim                                        Big States    \n",
       "5        Position        I would want to keep the Electoral College    \n",
       "6           Claim                              you can help others.    \n",
       "7           Claim                                      be creative,    \n",
       "8        Position  The author suggest that studying Venus is a wo...   \n",
       "9        Position  Seeking multiple opinions can help someone mak...   \n",
       "10   Counterclaim  Opponents say that cell phones are good becaus...   \n",
       "\n",
       "    discourse_effectiveness_nonUnique  \n",
       "0                                   2  \n",
       "1                                   2  \n",
       "2                                   2  \n",
       "3                                   2  \n",
       "4                                   2  \n",
       "5                                   2  \n",
       "6                                   2  \n",
       "7                                   2  \n",
       "8                                   2  \n",
       "9                                   2  \n",
       "10                                  2  "
      ]
     },
     "execution_count": 7,
     "metadata": {},
     "output_type": "execute_result"
    }
   ],
   "source": [
    "duplicadas_analise = duplicadas_geral.groupby([\"discourse_type\", \"discourse_text\"]).discourse_effectiveness.nunique().to_frame().sort_values(by=\"discourse_effectiveness\", ascending=False)\n",
    "duplicadas_analise.columns = [\"discourse_effectiveness_nonUnique\"]\n",
    "duplicadas_analise = duplicadas_analise[duplicadas_analise.discourse_effectiveness_nonUnique > 1].reset_index(drop=False)  \n",
    "duplicadas_analise"
   ]
  },
  {
   "cell_type": "code",
   "execution_count": 8,
   "id": "e56881d5",
   "metadata": {
    "execution": {
     "iopub.execute_input": "2022-07-30T21:45:00.738921Z",
     "iopub.status.busy": "2022-07-30T21:45:00.738661Z",
     "iopub.status.idle": "2022-07-30T21:45:00.750265Z",
     "shell.execute_reply": "2022-07-30T21:45:00.749421Z"
    },
    "papermill": {
     "duration": 0.033074,
     "end_time": "2022-07-30T21:45:00.752167",
     "exception": false,
     "start_time": "2022-07-30T21:45:00.719093",
     "status": "completed"
    },
    "tags": []
   },
   "outputs": [
    {
     "data": {
      "text/html": [
       "<div>\n",
       "<style scoped>\n",
       "    .dataframe tbody tr th:only-of-type {\n",
       "        vertical-align: middle;\n",
       "    }\n",
       "\n",
       "    .dataframe tbody tr th {\n",
       "        vertical-align: top;\n",
       "    }\n",
       "\n",
       "    .dataframe thead th {\n",
       "        text-align: right;\n",
       "    }\n",
       "</style>\n",
       "<table border=\"1\" class=\"dataframe\">\n",
       "  <thead>\n",
       "    <tr style=\"text-align: right;\">\n",
       "      <th></th>\n",
       "      <th>discourse_id</th>\n",
       "      <th>essay_id</th>\n",
       "      <th>discourse_text</th>\n",
       "      <th>discourse_type</th>\n",
       "      <th>discourse_effectiveness</th>\n",
       "    </tr>\n",
       "  </thead>\n",
       "  <tbody>\n",
       "    <tr>\n",
       "      <th>28436</th>\n",
       "      <td>9e12ec699196</td>\n",
       "      <td>BB3A6C2D0B65</td>\n",
       "      <td>Big States</td>\n",
       "      <td>Claim</td>\n",
       "      <td>Adequate</td>\n",
       "    </tr>\n",
       "    <tr>\n",
       "      <th>20121</th>\n",
       "      <td>35bf70c4a673</td>\n",
       "      <td>4CA37D113612</td>\n",
       "      <td>Big States</td>\n",
       "      <td>Claim</td>\n",
       "      <td>Ineffective</td>\n",
       "    </tr>\n",
       "    <tr>\n",
       "      <th>20842</th>\n",
       "      <td>34b98386dc46</td>\n",
       "      <td>5729D5AE055C</td>\n",
       "      <td>I would want to keep the Electoral College</td>\n",
       "      <td>Position</td>\n",
       "      <td>Effective</td>\n",
       "    </tr>\n",
       "    <tr>\n",
       "      <th>28406</th>\n",
       "      <td>98154af4855d</td>\n",
       "      <td>BACC53ECC1FB</td>\n",
       "      <td>I would want to keep the Electoral College</td>\n",
       "      <td>Position</td>\n",
       "      <td>Adequate</td>\n",
       "    </tr>\n",
       "    <tr>\n",
       "      <th>11970</th>\n",
       "      <td>cc0dad1234ec</td>\n",
       "      <td>D8013F49DE51</td>\n",
       "      <td>Opponents say that cell phones are good becaus...</td>\n",
       "      <td>Counterclaim</td>\n",
       "      <td>Adequate</td>\n",
       "    </tr>\n",
       "    <tr>\n",
       "      <th>6570</th>\n",
       "      <td>dee3f8aec4fc</td>\n",
       "      <td>7742D58270C9</td>\n",
       "      <td>Opponents say that cell phones are good becaus...</td>\n",
       "      <td>Counterclaim</td>\n",
       "      <td>Ineffective</td>\n",
       "    </tr>\n",
       "    <tr>\n",
       "      <th>31753</th>\n",
       "      <td>b318a4e3b80e</td>\n",
       "      <td>EE2FC4219F49</td>\n",
       "      <td>Second, there could be a tie in the electoral ...</td>\n",
       "      <td>Claim</td>\n",
       "      <td>Effective</td>\n",
       "    </tr>\n",
       "    <tr>\n",
       "      <th>31757</th>\n",
       "      <td>43848fd5dfb3</td>\n",
       "      <td>EE2FC4219F49</td>\n",
       "      <td>Second, there could be a tie in the electoral ...</td>\n",
       "      <td>Claim</td>\n",
       "      <td>Adequate</td>\n",
       "    </tr>\n",
       "    <tr>\n",
       "      <th>35299</th>\n",
       "      <td>608e1d81f4ed</td>\n",
       "      <td>9627B47C10DE</td>\n",
       "      <td>Seeking multiple opinions can help someone mak...</td>\n",
       "      <td>Position</td>\n",
       "      <td>Effective</td>\n",
       "    </tr>\n",
       "    <tr>\n",
       "      <th>34383</th>\n",
       "      <td>3312a23a5480</td>\n",
       "      <td>523EBD9ECA47</td>\n",
       "      <td>Seeking multiple opinions can help someone mak...</td>\n",
       "      <td>Position</td>\n",
       "      <td>Adequate</td>\n",
       "    </tr>\n",
       "  </tbody>\n",
       "</table>\n",
       "</div>"
      ],
      "text/plain": [
       "       discourse_id      essay_id  \\\n",
       "28436  9e12ec699196  BB3A6C2D0B65   \n",
       "20121  35bf70c4a673  4CA37D113612   \n",
       "20842  34b98386dc46  5729D5AE055C   \n",
       "28406  98154af4855d  BACC53ECC1FB   \n",
       "11970  cc0dad1234ec  D8013F49DE51   \n",
       "6570   dee3f8aec4fc  7742D58270C9   \n",
       "31753  b318a4e3b80e  EE2FC4219F49   \n",
       "31757  43848fd5dfb3  EE2FC4219F49   \n",
       "35299  608e1d81f4ed  9627B47C10DE   \n",
       "34383  3312a23a5480  523EBD9ECA47   \n",
       "\n",
       "                                          discourse_text discourse_type  \\\n",
       "28436                                        Big States           Claim   \n",
       "20121                                        Big States           Claim   \n",
       "20842        I would want to keep the Electoral College        Position   \n",
       "28406        I would want to keep the Electoral College        Position   \n",
       "11970  Opponents say that cell phones are good becaus...   Counterclaim   \n",
       "6570   Opponents say that cell phones are good becaus...   Counterclaim   \n",
       "31753  Second, there could be a tie in the electoral ...          Claim   \n",
       "31757  Second, there could be a tie in the electoral ...          Claim   \n",
       "35299  Seeking multiple opinions can help someone mak...       Position   \n",
       "34383  Seeking multiple opinions can help someone mak...       Position   \n",
       "\n",
       "      discourse_effectiveness  \n",
       "28436                Adequate  \n",
       "20121             Ineffective  \n",
       "20842               Effective  \n",
       "28406                Adequate  \n",
       "11970                Adequate  \n",
       "6570              Ineffective  \n",
       "31753               Effective  \n",
       "31757                Adequate  \n",
       "35299               Effective  \n",
       "34383                Adequate  "
      ]
     },
     "execution_count": 8,
     "metadata": {},
     "output_type": "execute_result"
    }
   ],
   "source": [
    "duplicadas_geral_analise = duplicadas_geral[duplicadas_geral.discourse_text.isin(duplicadas_analise.discourse_text)] \n",
    "duplicadas_geral_analise.head(10)"
   ]
  },
  {
   "cell_type": "markdown",
   "id": "39b2d4d6",
   "metadata": {
    "papermill": {
     "duration": 0.018622,
     "end_time": "2022-07-30T21:45:00.789854",
     "exception": false,
     "start_time": "2022-07-30T21:45:00.771232",
     "status": "completed"
    },
    "tags": []
   },
   "source": [
    "**Visualizing some graphs**"
   ]
  },
  {
   "cell_type": "code",
   "execution_count": 9,
   "id": "c48c0420",
   "metadata": {
    "execution": {
     "iopub.execute_input": "2022-07-30T21:45:00.829216Z",
     "iopub.status.busy": "2022-07-30T21:45:00.828898Z",
     "iopub.status.idle": "2022-07-30T21:45:01.222151Z",
     "shell.execute_reply": "2022-07-30T21:45:01.221242Z"
    },
    "papermill": {
     "duration": 0.415694,
     "end_time": "2022-07-30T21:45:01.224261",
     "exception": false,
     "start_time": "2022-07-30T21:45:00.808567",
     "status": "completed"
    },
    "tags": []
   },
   "outputs": [
    {
     "data": {
      "text/plain": [
       "Text(0, 0.5, 'Count')"
      ]
     },
     "execution_count": 9,
     "metadata": {},
     "output_type": "execute_result"
    },
    {
     "data": {
      "image/png": "[encoded data removed]",
      "text/plain": [
       "<Figure size 720x576 with 1 Axes>"
      ]
     },
     "metadata": {
      "needs_background": "light"
     },
     "output_type": "display_data"
    }
   ],
   "source": [
    "plt.figure(figsize=(10, 8))   # Contagem de cada classe de discurso das redações e as notas correspondentes\n",
    "sns.set_theme(style=\"darkgrid\")\n",
    "ax = sns.countplot(x=\"discourse_type\", hue=\"discourse_effectiveness\", data=dataset_train)\n",
    "ax.tick_params(axis = \"x\", rotation = 45)\n",
    "ax.set_title(\"Count of each discourse type x effectiveness\", fontsize=20, weight='bold')\n",
    "plt.xlabel(\"Discourse Type\", fontsize=15)\n",
    "plt.ylabel(\"Count\", fontsize=15)"
   ]
  },
  {
   "cell_type": "code",
   "execution_count": 10,
   "id": "1e5614c9",
   "metadata": {
    "execution": {
     "iopub.execute_input": "2022-07-30T21:45:01.264671Z",
     "iopub.status.busy": "2022-07-30T21:45:01.264373Z",
     "iopub.status.idle": "2022-07-30T21:45:01.519530Z",
     "shell.execute_reply": "2022-07-30T21:45:01.518615Z"
    },
    "papermill": {
     "duration": 0.277624,
     "end_time": "2022-07-30T21:45:01.521542",
     "exception": false,
     "start_time": "2022-07-30T21:45:01.243918",
     "status": "completed"
    },
    "tags": []
   },
   "outputs": [
    {
     "data": {
      "text/plain": [
       "Text(0, 0.5, 'Count')"
      ]
     },
     "execution_count": 10,
     "metadata": {},
     "output_type": "execute_result"
    },
    {
     "data": {
      "image/png": "[encoded data removed]",
      "text/plain": [
       "<Figure size 720x576 with 1 Axes>"
      ]
     },
     "metadata": {},
     "output_type": "display_data"
    }
   ],
   "source": [
    "plt.figure(figsize=(10, 8))   # Contagem de cada classe de discurso das redações\n",
    "sns.set_theme(style=\"darkgrid\")\n",
    "ax = sns.countplot(x=\"discourse_type\", data=dataset_train)\n",
    "ax.tick_params(axis = \"x\", rotation = 45)\n",
    "ax.set_title(\"Count of each discourse type\", fontsize=20, weight='bold')\n",
    "plt.xlabel(\"Discourse Type\", fontsize=15)\n",
    "plt.ylabel(\"Count\", fontsize=15)"
   ]
  },
  {
   "cell_type": "code",
   "execution_count": 11,
   "id": "ab21596f",
   "metadata": {
    "execution": {
     "iopub.execute_input": "2022-07-30T21:45:01.564484Z",
     "iopub.status.busy": "2022-07-30T21:45:01.564204Z",
     "iopub.status.idle": "2022-07-30T21:45:01.792369Z",
     "shell.execute_reply": "2022-07-30T21:45:01.791479Z"
    },
    "papermill": {
     "duration": 0.251882,
     "end_time": "2022-07-30T21:45:01.794399",
     "exception": false,
     "start_time": "2022-07-30T21:45:01.542517",
     "status": "completed"
    },
    "tags": []
   },
   "outputs": [
    {
     "data": {
      "text/plain": [
       "Text(0, 0.5, 'Count')"
      ]
     },
     "execution_count": 11,
     "metadata": {},
     "output_type": "execute_result"
    },
    {
     "data": {
      "image/png": "[encoded data removed]",
      "text/plain": [
       "<Figure size 720x576 with 1 Axes>"
      ]
     },
     "metadata": {},
     "output_type": "display_data"
    }
   ],
   "source": [
    "plt.figure(figsize=(10, 8))   # \n",
    "sns.set_theme(style=\"darkgrid\")\n",
    "ax = sns.countplot(x=\"discourse_effectiveness\", data=dataset_train)\n",
    "ax.tick_params(axis = \"x\", rotation = 45)\n",
    "ax.set_title(\"Count of each discourse effectiveness\", fontsize=20, weight='bold')\n",
    "plt.xlabel(\"Discourse Type\", fontsize=15)\n",
    "plt.ylabel(\"Count\", fontsize=15)"
   ]
  },
  {
   "cell_type": "markdown",
   "id": "92cc3595",
   "metadata": {
    "papermill": {
     "duration": 0.021167,
     "end_time": "2022-07-30T21:45:01.837029",
     "exception": false,
     "start_time": "2022-07-30T21:45:01.815862",
     "status": "completed"
    },
    "tags": []
   },
   "source": [
    "We can see that, on average, each essay has approximately 9 \"discourse_text\":"
   ]
  },
  {
   "cell_type": "code",
   "execution_count": 12,
   "id": "e8889bb9",
   "metadata": {
    "execution": {
     "iopub.execute_input": "2022-07-30T21:45:01.879538Z",
     "iopub.status.busy": "2022-07-30T21:45:01.879239Z",
     "iopub.status.idle": "2022-07-30T21:45:01.936115Z",
     "shell.execute_reply": "2022-07-30T21:45:01.935165Z"
    },
    "papermill": {
     "duration": 0.080739,
     "end_time": "2022-07-30T21:45:01.938284",
     "exception": false,
     "start_time": "2022-07-30T21:45:01.857545",
     "status": "completed"
    },
    "tags": []
   },
   "outputs": [
    {
     "data": {
      "text/html": [
       "<div>\n",
       "<style scoped>\n",
       "    .dataframe tbody tr th:only-of-type {\n",
       "        vertical-align: middle;\n",
       "    }\n",
       "\n",
       "    .dataframe tbody tr th {\n",
       "        vertical-align: top;\n",
       "    }\n",
       "\n",
       "    .dataframe thead th {\n",
       "        text-align: right;\n",
       "    }\n",
       "</style>\n",
       "<table border=\"1\" class=\"dataframe\">\n",
       "  <thead>\n",
       "    <tr style=\"text-align: right;\">\n",
       "      <th>discourse_type</th>\n",
       "      <th>Claim</th>\n",
       "      <th>Concluding Statement</th>\n",
       "      <th>Counterclaim</th>\n",
       "      <th>Evidence</th>\n",
       "      <th>Lead</th>\n",
       "      <th>Position</th>\n",
       "      <th>Rebuttal</th>\n",
       "      <th>Total_Sum</th>\n",
       "    </tr>\n",
       "    <tr>\n",
       "      <th>essay_id</th>\n",
       "      <th></th>\n",
       "      <th></th>\n",
       "      <th></th>\n",
       "      <th></th>\n",
       "      <th></th>\n",
       "      <th></th>\n",
       "      <th></th>\n",
       "      <th></th>\n",
       "    </tr>\n",
       "  </thead>\n",
       "  <tbody>\n",
       "    <tr>\n",
       "      <th>00066EA9880D</th>\n",
       "      <td>3.0</td>\n",
       "      <td>1.0</td>\n",
       "      <td>NaN</td>\n",
       "      <td>3.0</td>\n",
       "      <td>1.0</td>\n",
       "      <td>1.0</td>\n",
       "      <td>NaN</td>\n",
       "      <td>9.0</td>\n",
       "    </tr>\n",
       "    <tr>\n",
       "      <th>000E6DE9E817</th>\n",
       "      <td>5.0</td>\n",
       "      <td>1.0</td>\n",
       "      <td>1.0</td>\n",
       "      <td>3.0</td>\n",
       "      <td>NaN</td>\n",
       "      <td>1.0</td>\n",
       "      <td>1.0</td>\n",
       "      <td>12.0</td>\n",
       "    </tr>\n",
       "    <tr>\n",
       "      <th>0016926B079C</th>\n",
       "      <td>7.0</td>\n",
       "      <td>NaN</td>\n",
       "      <td>NaN</td>\n",
       "      <td>3.0</td>\n",
       "      <td>NaN</td>\n",
       "      <td>1.0</td>\n",
       "      <td>NaN</td>\n",
       "      <td>11.0</td>\n",
       "    </tr>\n",
       "    <tr>\n",
       "      <th>00203C45FC55</th>\n",
       "      <td>1.0</td>\n",
       "      <td>1.0</td>\n",
       "      <td>3.0</td>\n",
       "      <td>3.0</td>\n",
       "      <td>1.0</td>\n",
       "      <td>1.0</td>\n",
       "      <td>3.0</td>\n",
       "      <td>13.0</td>\n",
       "    </tr>\n",
       "    <tr>\n",
       "      <th>0029F4D19C3F</th>\n",
       "      <td>2.0</td>\n",
       "      <td>1.0</td>\n",
       "      <td>1.0</td>\n",
       "      <td>2.0</td>\n",
       "      <td>1.0</td>\n",
       "      <td>1.0</td>\n",
       "      <td>1.0</td>\n",
       "      <td>9.0</td>\n",
       "    </tr>\n",
       "    <tr>\n",
       "      <th>...</th>\n",
       "      <td>...</td>\n",
       "      <td>...</td>\n",
       "      <td>...</td>\n",
       "      <td>...</td>\n",
       "      <td>...</td>\n",
       "      <td>...</td>\n",
       "      <td>...</td>\n",
       "      <td>...</td>\n",
       "    </tr>\n",
       "    <tr>\n",
       "      <th>FFA381E58FC6</th>\n",
       "      <td>2.0</td>\n",
       "      <td>1.0</td>\n",
       "      <td>NaN</td>\n",
       "      <td>1.0</td>\n",
       "      <td>NaN</td>\n",
       "      <td>1.0</td>\n",
       "      <td>NaN</td>\n",
       "      <td>5.0</td>\n",
       "    </tr>\n",
       "    <tr>\n",
       "      <th>FFC43F453EF6</th>\n",
       "      <td>4.0</td>\n",
       "      <td>1.0</td>\n",
       "      <td>3.0</td>\n",
       "      <td>1.0</td>\n",
       "      <td>NaN</td>\n",
       "      <td>1.0</td>\n",
       "      <td>1.0</td>\n",
       "      <td>11.0</td>\n",
       "    </tr>\n",
       "    <tr>\n",
       "      <th>FFD97A99CEBA</th>\n",
       "      <td>NaN</td>\n",
       "      <td>NaN</td>\n",
       "      <td>NaN</td>\n",
       "      <td>1.0</td>\n",
       "      <td>NaN</td>\n",
       "      <td>NaN</td>\n",
       "      <td>NaN</td>\n",
       "      <td>1.0</td>\n",
       "    </tr>\n",
       "    <tr>\n",
       "      <th>FFF868E06176</th>\n",
       "      <td>3.0</td>\n",
       "      <td>1.0</td>\n",
       "      <td>NaN</td>\n",
       "      <td>3.0</td>\n",
       "      <td>1.0</td>\n",
       "      <td>1.0</td>\n",
       "      <td>NaN</td>\n",
       "      <td>9.0</td>\n",
       "    </tr>\n",
       "    <tr>\n",
       "      <th>FFFF80B8CC2F</th>\n",
       "      <td>NaN</td>\n",
       "      <td>NaN</td>\n",
       "      <td>NaN</td>\n",
       "      <td>1.0</td>\n",
       "      <td>NaN</td>\n",
       "      <td>NaN</td>\n",
       "      <td>NaN</td>\n",
       "      <td>1.0</td>\n",
       "    </tr>\n",
       "  </tbody>\n",
       "</table>\n",
       "<p>4191 rows × 8 columns</p>\n",
       "</div>"
      ],
      "text/plain": [
       "discourse_type  Claim  Concluding Statement  Counterclaim  Evidence  Lead  \\\n",
       "essay_id                                                                    \n",
       "00066EA9880D      3.0                   1.0           NaN       3.0   1.0   \n",
       "000E6DE9E817      5.0                   1.0           1.0       3.0   NaN   \n",
       "0016926B079C      7.0                   NaN           NaN       3.0   NaN   \n",
       "00203C45FC55      1.0                   1.0           3.0       3.0   1.0   \n",
       "0029F4D19C3F      2.0                   1.0           1.0       2.0   1.0   \n",
       "...               ...                   ...           ...       ...   ...   \n",
       "FFA381E58FC6      2.0                   1.0           NaN       1.0   NaN   \n",
       "FFC43F453EF6      4.0                   1.0           3.0       1.0   NaN   \n",
       "FFD97A99CEBA      NaN                   NaN           NaN       1.0   NaN   \n",
       "FFF868E06176      3.0                   1.0           NaN       3.0   1.0   \n",
       "FFFF80B8CC2F      NaN                   NaN           NaN       1.0   NaN   \n",
       "\n",
       "discourse_type  Position  Rebuttal  Total_Sum  \n",
       "essay_id                                       \n",
       "00066EA9880D         1.0       NaN        9.0  \n",
       "000E6DE9E817         1.0       1.0       12.0  \n",
       "0016926B079C         1.0       NaN       11.0  \n",
       "00203C45FC55         1.0       3.0       13.0  \n",
       "0029F4D19C3F         1.0       1.0        9.0  \n",
       "...                  ...       ...        ...  \n",
       "FFA381E58FC6         1.0       NaN        5.0  \n",
       "FFC43F453EF6         1.0       1.0       11.0  \n",
       "FFD97A99CEBA         NaN       NaN        1.0  \n",
       "FFF868E06176         1.0       NaN        9.0  \n",
       "FFFF80B8CC2F         NaN       NaN        1.0  \n",
       "\n",
       "[4191 rows x 8 columns]"
      ]
     },
     "execution_count": 12,
     "metadata": {},
     "output_type": "execute_result"
    }
   ],
   "source": [
    "discType_essayID = dataset_train.groupby([\"essay_id\"]).discourse_type.value_counts().to_frame()   # Contagem de \"discourse_type\" no training set para as \"essay_id\"\n",
    "discType_essayID.columns = [\"Contagem\"]\n",
    "discType_essayID.reset_index(drop=False, inplace=True)\n",
    "discType_essayID = discType_essayID.pivot(index=\"essay_id\", columns=\"discourse_type\").Contagem\n",
    "\n",
    "discType_essayID[\"Total_Sum\"] = discType_essayID.sum(axis=1)  # Cria uma nova coluna com a soma de cada count do discourse type em cada linha\n",
    "discType_essayID"
   ]
  },
  {
   "cell_type": "code",
   "execution_count": 13,
   "id": "e0bb36b5",
   "metadata": {
    "execution": {
     "iopub.execute_input": "2022-07-30T21:45:01.982807Z",
     "iopub.status.busy": "2022-07-30T21:45:01.981999Z",
     "iopub.status.idle": "2022-07-30T21:45:01.994988Z",
     "shell.execute_reply": "2022-07-30T21:45:01.989544Z"
    },
    "papermill": {
     "duration": 0.038359,
     "end_time": "2022-07-30T21:45:01.998412",
     "exception": false,
     "start_time": "2022-07-30T21:45:01.960053",
     "status": "completed"
    },
    "tags": []
   },
   "outputs": [
    {
     "data": {
      "text/plain": [
       "8.772369362920545"
      ]
     },
     "execution_count": 13,
     "metadata": {},
     "output_type": "execute_result"
    }
   ],
   "source": [
    "discType_essayID.Total_Sum.mean()"
   ]
  },
  {
   "cell_type": "markdown",
   "id": "11cfcff5",
   "metadata": {
    "papermill": {
     "duration": 0.04787,
     "end_time": "2022-07-30T21:45:02.083166",
     "exception": false,
     "start_time": "2022-07-30T21:45:02.035296",
     "status": "completed"
    },
    "tags": []
   },
   "source": [
    "Analyzing the words, chars and sentences counts to see the relationship with the quality rating:"
   ]
  },
  {
   "cell_type": "code",
   "execution_count": 14,
   "id": "0c327292",
   "metadata": {
    "execution": {
     "iopub.execute_input": "2022-07-30T21:45:02.159338Z",
     "iopub.status.busy": "2022-07-30T21:45:02.158929Z",
     "iopub.status.idle": "2022-07-30T21:45:05.355706Z",
     "shell.execute_reply": "2022-07-30T21:45:05.354746Z"
    },
    "papermill": {
     "duration": 3.237407,
     "end_time": "2022-07-30T21:45:05.358251",
     "exception": false,
     "start_time": "2022-07-30T21:45:02.120844",
     "status": "completed"
    },
    "tags": []
   },
   "outputs": [],
   "source": [
    "dataset_train[\"discourse_text_numChars\"] = dataset_train.discourse_text.apply(lambda x: len(x))\n",
    "dataset_train[\"discourse_text_numWords\"] = dataset_train.discourse_text.apply(lambda x: len(x.split()))\n",
    "dataset_train[\"discourse_text_numSentences\"] = dataset_train.discourse_text.apply(lambda x: len(tokenize.sent_tokenize(x, language=\"english\")))"
   ]
  },
  {
   "cell_type": "code",
   "execution_count": 15,
   "id": "8c061adc",
   "metadata": {
    "execution": {
     "iopub.execute_input": "2022-07-30T21:45:05.405124Z",
     "iopub.status.busy": "2022-07-30T21:45:05.404814Z",
     "iopub.status.idle": "2022-07-30T21:45:05.752408Z",
     "shell.execute_reply": "2022-07-30T21:45:05.751473Z"
    },
    "papermill": {
     "duration": 0.373688,
     "end_time": "2022-07-30T21:45:05.754923",
     "exception": false,
     "start_time": "2022-07-30T21:45:05.381235",
     "status": "completed"
    },
    "tags": []
   },
   "outputs": [
    {
     "data": {
      "image/png": "[encoded data removed]",
      "text/plain": [
       "<Figure size 432x288 with 1 Axes>"
      ]
     },
     "metadata": {},
     "output_type": "display_data"
    }
   ],
   "source": [
    "plt.hist(dataset_train[\"discourse_text_numWords\"], bins=100)\n",
    "plt.title(\"Words Count in the training set (Histogram)\", size = 16)\n",
    "plt.xlabel(\"Word Count\", size = 14)\n",
    "plt.show()"
   ]
  },
  {
   "cell_type": "code",
   "execution_count": 16,
   "id": "74b47cfd",
   "metadata": {
    "execution": {
     "iopub.execute_input": "2022-07-30T21:45:05.800866Z",
     "iopub.status.busy": "2022-07-30T21:45:05.799881Z",
     "iopub.status.idle": "2022-07-30T21:45:06.146756Z",
     "shell.execute_reply": "2022-07-30T21:45:06.145823Z"
    },
    "papermill": {
     "duration": 0.372256,
     "end_time": "2022-07-30T21:45:06.148816",
     "exception": false,
     "start_time": "2022-07-30T21:45:05.776560",
     "status": "completed"
    },
    "tags": []
   },
   "outputs": [
    {
     "data": {
      "image/png": "[encoded data removed]",
      "text/plain": [
       "<Figure size 432x288 with 1 Axes>"
      ]
     },
     "metadata": {},
     "output_type": "display_data"
    }
   ],
   "source": [
    "plt.hist(dataset_train[\"discourse_text_numChars\"], bins=100)\n",
    "plt.title(\"Chars Count in the training set (Histogram)\", size = 16)\n",
    "plt.xlabel(\"Chars Count\", size = 14)\n",
    "plt.show()"
   ]
  },
  {
   "cell_type": "code",
   "execution_count": 17,
   "id": "4530f5b4",
   "metadata": {
    "execution": {
     "iopub.execute_input": "2022-07-30T21:45:06.193493Z",
     "iopub.status.busy": "2022-07-30T21:45:06.193214Z",
     "iopub.status.idle": "2022-07-30T21:45:06.388183Z",
     "shell.execute_reply": "2022-07-30T21:45:06.387269Z"
    },
    "papermill": {
     "duration": 0.219415,
     "end_time": "2022-07-30T21:45:06.390106",
     "exception": false,
     "start_time": "2022-07-30T21:45:06.170691",
     "status": "completed"
    },
    "tags": []
   },
   "outputs": [
    {
     "data": {
      "text/plain": [
       "Text(0.5, 0, 'Word Count')"
      ]
     },
     "execution_count": 17,
     "metadata": {},
     "output_type": "execute_result"
    },
    {
     "data": {
      "image/png": "[encoded data removed]",
      "text/plain": [
       "<Figure size 720x576 with 1 Axes>"
      ]
     },
     "metadata": {},
     "output_type": "display_data"
    }
   ],
   "source": [
    "plt.figure(figsize=(10, 8))   \n",
    "ax = sns.boxplot(x=dataset_train[\"discourse_text_numWords\"])\n",
    "ax.set_title(\"Distribution of Words Count in the training set\", fontsize=20, weight='bold')\n",
    "plt.xlabel(\"Word Count\", fontsize=15)"
   ]
  },
  {
   "cell_type": "markdown",
   "id": "2333bd26",
   "metadata": {
    "papermill": {
     "duration": 0.021689,
     "end_time": "2022-07-30T21:45:06.433970",
     "exception": false,
     "start_time": "2022-07-30T21:45:06.412281",
     "status": "completed"
    },
    "tags": []
   },
   "source": [
    "It's possible to see that higher word counts tend to have better quality ratings:"
   ]
  },
  {
   "cell_type": "code",
   "execution_count": 18,
   "id": "3092400c",
   "metadata": {
    "execution": {
     "iopub.execute_input": "2022-07-30T21:45:06.480881Z",
     "iopub.status.busy": "2022-07-30T21:45:06.479456Z",
     "iopub.status.idle": "2022-07-30T21:45:07.246114Z",
     "shell.execute_reply": "2022-07-30T21:45:07.245154Z"
    },
    "papermill": {
     "duration": 0.792053,
     "end_time": "2022-07-30T21:45:07.248466",
     "exception": false,
     "start_time": "2022-07-30T21:45:06.456413",
     "status": "completed"
    },
    "tags": []
   },
   "outputs": [
    {
     "data": {
      "text/plain": [
       "Text(0, 0.5, 'Word Count')"
      ]
     },
     "execution_count": 18,
     "metadata": {},
     "output_type": "execute_result"
    },
    {
     "data": {
      "image/png": "[encoded data removed]",
      "text/plain": [
       "<Figure size 1800x720 with 1 Axes>"
      ]
     },
     "metadata": {},
     "output_type": "display_data"
    }
   ],
   "source": [
    "plt.figure(figsize=(25, 10))   \n",
    "ax = sns.boxplot(x=\"discourse_type\", y=\"discourse_text_numWords\", hue=\"discourse_effectiveness\", data=dataset_train)\n",
    "#ax.tick_params(axis = \"x\", rotation = 45)\n",
    "ax.set_title(\"Word Count x Discourse type\", fontsize=20, weight='bold')\n",
    "plt.xlabel(\"Discourse Type\", fontsize=15)\n",
    "plt.ylabel(\"Word Count\", fontsize=15)"
   ]
  },
  {
   "cell_type": "markdown",
   "id": "80e774a0",
   "metadata": {
    "papermill": {
     "duration": 0.022546,
     "end_time": "2022-07-30T21:45:07.294187",
     "exception": false,
     "start_time": "2022-07-30T21:45:07.271641",
     "status": "completed"
    },
    "tags": []
   },
   "source": [
    "**Normalizing and tokenizing data to remove stopwords, lemmatization, removing special characters, etc.**"
   ]
  },
  {
   "cell_type": "code",
   "execution_count": 19,
   "id": "68d8d9a6",
   "metadata": {
    "execution": {
     "iopub.execute_input": "2022-07-30T21:45:07.342297Z",
     "iopub.status.busy": "2022-07-30T21:45:07.341443Z",
     "iopub.status.idle": "2022-07-30T21:45:19.214217Z",
     "shell.execute_reply": "2022-07-30T21:45:19.213184Z"
    },
    "papermill": {
     "duration": 11.899991,
     "end_time": "2022-07-30T21:45:19.216874",
     "exception": false,
     "start_time": "2022-07-30T21:45:07.316883",
     "status": "completed"
    },
    "tags": []
   },
   "outputs": [],
   "source": [
    "import sys\n",
    "sys.path.insert(1, '/kaggle/input/text-preprocessing-and-normalization/')\n",
    "\n",
    "import text_normalizer as tn\n",
    "import model_evaluation_utils as meu"
   ]
  },
  {
   "cell_type": "markdown",
   "id": "d40df0ae",
   "metadata": {
    "papermill": {
     "duration": 0.022411,
     "end_time": "2022-07-30T21:45:19.263612",
     "exception": false,
     "start_time": "2022-07-30T21:45:19.241201",
     "status": "completed"
    },
    "tags": []
   },
   "source": [
    "Encoding the \"discourse_effectiveness\" to numbers as it will be our output (prediction class labels):"
   ]
  },
  {
   "cell_type": "code",
   "execution_count": 20,
   "id": "457ae873",
   "metadata": {
    "execution": {
     "iopub.execute_input": "2022-07-30T21:45:19.312973Z",
     "iopub.status.busy": "2022-07-30T21:45:19.312225Z",
     "iopub.status.idle": "2022-07-30T21:45:19.347222Z",
     "shell.execute_reply": "2022-07-30T21:45:19.346356Z"
    },
    "papermill": {
     "duration": 0.062796,
     "end_time": "2022-07-30T21:45:19.348997",
     "exception": false,
     "start_time": "2022-07-30T21:45:19.286201",
     "status": "completed"
    },
    "tags": []
   },
   "outputs": [],
   "source": [
    "dataset_train[\"discourse_effectiveness_encode\"] = dataset_train.discourse_effectiveness.replace({\"Ineffective\": 0, \"Adequate\":1, \"Effective\": 2})"
   ]
  },
  {
   "cell_type": "markdown",
   "id": "267c0bae",
   "metadata": {
    "papermill": {
     "duration": 0.022547,
     "end_time": "2022-07-30T21:45:19.395106",
     "exception": false,
     "start_time": "2022-07-30T21:45:19.372559",
     "status": "completed"
    },
    "tags": []
   },
   "source": [
    "Concatenating the \"discourse_type\" with the \"discourse_text\" for the training and test set for our input (by concatenating, the algorithm will learn the features of discourse_text presented in each discourse_type)."
   ]
  },
  {
   "cell_type": "code",
   "execution_count": 21,
   "id": "812b51d1",
   "metadata": {
    "execution": {
     "iopub.execute_input": "2022-07-30T21:45:19.441681Z",
     "iopub.status.busy": "2022-07-30T21:45:19.441378Z",
     "iopub.status.idle": "2022-07-30T21:45:19.505495Z",
     "shell.execute_reply": "2022-07-30T21:45:19.504497Z"
    },
    "papermill": {
     "duration": 0.090074,
     "end_time": "2022-07-30T21:45:19.507889",
     "exception": false,
     "start_time": "2022-07-30T21:45:19.417815",
     "status": "completed"
    },
    "tags": []
   },
   "outputs": [],
   "source": [
    "dataset_train_0 = dataset_train[dataset_train.discourse_type == dataset_train.discourse_type.unique()[0]]\n",
    "dataset_train_1 = dataset_train[dataset_train.discourse_type == dataset_train.discourse_type.unique()[1]]\n",
    "dataset_train_2 = dataset_train[dataset_train.discourse_type == dataset_train.discourse_type.unique()[2]]\n",
    "dataset_train_3 = dataset_train[dataset_train.discourse_type == dataset_train.discourse_type.unique()[3]]\n",
    "dataset_train_4 = dataset_train[dataset_train.discourse_type == dataset_train.discourse_type.unique()[4]]\n",
    "dataset_train_5 = dataset_train[dataset_train.discourse_type == dataset_train.discourse_type.unique()[5]]\n",
    "dataset_train_6 = dataset_train[dataset_train.discourse_type == dataset_train.discourse_type.unique()[6]]"
   ]
  },
  {
   "cell_type": "code",
   "execution_count": 22,
   "id": "06eb4568",
   "metadata": {
    "execution": {
     "iopub.execute_input": "2022-07-30T21:45:19.555079Z",
     "iopub.status.busy": "2022-07-30T21:45:19.554519Z",
     "iopub.status.idle": "2022-07-30T21:45:19.561287Z",
     "shell.execute_reply": "2022-07-30T21:45:19.560438Z"
    },
    "papermill": {
     "duration": 0.032113,
     "end_time": "2022-07-30T21:45:19.563090",
     "exception": false,
     "start_time": "2022-07-30T21:45:19.530977",
     "status": "completed"
    },
    "tags": []
   },
   "outputs": [
    {
     "data": {
      "text/plain": [
       "True"
      ]
     },
     "execution_count": 22,
     "metadata": {},
     "output_type": "execute_result"
    }
   ],
   "source": [
    "dataset_train_0.shape[0] + dataset_train_1.shape[0] + dataset_train_2.shape[0] + dataset_train_3.shape[0] + dataset_train_4.shape[0] + dataset_train_5.shape[0] + dataset_train_6.shape[0] == dataset_train.shape[0]"
   ]
  },
  {
   "cell_type": "markdown",
   "id": "bc6e89c5",
   "metadata": {
    "papermill": {
     "duration": 0.023128,
     "end_time": "2022-07-30T21:45:19.609258",
     "exception": false,
     "start_time": "2022-07-30T21:45:19.586130",
     "status": "completed"
    },
    "tags": []
   },
   "source": [
    "Passing the dataframes to Numpy arrays:"
   ]
  },
  {
   "cell_type": "code",
   "execution_count": 23,
   "id": "2267a0c1",
   "metadata": {
    "execution": {
     "iopub.execute_input": "2022-07-30T21:45:19.657699Z",
     "iopub.status.busy": "2022-07-30T21:45:19.656921Z",
     "iopub.status.idle": "2022-07-30T21:45:19.666653Z",
     "shell.execute_reply": "2022-07-30T21:45:19.665815Z"
    },
    "papermill": {
     "duration": 0.035865,
     "end_time": "2022-07-30T21:45:19.668373",
     "exception": false,
     "start_time": "2022-07-30T21:45:19.632508",
     "status": "completed"
    },
    "tags": []
   },
   "outputs": [],
   "source": [
    "# Passa para numpy array\n",
    "train_inputs_0 = np.array(dataset_train_0.discourse_text)\n",
    "train_inputs_1 = np.array(dataset_train_1.discourse_text)\n",
    "train_inputs_2 = np.array(dataset_train_2.discourse_text)\n",
    "train_inputs_3 = np.array(dataset_train_3.discourse_text)\n",
    "train_inputs_4 = np.array(dataset_train_4.discourse_text)\n",
    "train_inputs_5 = np.array(dataset_train_5.discourse_text)\n",
    "train_inputs_6 = np.array(dataset_train_6.discourse_text)"
   ]
  },
  {
   "cell_type": "markdown",
   "id": "748b75d7",
   "metadata": {
    "papermill": {
     "duration": 0.022463,
     "end_time": "2022-07-30T21:45:19.713663",
     "exception": false,
     "start_time": "2022-07-30T21:45:19.691200",
     "status": "completed"
    },
    "tags": []
   },
   "source": [
    "Normalizing the training and test set:"
   ]
  },
  {
   "cell_type": "code",
   "execution_count": 24,
   "id": "63ca06c8",
   "metadata": {
    "execution": {
     "iopub.execute_input": "2022-07-30T21:45:19.762334Z",
     "iopub.status.busy": "2022-07-30T21:45:19.760883Z",
     "iopub.status.idle": "2022-07-30T21:53:08.422962Z",
     "shell.execute_reply": "2022-07-30T21:53:08.421823Z"
    },
    "papermill": {
     "duration": 468.689445,
     "end_time": "2022-07-30T21:53:08.425985",
     "exception": false,
     "start_time": "2022-07-30T21:45:19.736540",
     "status": "completed"
    },
    "tags": []
   },
   "outputs": [
    {
     "name": "stderr",
     "output_type": "stream",
     "text": [
      "/opt/conda/lib/python3.7/site-packages/bs4/__init__.py:439: MarkupResemblesLocatorWarning: The input looks more like a filename than markup. You may want to open this file and pass the filehandle into Beautiful Soup.\n",
      "  MarkupResemblesLocatorWarning\n"
     ]
    }
   ],
   "source": [
    "# Normalize datasets\n",
    "norm_train_inputs_0 = tn.normalize_corpus(train_inputs_0)\n",
    "norm_train_inputs_1 = tn.normalize_corpus(train_inputs_1)\n",
    "norm_train_inputs_2 = tn.normalize_corpus(train_inputs_2)\n",
    "norm_train_inputs_3 = tn.normalize_corpus(train_inputs_3)\n",
    "norm_train_inputs_4 = tn.normalize_corpus(train_inputs_4)\n",
    "norm_train_inputs_5 = tn.normalize_corpus(train_inputs_5)\n",
    "norm_train_inputs_6 = tn.normalize_corpus(train_inputs_6)"
   ]
  },
  {
   "cell_type": "markdown",
   "id": "aae518ec",
   "metadata": {
    "papermill": {
     "duration": 0.025436,
     "end_time": "2022-07-30T21:53:08.478434",
     "exception": false,
     "start_time": "2022-07-30T21:53:08.452998",
     "status": "completed"
    },
    "tags": []
   },
   "source": [
    "Tokenizing the training and test set:"
   ]
  },
  {
   "cell_type": "code",
   "execution_count": 25,
   "id": "5fbb8054",
   "metadata": {
    "execution": {
     "iopub.execute_input": "2022-07-30T21:53:08.531209Z",
     "iopub.status.busy": "2022-07-30T21:53:08.530852Z",
     "iopub.status.idle": "2022-07-30T21:53:12.046821Z",
     "shell.execute_reply": "2022-07-30T21:53:12.045863Z"
    },
    "papermill": {
     "duration": 3.544431,
     "end_time": "2022-07-30T21:53:12.049139",
     "exception": false,
     "start_time": "2022-07-30T21:53:08.504708",
     "status": "completed"
    },
    "tags": []
   },
   "outputs": [],
   "source": [
    "tokenized_train_0 = [tn.tokenizer.tokenize(text) for text in norm_train_inputs_0]\n",
    "tokenized_train_1 = [tn.tokenizer.tokenize(text) for text in norm_train_inputs_1]\n",
    "tokenized_train_2 = [tn.tokenizer.tokenize(text) for text in norm_train_inputs_2]\n",
    "tokenized_train_3 = [tn.tokenizer.tokenize(text) for text in norm_train_inputs_3]\n",
    "tokenized_train_4 = [tn.tokenizer.tokenize(text) for text in norm_train_inputs_4]\n",
    "tokenized_train_5 = [tn.tokenizer.tokenize(text) for text in norm_train_inputs_5]\n",
    "tokenized_train_6 = [tn.tokenizer.tokenize(text) for text in norm_train_inputs_6]"
   ]
  },
  {
   "cell_type": "markdown",
   "id": "abf44619",
   "metadata": {
    "papermill": {
     "duration": 0.02385,
     "end_time": "2022-07-30T21:53:12.096689",
     "exception": false,
     "start_time": "2022-07-30T21:53:12.072839",
     "status": "completed"
    },
    "tags": []
   },
   "source": [
    "**Building the model**"
   ]
  },
  {
   "cell_type": "code",
   "execution_count": 26,
   "id": "40b7b12d",
   "metadata": {
    "execution": {
     "iopub.execute_input": "2022-07-30T21:53:12.143215Z",
     "iopub.status.busy": "2022-07-30T21:53:12.142906Z",
     "iopub.status.idle": "2022-07-30T21:53:12.147084Z",
     "shell.execute_reply": "2022-07-30T21:53:12.146186Z"
    },
    "papermill": {
     "duration": 0.029767,
     "end_time": "2022-07-30T21:53:12.149131",
     "exception": false,
     "start_time": "2022-07-30T21:53:12.119364",
     "status": "completed"
    },
    "tags": []
   },
   "outputs": [],
   "source": [
    "from collections import Counter"
   ]
  },
  {
   "cell_type": "markdown",
   "id": "756e792e",
   "metadata": {
    "papermill": {
     "duration": 0.022355,
     "end_time": "2022-07-30T21:53:12.194483",
     "exception": false,
     "start_time": "2022-07-30T21:53:12.172128",
     "status": "completed"
    },
    "tags": []
   },
   "source": [
    "Building vocabulary mapping (word to index):"
   ]
  },
  {
   "cell_type": "code",
   "execution_count": 27,
   "id": "3f12ddd5",
   "metadata": {
    "execution": {
     "iopub.execute_input": "2022-07-30T21:53:12.242851Z",
     "iopub.status.busy": "2022-07-30T21:53:12.241213Z",
     "iopub.status.idle": "2022-07-30T21:53:12.369357Z",
     "shell.execute_reply": "2022-07-30T21:53:12.368407Z"
    },
    "papermill": {
     "duration": 0.153899,
     "end_time": "2022-07-30T21:53:12.371644",
     "exception": false,
     "start_time": "2022-07-30T21:53:12.217745",
     "status": "completed"
    },
    "tags": []
   },
   "outputs": [],
   "source": [
    "# Build word to index vocabulary\n",
    "token_counter_0 = Counter([token for discourse in tokenized_train_0 for token in discourse])\n",
    "token_counter_1 = Counter([token for discourse in tokenized_train_1 for token in discourse])\n",
    "token_counter_2 = Counter([token for discourse in tokenized_train_2 for token in discourse])\n",
    "token_counter_3 = Counter([token for discourse in tokenized_train_3 for token in discourse])\n",
    "token_counter_4 = Counter([token for discourse in tokenized_train_4 for token in discourse])\n",
    "token_counter_5 = Counter([token for discourse in tokenized_train_5 for token in discourse])\n",
    "token_counter_6 = Counter([token for discourse in tokenized_train_6 for token in discourse])"
   ]
  },
  {
   "cell_type": "code",
   "execution_count": 28,
   "id": "47656af6",
   "metadata": {
    "execution": {
     "iopub.execute_input": "2022-07-30T21:53:12.420130Z",
     "iopub.status.busy": "2022-07-30T21:53:12.419494Z",
     "iopub.status.idle": "2022-07-30T21:53:12.443576Z",
     "shell.execute_reply": "2022-07-30T21:53:12.442722Z"
    },
    "papermill": {
     "duration": 0.050696,
     "end_time": "2022-07-30T21:53:12.445521",
     "exception": false,
     "start_time": "2022-07-30T21:53:12.394825",
     "status": "completed"
    },
    "tags": []
   },
   "outputs": [],
   "source": [
    "vocab_map_0 = {item[0]: index+1 for index, item in enumerate(dict(token_counter_0).items())}\n",
    "vocab_map_1 = {item[0]: index+1 for index, item in enumerate(dict(token_counter_1).items())}\n",
    "vocab_map_2 = {item[0]: index+1 for index, item in enumerate(dict(token_counter_2).items())}\n",
    "vocab_map_3 = {item[0]: index+1 for index, item in enumerate(dict(token_counter_3).items())}\n",
    "vocab_map_4 = {item[0]: index+1 for index, item in enumerate(dict(token_counter_4).items())}\n",
    "vocab_map_5 = {item[0]: index+1 for index, item in enumerate(dict(token_counter_5).items())}\n",
    "vocab_map_6 = {item[0]: index+1 for index, item in enumerate(dict(token_counter_6).items())}"
   ]
  },
  {
   "cell_type": "code",
   "execution_count": 29,
   "id": "e0f97cdf",
   "metadata": {
    "execution": {
     "iopub.execute_input": "2022-07-30T21:53:12.493105Z",
     "iopub.status.busy": "2022-07-30T21:53:12.492347Z",
     "iopub.status.idle": "2022-07-30T21:53:12.504296Z",
     "shell.execute_reply": "2022-07-30T21:53:12.503485Z"
    },
    "papermill": {
     "duration": 0.037439,
     "end_time": "2022-07-30T21:53:12.506198",
     "exception": false,
     "start_time": "2022-07-30T21:53:12.468759",
     "status": "completed"
    },
    "tags": []
   },
   "outputs": [],
   "source": [
    "max_index_0 = np.max(list(vocab_map_0.values()))\n",
    "max_index_1 = np.max(list(vocab_map_1.values()))\n",
    "max_index_2 = np.max(list(vocab_map_2.values()))\n",
    "max_index_3 = np.max(list(vocab_map_3.values()))\n",
    "max_index_4 = np.max(list(vocab_map_4.values()))\n",
    "max_index_5 = np.max(list(vocab_map_5.values()))\n",
    "max_index_6 = np.max(list(vocab_map_6.values()))"
   ]
  },
  {
   "cell_type": "code",
   "execution_count": 30,
   "id": "7c1a8c30",
   "metadata": {
    "execution": {
     "iopub.execute_input": "2022-07-30T21:53:12.554514Z",
     "iopub.status.busy": "2022-07-30T21:53:12.553617Z",
     "iopub.status.idle": "2022-07-30T21:53:12.559302Z",
     "shell.execute_reply": "2022-07-30T21:53:12.558455Z"
    },
    "papermill": {
     "duration": 0.031726,
     "end_time": "2022-07-30T21:53:12.561196",
     "exception": false,
     "start_time": "2022-07-30T21:53:12.529470",
     "status": "completed"
    },
    "tags": []
   },
   "outputs": [],
   "source": [
    "vocab_map_0['PAD_INDEX'] = 0\n",
    "vocab_map_1['PAD_INDEX'] = 0\n",
    "vocab_map_2['PAD_INDEX'] = 0\n",
    "vocab_map_3['PAD_INDEX'] = 0\n",
    "vocab_map_4['PAD_INDEX'] = 0\n",
    "vocab_map_5['PAD_INDEX'] = 0\n",
    "vocab_map_6['PAD_INDEX'] = 0"
   ]
  },
  {
   "cell_type": "code",
   "execution_count": 31,
   "id": "39e51fb1",
   "metadata": {
    "execution": {
     "iopub.execute_input": "2022-07-30T21:53:12.608012Z",
     "iopub.status.busy": "2022-07-30T21:53:12.607270Z",
     "iopub.status.idle": "2022-07-30T21:53:12.612919Z",
     "shell.execute_reply": "2022-07-30T21:53:12.612089Z"
    },
    "papermill": {
     "duration": 0.030929,
     "end_time": "2022-07-30T21:53:12.614750",
     "exception": false,
     "start_time": "2022-07-30T21:53:12.583821",
     "status": "completed"
    },
    "tags": []
   },
   "outputs": [],
   "source": [
    "vocab_map_0['NOT_FOUND_INDEX'] = max_index_0+1\n",
    "vocab_map_1['NOT_FOUND_INDEX'] = max_index_1+1\n",
    "vocab_map_2['NOT_FOUND_INDEX'] = max_index_2+1\n",
    "vocab_map_3['NOT_FOUND_INDEX'] = max_index_3+1\n",
    "vocab_map_4['NOT_FOUND_INDEX'] = max_index_4+1\n",
    "vocab_map_5['NOT_FOUND_INDEX'] = max_index_5+1\n",
    "vocab_map_6['NOT_FOUND_INDEX'] = max_index_6+1"
   ]
  },
  {
   "cell_type": "code",
   "execution_count": 32,
   "id": "ac29ef2b",
   "metadata": {
    "execution": {
     "iopub.execute_input": "2022-07-30T21:53:12.660742Z",
     "iopub.status.busy": "2022-07-30T21:53:12.660486Z",
     "iopub.status.idle": "2022-07-30T21:53:12.665390Z",
     "shell.execute_reply": "2022-07-30T21:53:12.664473Z"
    },
    "papermill": {
     "duration": 0.030088,
     "end_time": "2022-07-30T21:53:12.667304",
     "exception": false,
     "start_time": "2022-07-30T21:53:12.637216",
     "status": "completed"
    },
    "tags": []
   },
   "outputs": [],
   "source": [
    "vocab_size_0 = len(vocab_map_0)\n",
    "vocab_size_1 = len(vocab_map_1)\n",
    "vocab_size_2 = len(vocab_map_2)\n",
    "vocab_size_3 = len(vocab_map_3)\n",
    "vocab_size_4 = len(vocab_map_4)\n",
    "vocab_size_5 = len(vocab_map_5)\n",
    "vocab_size_6 = len(vocab_map_6)"
   ]
  },
  {
   "cell_type": "code",
   "execution_count": 33,
   "id": "a3da70d3",
   "metadata": {
    "execution": {
     "iopub.execute_input": "2022-07-30T21:53:12.714389Z",
     "iopub.status.busy": "2022-07-30T21:53:12.713531Z",
     "iopub.status.idle": "2022-07-30T21:53:12.723733Z",
     "shell.execute_reply": "2022-07-30T21:53:12.722344Z"
    },
    "papermill": {
     "duration": 0.036002,
     "end_time": "2022-07-30T21:53:12.726166",
     "exception": false,
     "start_time": "2022-07-30T21:53:12.690164",
     "status": "completed"
    },
    "tags": []
   },
   "outputs": [
    {
     "name": "stdout",
     "output_type": "stream",
     "text": [
      "Vocabulary Size: 5423\n",
      "Sample slice of vocabulary map: {'make': 11, 'story': 12, 'nasa': 13, 'take': 14, 'picture': 15, 'see': 16, 'planet': 17, 'not': 18, 'know': 19, 'create': 20}\n"
     ]
    }
   ],
   "source": [
    "# view vocabulary size and part of the vocabulary map\n",
    "print('Vocabulary Size:', vocab_size_0)\n",
    "print('Sample slice of vocabulary map:', dict(list(vocab_map_0.items())[10:20]))"
   ]
  },
  {
   "cell_type": "markdown",
   "id": "0264ed93",
   "metadata": {
    "papermill": {
     "duration": 0.022765,
     "end_time": "2022-07-30T21:53:12.771968",
     "exception": false,
     "start_time": "2022-07-30T21:53:12.749203",
     "status": "completed"
    },
    "tags": []
   },
   "source": [
    "Encoding and padding datasets and encoding prediction class labels:"
   ]
  },
  {
   "cell_type": "code",
   "execution_count": 34,
   "id": "36595b19",
   "metadata": {
    "execution": {
     "iopub.execute_input": "2022-07-30T21:53:12.820062Z",
     "iopub.status.busy": "2022-07-30T21:53:12.819792Z",
     "iopub.status.idle": "2022-07-30T21:53:13.367520Z",
     "shell.execute_reply": "2022-07-30T21:53:13.366603Z"
    },
    "papermill": {
     "duration": 0.574977,
     "end_time": "2022-07-30T21:53:13.370189",
     "exception": false,
     "start_time": "2022-07-30T21:53:12.795212",
     "status": "completed"
    },
    "tags": []
   },
   "outputs": [],
   "source": [
    "from keras.preprocessing import sequence\n",
    "#from keras.utils import pad_sequences       # Dependendo da versão do TensorFlow, não precisa rodar essa linha\n",
    "from sklearn.preprocessing import LabelEncoder, OneHotEncoder"
   ]
  },
  {
   "cell_type": "markdown",
   "id": "a37c1004",
   "metadata": {
    "papermill": {
     "duration": 0.023019,
     "end_time": "2022-07-30T21:53:13.416868",
     "exception": false,
     "start_time": "2022-07-30T21:53:13.393849",
     "status": "completed"
    },
    "tags": []
   },
   "source": [
    "Getting max length of train corpus and initializing label encoder"
   ]
  },
  {
   "cell_type": "code",
   "execution_count": 35,
   "id": "432adace",
   "metadata": {
    "execution": {
     "iopub.execute_input": "2022-07-30T21:53:13.467350Z",
     "iopub.status.busy": "2022-07-30T21:53:13.466466Z",
     "iopub.status.idle": "2022-07-30T21:53:13.471833Z",
     "shell.execute_reply": "2022-07-30T21:53:13.470758Z"
    },
    "papermill": {
     "duration": 0.033217,
     "end_time": "2022-07-30T21:53:13.473944",
     "exception": false,
     "start_time": "2022-07-30T21:53:13.440727",
     "status": "completed"
    },
    "tags": []
   },
   "outputs": [],
   "source": [
    "le = LabelEncoder()\n",
    "num_classes=3 # Ineffective -> 0, Adequate -> 1, Effective -> 2"
   ]
  },
  {
   "cell_type": "code",
   "execution_count": 36,
   "id": "600deddb",
   "metadata": {
    "execution": {
     "iopub.execute_input": "2022-07-30T21:53:13.523486Z",
     "iopub.status.busy": "2022-07-30T21:53:13.523206Z",
     "iopub.status.idle": "2022-07-30T21:53:13.536695Z",
     "shell.execute_reply": "2022-07-30T21:53:13.535753Z"
    },
    "papermill": {
     "duration": 0.039659,
     "end_time": "2022-07-30T21:53:13.538629",
     "exception": false,
     "start_time": "2022-07-30T21:53:13.498970",
     "status": "completed"
    },
    "tags": []
   },
   "outputs": [],
   "source": [
    "max_len_0 = np.max([len(discourse) for discourse in tokenized_train_0])\n",
    "max_len_1 = np.max([len(discourse) for discourse in tokenized_train_1])\n",
    "max_len_2 = np.max([len(discourse) for discourse in tokenized_train_2])\n",
    "max_len_3 = np.max([len(discourse) for discourse in tokenized_train_3])\n",
    "max_len_4 = np.max([len(discourse) for discourse in tokenized_train_4])\n",
    "max_len_5 = np.max([len(discourse) for discourse in tokenized_train_5])\n",
    "max_len_6 = np.max([len(discourse) for discourse in tokenized_train_6])"
   ]
  },
  {
   "cell_type": "markdown",
   "id": "cfbc960c",
   "metadata": {
    "papermill": {
     "duration": 0.023507,
     "end_time": "2022-07-30T21:53:13.585231",
     "exception": false,
     "start_time": "2022-07-30T21:53:13.561724",
     "status": "completed"
    },
    "tags": []
   },
   "source": [
    "Train discourses data corpus (converting tokenized text discourses to numeric vectors):"
   ]
  },
  {
   "cell_type": "code",
   "execution_count": 37,
   "id": "f0887f07",
   "metadata": {
    "execution": {
     "iopub.execute_input": "2022-07-30T21:53:13.632511Z",
     "iopub.status.busy": "2022-07-30T21:53:13.631896Z",
     "iopub.status.idle": "2022-07-30T21:53:13.770425Z",
     "shell.execute_reply": "2022-07-30T21:53:13.769445Z"
    },
    "papermill": {
     "duration": 0.164613,
     "end_time": "2022-07-30T21:53:13.772944",
     "exception": false,
     "start_time": "2022-07-30T21:53:13.608331",
     "status": "completed"
    },
    "tags": []
   },
   "outputs": [],
   "source": [
    "## Train discourses data corpus\n",
    "# Convert tokenized text discourses to numeric vectors\n",
    "train_X_0 = [[vocab_map_0[token] for token in tokenized_discourse] for tokenized_discourse in tokenized_train_0]\n",
    "train_X_1 = [[vocab_map_1[token] for token in tokenized_discourse] for tokenized_discourse in tokenized_train_1]\n",
    "train_X_2 = [[vocab_map_2[token] for token in tokenized_discourse] for tokenized_discourse in tokenized_train_2]\n",
    "train_X_3 = [[vocab_map_3[token] for token in tokenized_discourse] for tokenized_discourse in tokenized_train_3]\n",
    "train_X_4 = [[vocab_map_4[token] for token in tokenized_discourse] for tokenized_discourse in tokenized_train_4]\n",
    "train_X_5 = [[vocab_map_5[token] for token in tokenized_discourse] for tokenized_discourse in tokenized_train_5]\n",
    "train_X_6 = [[vocab_map_6[token] for token in tokenized_discourse] for tokenized_discourse in tokenized_train_6]"
   ]
  },
  {
   "cell_type": "code",
   "execution_count": 38,
   "id": "f36b38cc",
   "metadata": {
    "execution": {
     "iopub.execute_input": "2022-07-30T21:53:13.821901Z",
     "iopub.status.busy": "2022-07-30T21:53:13.820198Z",
     "iopub.status.idle": "2022-07-30T21:53:14.021160Z",
     "shell.execute_reply": "2022-07-30T21:53:14.020206Z"
    },
    "papermill": {
     "duration": 0.227223,
     "end_time": "2022-07-30T21:53:14.023541",
     "exception": false,
     "start_time": "2022-07-30T21:53:13.796318",
     "status": "completed"
    },
    "tags": []
   },
   "outputs": [],
   "source": [
    "train_X_0 = sequence.pad_sequences(train_X_0, maxlen=max_len_0) # pad \n",
    "train_X_1 = sequence.pad_sequences(train_X_1, maxlen=max_len_1)\n",
    "train_X_2 = sequence.pad_sequences(train_X_2, maxlen=max_len_2)\n",
    "train_X_3 = sequence.pad_sequences(train_X_3, maxlen=max_len_3)\n",
    "train_X_4 = sequence.pad_sequences(train_X_4, maxlen=max_len_4)\n",
    "train_X_5 = sequence.pad_sequences(train_X_5, maxlen=max_len_5)\n",
    "train_X_6 = sequence.pad_sequences(train_X_6, maxlen=max_len_6)"
   ]
  },
  {
   "cell_type": "markdown",
   "id": "3c8e99a0",
   "metadata": {
    "papermill": {
     "duration": 0.022779,
     "end_time": "2022-07-30T21:53:14.070949",
     "exception": false,
     "start_time": "2022-07-30T21:53:14.048170",
     "status": "completed"
    },
    "tags": []
   },
   "source": [
    "Train prediction class labels (text discourse labels (Ineffective\\Adequate\\Effective) to encodings (0/1/2) in one hot encoding)."
   ]
  },
  {
   "cell_type": "code",
   "execution_count": 39,
   "id": "22ce3b9f",
   "metadata": {
    "execution": {
     "iopub.execute_input": "2022-07-30T21:53:14.118665Z",
     "iopub.status.busy": "2022-07-30T21:53:14.118325Z",
     "iopub.status.idle": "2022-07-30T21:53:14.136054Z",
     "shell.execute_reply": "2022-07-30T21:53:14.135233Z"
    },
    "papermill": {
     "duration": 0.043618,
     "end_time": "2022-07-30T21:53:14.137973",
     "exception": false,
     "start_time": "2022-07-30T21:53:14.094355",
     "status": "completed"
    },
    "tags": []
   },
   "outputs": [],
   "source": [
    "enc = OneHotEncoder()\n",
    "\n",
    "train_y_0 = np.array(dataset_train_0[\"discourse_effectiveness_encode\"])\n",
    "train_y_1 = np.array(dataset_train_1[\"discourse_effectiveness_encode\"])\n",
    "train_y_2 = np.array(dataset_train_2[\"discourse_effectiveness_encode\"])\n",
    "train_y_3 = np.array(dataset_train_3[\"discourse_effectiveness_encode\"])\n",
    "train_y_4 = np.array(dataset_train_4[\"discourse_effectiveness_encode\"])\n",
    "train_y_5 = np.array(dataset_train_5[\"discourse_effectiveness_encode\"])\n",
    "train_y_6 = np.array(dataset_train_6[\"discourse_effectiveness_encode\"])\n",
    "\n",
    "train_y_0 = train_y_0.reshape(-1, 1)\n",
    "train_y_1 = train_y_1.reshape(-1, 1)\n",
    "train_y_2 = train_y_2.reshape(-1, 1)\n",
    "train_y_3 = train_y_3.reshape(-1, 1)\n",
    "train_y_4 = train_y_4.reshape(-1, 1)\n",
    "train_y_5 = train_y_5.reshape(-1, 1)\n",
    "train_y_6 = train_y_6.reshape(-1, 1)\n",
    "\n",
    "train_y_0 = enc.fit_transform(train_y_0).toarray()\n",
    "train_y_1 = enc.fit_transform(train_y_1).toarray()\n",
    "train_y_2 = enc.fit_transform(train_y_2).toarray()\n",
    "train_y_3 = enc.fit_transform(train_y_3).toarray()\n",
    "train_y_4 = enc.fit_transform(train_y_4).toarray()\n",
    "train_y_5 = enc.fit_transform(train_y_5).toarray()\n",
    "train_y_6 = enc.fit_transform(train_y_6).toarray()"
   ]
  },
  {
   "cell_type": "markdown",
   "id": "9b84b4bf",
   "metadata": {
    "papermill": {
     "duration": 0.022787,
     "end_time": "2022-07-30T21:53:14.183394",
     "exception": false,
     "start_time": "2022-07-30T21:53:14.160607",
     "status": "completed"
    },
    "tags": []
   },
   "source": [
    "Test discourses data corpus (converting tokenized text discourses to numeric vectors) and viewing vector shapes."
   ]
  },
  {
   "cell_type": "code",
   "execution_count": 40,
   "id": "eaad7c86",
   "metadata": {
    "execution": {
     "iopub.execute_input": "2022-07-30T21:53:14.230916Z",
     "iopub.status.busy": "2022-07-30T21:53:14.230099Z",
     "iopub.status.idle": "2022-07-30T21:53:14.234617Z",
     "shell.execute_reply": "2022-07-30T21:53:14.233832Z"
    },
    "papermill": {
     "duration": 0.030053,
     "end_time": "2022-07-30T21:53:14.236448",
     "exception": false,
     "start_time": "2022-07-30T21:53:14.206395",
     "status": "completed"
    },
    "tags": []
   },
   "outputs": [],
   "source": [
    "# test_X = [[vocab_map[token] if vocab_map.get(token) else vocab_map['NOT_FOUND_INDEX'] \n",
    "#            for token in tokenized_discourse] \n",
    "#               for tokenized_discourse in tokenized_test]\n",
    "# test_X = sequence.pad_sequences(test_X, maxlen=max_len)\n",
    "\n",
    "# print('Max length of train discourse vectors:', max_len)\n",
    "# print('Train discourse vectors shape:', train_X.shape, ' Test discourse vectors shape:', test_X.shape)"
   ]
  },
  {
   "cell_type": "markdown",
   "id": "1d02828b",
   "metadata": {
    "papermill": {
     "duration": 0.022707,
     "end_time": "2022-07-30T21:53:14.281658",
     "exception": false,
     "start_time": "2022-07-30T21:53:14.258951",
     "status": "completed"
    },
    "tags": []
   },
   "source": [
    "Building the LSTM Model Architecture"
   ]
  },
  {
   "cell_type": "code",
   "execution_count": 41,
   "id": "ea513181",
   "metadata": {
    "execution": {
     "iopub.execute_input": "2022-07-30T21:53:14.330157Z",
     "iopub.status.busy": "2022-07-30T21:53:14.329855Z",
     "iopub.status.idle": "2022-07-30T21:53:14.334695Z",
     "shell.execute_reply": "2022-07-30T21:53:14.333735Z"
    },
    "papermill": {
     "duration": 0.031169,
     "end_time": "2022-07-30T21:53:14.336582",
     "exception": false,
     "start_time": "2022-07-30T21:53:14.305413",
     "status": "completed"
    },
    "tags": []
   },
   "outputs": [],
   "source": [
    "from keras.models import Sequential\n",
    "from keras.layers import Dense, Embedding, Dropout, SpatialDropout1D\n",
    "from keras.layers import LSTM\n",
    "from keras.callbacks import ModelCheckpoint, EarlyStopping"
   ]
  },
  {
   "cell_type": "code",
   "execution_count": 42,
   "id": "af41b5f2",
   "metadata": {
    "execution": {
     "iopub.execute_input": "2022-07-30T21:53:14.384177Z",
     "iopub.status.busy": "2022-07-30T21:53:14.382714Z",
     "iopub.status.idle": "2022-07-30T21:53:22.689078Z",
     "shell.execute_reply": "2022-07-30T21:53:22.688138Z"
    },
    "papermill": {
     "duration": 8.334303,
     "end_time": "2022-07-30T21:53:22.693509",
     "exception": false,
     "start_time": "2022-07-30T21:53:14.359206",
     "status": "completed"
    },
    "tags": []
   },
   "outputs": [
    {
     "name": "stderr",
     "output_type": "stream",
     "text": [
      "2022-07-30 21:53:14.413534: I tensorflow/stream_executor/cuda/cuda_gpu_executor.cc:937] successful NUMA node read from SysFS had negative value (-1), but there must be at least one NUMA node, so returning NUMA node zero\n",
      "2022-07-30 21:53:14.414716: I tensorflow/stream_executor/cuda/cuda_gpu_executor.cc:937] successful NUMA node read from SysFS had negative value (-1), but there must be at least one NUMA node, so returning NUMA node zero\n",
      "2022-07-30 21:53:14.415358: I tensorflow/stream_executor/cuda/cuda_gpu_executor.cc:937] successful NUMA node read from SysFS had negative value (-1), but there must be at least one NUMA node, so returning NUMA node zero\n",
      "2022-07-30 21:53:14.416189: I tensorflow/core/platform/cpu_feature_guard.cc:142] This TensorFlow binary is optimized with oneAPI Deep Neural Network Library (oneDNN) to use the following CPU instructions in performance-critical operations:  AVX2 AVX512F FMA\n",
      "To enable them in other operations, rebuild TensorFlow with the appropriate compiler flags.\n",
      "2022-07-30 21:53:14.416456: I tensorflow/stream_executor/cuda/cuda_gpu_executor.cc:937] successful NUMA node read from SysFS had negative value (-1), but there must be at least one NUMA node, so returning NUMA "
     ]
    },
    {
     "name": "stdout",
     "output_type": "stream",
     "text": [
      "Model: \"sequential\"\n",
      "_________________________________________________________________\n",
      "Layer (type)                 Output Shape              Param #   \n",
      "=================================================================\n",
      "embedding (Embedding)        (None, 316, 128)          694144    \n",
      "_________________________________________________________________\n",
      "spatial_dropout1d (SpatialDr (None, 316, 128)          0         \n",
      "_________________________________________________________________\n",
      "lstm (LSTM)                  (None, 64)                49408     \n",
      "_________________________________________________________________\n",
      "dense (Dense)                (None, 3)                 195       \n",
      "=================================================================\n",
      "Total params: 743,747\n",
      "Trainable params: 743,747\n",
      "Non-trainable params: 0\n",
      "_________________________________________________________________\n",
      "None\n"
     ]
    },
    {
     "name": "stderr",
     "output_type": "stream",
     "text": [
      "node zero\n",
      "2022-07-30 21:53:14.417160: I tensorflow/stream_executor/cuda/cuda_gpu_executor.cc:937] successful NUMA node read from SysFS had negative value (-1), but there must be at least one NUMA node, so returning NUMA node zero\n",
      "2022-07-30 21:53:14.417868: I tensorflow/stream_executor/cuda/cuda_gpu_executor.cc:937] successful NUMA node read from SysFS had negative value (-1), but there must be at least one NUMA node, so returning NUMA node zero\n",
      "2022-07-30 21:53:22.193862: I tensorflow/stream_executor/cuda/cuda_gpu_executor.cc:937] successful NUMA node read from SysFS had negative value (-1), but there must be at least one NUMA node, so returning NUMA node zero\n",
      "2022-07-30 21:53:22.194695: I tensorflow/stream_executor/cuda/cuda_gpu_executor.cc:937] successful NUMA node read from SysFS had negative value (-1), but there must be at least one NUMA node, so returning NUMA node zero\n",
      "2022-07-30 21:53:22.195339: I tensorflow/stream_executor/cuda/cuda_gpu_executor.cc:937] successful NUMA node read from SysFS had negative value (-1), but there must be at least one NUMA node, so returning NUMA node zero\n",
      "2022-07-30 21:53:22.195971: I tensorflow/core/common_runtime/gpu/gpu_device.cc:1510] Created device /job:localhost/replica:0/task:0/device:GPU:0 with 14653 MB memory:  -> device: 0, name: Tesla P100-PCIE-16GB, pci bus id: 0000:00:04.0, compute capability: 6.0\n"
     ]
    }
   ],
   "source": [
    "EMBEDDING_DIM = 128 # dimension for dense embeddings for each token\n",
    "LSTM_DIM = 64 # total LSTM units\n",
    "\n",
    "# Model 0\n",
    "model_0 = Sequential()\n",
    "model_0.add(Embedding(input_dim=vocab_size_0, output_dim=EMBEDDING_DIM, input_length=max_len_0))\n",
    "model_0.add(SpatialDropout1D(0.2))\n",
    "model_0.add(LSTM(LSTM_DIM, dropout=0.2, recurrent_dropout=0.2))\n",
    "model_0.add(Dense(3, activation=\"softmax\"))\n",
    "\n",
    "model_0.compile(loss=\"categorical_crossentropy\", optimizer=\"adam\",\n",
    "              metrics=[\"accuracy\"])\n",
    "\n",
    "#checkpointer = ModelCheckpoint(filepath=data_path + \"\\\\classifier-{epoch:02d}.hdf5\", verbose=1)\n",
    "checkpointer_0 = ModelCheckpoint(filepath=\"\\\\classifier_01-{epoch:02d}-{val_accuracy:.4f}.hdf5\", monitor=\"val_accuracy\", mode=\"max\", save_best_only=True, verbose=1)\n",
    "\n",
    "print(model_0.summary())"
   ]
  },
  {
   "cell_type": "code",
   "execution_count": 43,
   "id": "8a16e536",
   "metadata": {
    "execution": {
     "iopub.execute_input": "2022-07-30T21:53:22.744429Z",
     "iopub.status.busy": "2022-07-30T21:53:22.743501Z",
     "iopub.status.idle": "2022-07-30T21:53:22.748825Z",
     "shell.execute_reply": "2022-07-30T21:53:22.747958Z"
    },
    "papermill": {
     "duration": 0.032157,
     "end_time": "2022-07-30T21:53:22.750734",
     "exception": false,
     "start_time": "2022-07-30T21:53:22.718577",
     "status": "completed"
    },
    "tags": []
   },
   "outputs": [],
   "source": [
    "earlyStop = EarlyStopping(\n",
    "        monitor='val_accuracy',\n",
    "        patience=5,\n",
    "        verbose=1,\n",
    "        mode='max',\n",
    "        restore_best_weights=True\n",
    ")"
   ]
  },
  {
   "cell_type": "code",
   "execution_count": 44,
   "id": "60e822e9",
   "metadata": {
    "execution": {
     "iopub.execute_input": "2022-07-30T21:53:22.798359Z",
     "iopub.status.busy": "2022-07-30T21:53:22.798086Z",
     "iopub.status.idle": "2022-07-30T21:53:22.920279Z",
     "shell.execute_reply": "2022-07-30T21:53:22.918080Z"
    },
    "papermill": {
     "duration": 0.149675,
     "end_time": "2022-07-30T21:53:22.923300",
     "exception": false,
     "start_time": "2022-07-30T21:53:22.773625",
     "status": "completed"
    },
    "tags": []
   },
   "outputs": [
    {
     "name": "stdout",
     "output_type": "stream",
     "text": [
      "Model: \"sequential_1\"\n",
      "_________________________________________________________________\n",
      "Layer (type)                 Output Shape              Param #   \n",
      "=================================================================\n",
      "embedding_1 (Embedding)      (None, 46, 128)           414592    \n",
      "_________________________________________________________________\n",
      "spatial_dropout1d_1 (Spatial (None, 46, 128)           0         \n",
      "_________________________________________________________________\n",
      "lstm_1 (LSTM)                (None, 64)                49408     \n",
      "_________________________________________________________________\n",
      "dense_1 (Dense)              (None, 3)                 195       \n",
      "=================================================================\n",
      "Total params: 464,195\n",
      "Trainable params: 464,195\n",
      "Non-trainable params: 0\n",
      "_________________________________________________________________\n",
      "None\n"
     ]
    }
   ],
   "source": [
    "# Model 1\n",
    "model_1 = Sequential()\n",
    "model_1.add(Embedding(input_dim=vocab_size_1, output_dim=EMBEDDING_DIM, input_length=max_len_1))\n",
    "model_1.add(SpatialDropout1D(0.2))\n",
    "model_1.add(LSTM(LSTM_DIM, dropout=0.2, recurrent_dropout=0.2))\n",
    "model_1.add(Dense(3, activation=\"softmax\"))\n",
    "\n",
    "model_1.compile(loss=\"categorical_crossentropy\", optimizer=\"adam\",\n",
    "              metrics=[\"accuracy\"])\n",
    "\n",
    "#checkpointer = ModelCheckpoint(filepath=data_path + \"\\\\classifier-{epoch:02d}.hdf5\", verbose=1)\n",
    "checkpointer_1 = ModelCheckpoint(filepath=\"\\\\classifier_02-{epoch:02d}-{val_accuracy:.4f}.hdf5\", monitor=\"val_accuracy\", mode=\"max\", save_best_only=True, verbose=1)\n",
    "\n",
    "print(model_1.summary())"
   ]
  },
  {
   "cell_type": "code",
   "execution_count": 45,
   "id": "6cb3ad68",
   "metadata": {
    "execution": {
     "iopub.execute_input": "2022-07-30T21:53:22.972338Z",
     "iopub.status.busy": "2022-07-30T21:53:22.972052Z",
     "iopub.status.idle": "2022-07-30T21:53:23.092002Z",
     "shell.execute_reply": "2022-07-30T21:53:23.090211Z"
    },
    "papermill": {
     "duration": 0.14633,
     "end_time": "2022-07-30T21:53:23.094072",
     "exception": false,
     "start_time": "2022-07-30T21:53:22.947742",
     "status": "completed"
    },
    "tags": []
   },
   "outputs": [
    {
     "name": "stdout",
     "output_type": "stream",
     "text": [
      "Model: \"sequential_2\"\n",
      "_________________________________________________________________\n",
      "Layer (type)                 Output Shape              Param #   \n",
      "=================================================================\n",
      "embedding_2 (Embedding)      (None, 51, 128)           865664    \n",
      "_________________________________________________________________\n",
      "spatial_dropout1d_2 (Spatial (None, 51, 128)           0         \n",
      "_________________________________________________________________\n",
      "lstm_2 (LSTM)                (None, 64)                49408     \n",
      "_________________________________________________________________\n",
      "dense_2 (Dense)              (None, 3)                 195       \n",
      "=================================================================\n",
      "Total params: 915,267\n",
      "Trainable params: 915,267\n",
      "Non-trainable params: 0\n",
      "_________________________________________________________________\n",
      "None\n"
     ]
    }
   ],
   "source": [
    "# Model 2\n",
    "model_2 = Sequential()\n",
    "model_2.add(Embedding(input_dim=vocab_size_2, output_dim=EMBEDDING_DIM, input_length=max_len_2))\n",
    "model_2.add(SpatialDropout1D(0.2))\n",
    "model_2.add(LSTM(LSTM_DIM, dropout=0.2, recurrent_dropout=0.2))\n",
    "model_2.add(Dense(3, activation=\"softmax\"))\n",
    "\n",
    "model_2.compile(loss=\"categorical_crossentropy\", optimizer=\"adam\",\n",
    "              metrics=[\"accuracy\"])\n",
    "\n",
    "#checkpointer = ModelCheckpoint(filepath=data_path + \"\\\\classifier-{epoch:02d}.hdf5\", verbose=1)\n",
    "checkpointer_2 = ModelCheckpoint(filepath=\"\\\\classifier_03-{epoch:02d}-{val_accuracy:.4f}.hdf5\", monitor=\"val_accuracy\", mode=\"max\", save_best_only=True, verbose=1)\n",
    "\n",
    "print(model_2.summary())"
   ]
  },
  {
   "cell_type": "code",
   "execution_count": 46,
   "id": "85680277",
   "metadata": {
    "execution": {
     "iopub.execute_input": "2022-07-30T21:53:23.143483Z",
     "iopub.status.busy": "2022-07-30T21:53:23.142573Z",
     "iopub.status.idle": "2022-07-30T21:53:23.267400Z",
     "shell.execute_reply": "2022-07-30T21:53:23.265662Z"
    },
    "papermill": {
     "duration": 0.15223,
     "end_time": "2022-07-30T21:53:23.270099",
     "exception": false,
     "start_time": "2022-07-30T21:53:23.117869",
     "status": "completed"
    },
    "tags": []
   },
   "outputs": [
    {
     "name": "stdout",
     "output_type": "stream",
     "text": [
      "Model: \"sequential_3\"\n",
      "_________________________________________________________________\n",
      "Layer (type)                 Output Shape              Param #   \n",
      "=================================================================\n",
      "embedding_3 (Embedding)      (None, 395, 128)          2267904   \n",
      "_________________________________________________________________\n",
      "spatial_dropout1d_3 (Spatial (None, 395, 128)          0         \n",
      "_________________________________________________________________\n",
      "lstm_3 (LSTM)                (None, 64)                49408     \n",
      "_________________________________________________________________\n",
      "dense_3 (Dense)              (None, 3)                 195       \n",
      "=================================================================\n",
      "Total params: 2,317,507\n",
      "Trainable params: 2,317,507\n",
      "Non-trainable params: 0\n",
      "_________________________________________________________________\n",
      "None\n"
     ]
    }
   ],
   "source": [
    "# Model 3\n",
    "model_3 = Sequential()\n",
    "model_3.add(Embedding(input_dim=vocab_size_3, output_dim=EMBEDDING_DIM, input_length=max_len_3))\n",
    "model_3.add(SpatialDropout1D(0.2))\n",
    "model_3.add(LSTM(LSTM_DIM, dropout=0.2, recurrent_dropout=0.2))\n",
    "model_3.add(Dense(3, activation=\"softmax\"))\n",
    "\n",
    "model_3.compile(loss=\"categorical_crossentropy\", optimizer=\"adam\",\n",
    "              metrics=[\"accuracy\"])\n",
    "\n",
    "#checkpointer = ModelCheckpoint(filepath=data_path + \"\\\\classifier-{epoch:02d}.hdf5\", verbose=1)\n",
    "checkpointer_3 = ModelCheckpoint(filepath=\"\\\\classifier_04-{epoch:02d}-{val_accuracy:.4f}.hdf5\", monitor=\"val_accuracy\", mode=\"max\", save_best_only=True, verbose=1)\n",
    "\n",
    "print(model_3.summary())"
   ]
  },
  {
   "cell_type": "code",
   "execution_count": 47,
   "id": "e5dffb07",
   "metadata": {
    "execution": {
     "iopub.execute_input": "2022-07-30T21:53:23.320754Z",
     "iopub.status.busy": "2022-07-30T21:53:23.320445Z",
     "iopub.status.idle": "2022-07-30T21:53:23.444735Z",
     "shell.execute_reply": "2022-07-30T21:53:23.443636Z"
    },
    "papermill": {
     "duration": 0.151922,
     "end_time": "2022-07-30T21:53:23.447046",
     "exception": false,
     "start_time": "2022-07-30T21:53:23.295124",
     "status": "completed"
    },
    "tags": []
   },
   "outputs": [
    {
     "name": "stdout",
     "output_type": "stream",
     "text": [
      "Model: \"sequential_4\"\n",
      "_________________________________________________________________\n",
      "Layer (type)                 Output Shape              Param #   \n",
      "=================================================================\n",
      "embedding_4 (Embedding)      (None, 110, 128)          355456    \n",
      "_________________________________________________________________\n",
      "spatial_dropout1d_4 (Spatial (None, 110, 128)          0         \n",
      "_________________________________________________________________\n",
      "lstm_4 (LSTM)                (None, 64)                49408     \n",
      "_________________________________________________________________\n",
      "dense_4 (Dense)              (None, 3)                 195       \n",
      "=================================================================\n",
      "Total params: 405,059\n",
      "Trainable params: 405,059\n",
      "Non-trainable params: 0\n",
      "_________________________________________________________________\n",
      "None\n"
     ]
    }
   ],
   "source": [
    "# Model 4\n",
    "model_4 = Sequential()\n",
    "model_4.add(Embedding(input_dim=vocab_size_4, output_dim=EMBEDDING_DIM, input_length=max_len_4))\n",
    "model_4.add(SpatialDropout1D(0.2))\n",
    "model_4.add(LSTM(LSTM_DIM, dropout=0.2, recurrent_dropout=0.2))\n",
    "model_4.add(Dense(3, activation=\"softmax\"))\n",
    "\n",
    "model_4.compile(loss=\"categorical_crossentropy\", optimizer=\"adam\",\n",
    "              metrics=[\"accuracy\"])\n",
    "\n",
    "#checkpointer = ModelCheckpoint(filepath=data_path + \"\\\\classifier-{epoch:02d}.hdf5\", verbose=1)\n",
    "checkpointer_4 = ModelCheckpoint(filepath=\"\\\\classifier_05-{epoch:02d}-{val_accuracy:.4f}.hdf5\", monitor=\"val_accuracy\", mode=\"max\", save_best_only=True, verbose=1)\n",
    "\n",
    "print(model_4.summary())"
   ]
  },
  {
   "cell_type": "code",
   "execution_count": 48,
   "id": "0afb47b1",
   "metadata": {
    "execution": {
     "iopub.execute_input": "2022-07-30T21:53:23.496860Z",
     "iopub.status.busy": "2022-07-30T21:53:23.495957Z",
     "iopub.status.idle": "2022-07-30T21:53:23.618881Z",
     "shell.execute_reply": "2022-07-30T21:53:23.617923Z"
    },
    "papermill": {
     "duration": 0.15034,
     "end_time": "2022-07-30T21:53:23.621537",
     "exception": false,
     "start_time": "2022-07-30T21:53:23.471197",
     "status": "completed"
    },
    "tags": []
   },
   "outputs": [
    {
     "name": "stdout",
     "output_type": "stream",
     "text": [
      "Model: \"sequential_5\"\n",
      "_________________________________________________________________\n",
      "Layer (type)                 Output Shape              Param #   \n",
      "=================================================================\n",
      "embedding_5 (Embedding)      (None, 145, 128)          347776    \n",
      "_________________________________________________________________\n",
      "spatial_dropout1d_5 (Spatial (None, 145, 128)          0         \n",
      "_________________________________________________________________\n",
      "lstm_5 (LSTM)                (None, 64)                49408     \n",
      "_________________________________________________________________\n",
      "dense_5 (Dense)              (None, 3)                 195       \n",
      "=================================================================\n",
      "Total params: 397,379\n",
      "Trainable params: 397,379\n",
      "Non-trainable params: 0\n",
      "_________________________________________________________________\n",
      "None\n"
     ]
    }
   ],
   "source": [
    "# Model 5\n",
    "model_5 = Sequential()\n",
    "model_5.add(Embedding(input_dim=vocab_size_5, output_dim=EMBEDDING_DIM, input_length=max_len_5))\n",
    "model_5.add(SpatialDropout1D(0.2))\n",
    "model_5.add(LSTM(LSTM_DIM, dropout=0.2, recurrent_dropout=0.2))\n",
    "model_5.add(Dense(3, activation=\"softmax\"))\n",
    "\n",
    "model_5.compile(loss=\"categorical_crossentropy\", optimizer=\"adam\",\n",
    "              metrics=[\"accuracy\"])\n",
    "\n",
    "#checkpointer = ModelCheckpoint(filepath=data_path + \"\\\\classifier-{epoch:02d}.hdf5\", verbose=1)\n",
    "checkpointer_5 = ModelCheckpoint(filepath=\"\\\\classifier_06-{epoch:02d}-{val_accuracy:.4f}.hdf5\", monitor=\"val_accuracy\", mode=\"max\", save_best_only=True, verbose=1)\n",
    "\n",
    "print(model_5.summary())"
   ]
  },
  {
   "cell_type": "code",
   "execution_count": 49,
   "id": "2e45927a",
   "metadata": {
    "execution": {
     "iopub.execute_input": "2022-07-30T21:53:23.672758Z",
     "iopub.status.busy": "2022-07-30T21:53:23.671632Z",
     "iopub.status.idle": "2022-07-30T21:53:23.796486Z",
     "shell.execute_reply": "2022-07-30T21:53:23.795392Z"
    },
    "papermill": {
     "duration": 0.152841,
     "end_time": "2022-07-30T21:53:23.799701",
     "exception": false,
     "start_time": "2022-07-30T21:53:23.646860",
     "status": "completed"
    },
    "tags": []
   },
   "outputs": [
    {
     "name": "stdout",
     "output_type": "stream",
     "text": [
      "Model: \"sequential_6\"\n",
      "_________________________________________________________________\n",
      "Layer (type)                 Output Shape              Param #   \n",
      "=================================================================\n",
      "embedding_6 (Embedding)      (None, 125, 128)          832000    \n",
      "_________________________________________________________________\n",
      "spatial_dropout1d_6 (Spatial (None, 125, 128)          0         \n",
      "_________________________________________________________________\n",
      "lstm_6 (LSTM)                (None, 64)                49408     \n",
      "_________________________________________________________________\n",
      "dense_6 (Dense)              (None, 3)                 195       \n",
      "=================================================================\n",
      "Total params: 881,603\n",
      "Trainable params: 881,603\n",
      "Non-trainable params: 0\n",
      "_________________________________________________________________\n",
      "None\n"
     ]
    }
   ],
   "source": [
    "# Model 6\n",
    "model_6 = Sequential()\n",
    "model_6.add(Embedding(input_dim=vocab_size_6, output_dim=EMBEDDING_DIM, input_length=max_len_6))\n",
    "model_6.add(SpatialDropout1D(0.2))\n",
    "model_6.add(LSTM(LSTM_DIM, dropout=0.2, recurrent_dropout=0.2))\n",
    "model_6.add(Dense(3, activation=\"softmax\"))\n",
    "\n",
    "model_6.compile(loss=\"categorical_crossentropy\", optimizer=\"adam\",\n",
    "              metrics=[\"accuracy\"])\n",
    "\n",
    "#checkpointer = ModelCheckpoint(filepath=data_path + \"\\\\classifier-{epoch:02d}.hdf5\", verbose=1)\n",
    "checkpointer_6 = ModelCheckpoint(filepath=\"\\\\classifier_07-{epoch:02d}-{val_accuracy:.4f}.hdf5\", monitor=\"val_accuracy\", mode=\"max\", save_best_only=True, verbose=1)\n",
    "\n",
    "print(model_6.summary())"
   ]
  },
  {
   "cell_type": "markdown",
   "id": "20fb706c",
   "metadata": {
    "papermill": {
     "duration": 0.02331,
     "end_time": "2022-07-30T21:53:23.848997",
     "exception": false,
     "start_time": "2022-07-30T21:53:23.825687",
     "status": "completed"
    },
    "tags": []
   },
   "source": [
    "Visualizing model architecture"
   ]
  },
  {
   "cell_type": "code",
   "execution_count": 50,
   "id": "730f0bf0",
   "metadata": {
    "execution": {
     "iopub.execute_input": "2022-07-30T21:53:23.899649Z",
     "iopub.status.busy": "2022-07-30T21:53:23.898775Z",
     "iopub.status.idle": "2022-07-30T21:53:25.282684Z",
     "shell.execute_reply": "2022-07-30T21:53:25.281568Z"
    },
    "papermill": {
     "duration": 1.41115,
     "end_time": "2022-07-30T21:53:25.284878",
     "exception": false,
     "start_time": "2022-07-30T21:53:23.873728",
     "status": "completed"
    },
    "tags": []
   },
   "outputs": [
    {
     "data": {
      "image/svg+xml": [
       "<svg height=\"70pt\" viewBox=\"0.00 0.00 1290.00 78.00\" width=\"1165pt\" xmlns=\"http://www.w3.org/2000/svg\" xmlns:xlink=\"http://www.w3.org/1999/xlink\">\n",
       "<g class=\"graph\" id=\"graph0\" transform=\"scale(0.902778 0.902778) rotate(0) translate(4 74)\">\n",
       "<title>G</title>\n",
       "<polygon fill=\"white\" points=\"-4,4 -4,-74 1286,-74 1286,4 -4,4\" stroke=\"transparent\"/>\n",
       "<!-- 139878262081296 -->\n",
       "<g class=\"node\" id=\"node1\">\n",
       "<title>139878262081296</title>\n",
       "<polygon fill=\"none\" points=\"0,-0.5 0,-69.5 222,-69.5 222,-0.5 0,-0.5\" stroke=\"black\"/>\n",
       "<text font-family=\"Times,serif\" font-size=\"14.00\" text-anchor=\"middle\" x=\"111\" y=\"-54.3\">InputLayer</text>\n",
       "<polyline fill=\"none\" points=\"0,-46.5 222,-46.5 \" stroke=\"black\"/>\n",
       "<text font-family=\"Times,serif\" font-size=\"14.00\" text-anchor=\"middle\" x=\"53\" y=\"-31.3\">input:</text>\n",
       "<polyline fill=\"none\" points=\"106,-23.5 106,-46.5 \" stroke=\"black\"/>\n",
       "<text font-family=\"Times,serif\" font-size=\"14.00\" text-anchor=\"middle\" x=\"164\" y=\"-31.3\">output:</text>\n",
       "<polyline fill=\"none\" points=\"0,-23.5 222,-23.5 \" stroke=\"black\"/>\n",
       "<text font-family=\"Times,serif\" font-size=\"14.00\" text-anchor=\"middle\" x=\"55.5\" y=\"-8.3\">[(None, 316)]</text>\n",
       "<polyline fill=\"none\" points=\"111,-0.5 111,-23.5 \" stroke=\"black\"/>\n",
       "<text font-family=\"Times,serif\" font-size=\"14.00\" text-anchor=\"middle\" x=\"166.5\" y=\"-8.3\">[(None, 316)]</text>\n",
       "</g>\n",
       "<!-- 139878269070480 -->\n",
       "<g class=\"node\" id=\"node2\">\n",
       "<title>139878269070480</title>\n",
       "<polygon fill=\"none\" points=\"258,-0.5 258,-69.5 496,-69.5 496,-0.5 258,-0.5\" stroke=\"black\"/>\n",
       "<text font-family=\"Times,serif\" font-size=\"14.00\" text-anchor=\"middle\" x=\"377\" y=\"-54.3\">Embedding</text>\n",
       "<polyline fill=\"none\" points=\"258,-46.5 496,-46.5 \" stroke=\"black\"/>\n",
       "<text font-family=\"Times,serif\" font-size=\"14.00\" text-anchor=\"middle\" x=\"315\" y=\"-31.3\">input:</text>\n",
       "<polyline fill=\"none\" points=\"372,-23.5 372,-46.5 \" stroke=\"black\"/>\n",
       "<text font-family=\"Times,serif\" font-size=\"14.00\" text-anchor=\"middle\" x=\"434\" y=\"-31.3\">output:</text>\n",
       "<polyline fill=\"none\" points=\"258,-23.5 496,-23.5 \" stroke=\"black\"/>\n",
       "<text font-family=\"Times,serif\" font-size=\"14.00\" text-anchor=\"middle\" x=\"308.5\" y=\"-8.3\">(None, 316)</text>\n",
       "<polyline fill=\"none\" points=\"359,-0.5 359,-23.5 \" stroke=\"black\"/>\n",
       "<text font-family=\"Times,serif\" font-size=\"14.00\" text-anchor=\"middle\" x=\"427.5\" y=\"-8.3\">(None, 316, 128)</text>\n",
       "</g>\n",
       "<!-- 139878262081296&#45;&gt;139878269070480 -->\n",
       "<g class=\"edge\" id=\"edge1\">\n",
       "<title>139878262081296-&gt;139878269070480</title>\n",
       "<path d=\"M222.05,-35C230.49,-35 239.05,-35 247.6,-35\" fill=\"none\" stroke=\"black\"/>\n",
       "<polygon fill=\"black\" points=\"247.61,-38.5 257.61,-35 247.61,-31.5 247.61,-38.5\" stroke=\"black\"/>\n",
       "</g>\n",
       "<!-- 139878269069968 -->\n",
       "<g class=\"node\" id=\"node3\">\n",
       "<title>139878269069968</title>\n",
       "<polygon fill=\"none\" points=\"532,-0.5 532,-69.5 806,-69.5 806,-0.5 532,-0.5\" stroke=\"black\"/>\n",
       "<text font-family=\"Times,serif\" font-size=\"14.00\" text-anchor=\"middle\" x=\"669\" y=\"-54.3\">SpatialDropout1D</text>\n",
       "<polyline fill=\"none\" points=\"532,-46.5 806,-46.5 \" stroke=\"black\"/>\n",
       "<text font-family=\"Times,serif\" font-size=\"14.00\" text-anchor=\"middle\" x=\"598\" y=\"-31.3\">input:</text>\n",
       "<polyline fill=\"none\" points=\"664,-23.5 664,-46.5 \" stroke=\"black\"/>\n",
       "<text font-family=\"Times,serif\" font-size=\"14.00\" text-anchor=\"middle\" x=\"735\" y=\"-31.3\">output:</text>\n",
       "<polyline fill=\"none\" points=\"532,-23.5 806,-23.5 \" stroke=\"black\"/>\n",
       "<text font-family=\"Times,serif\" font-size=\"14.00\" text-anchor=\"middle\" x=\"600.5\" y=\"-8.3\">(None, 316, 128)</text>\n",
       "<polyline fill=\"none\" points=\"669,-0.5 669,-23.5 \" stroke=\"black\"/>\n",
       "<text font-family=\"Times,serif\" font-size=\"14.00\" text-anchor=\"middle\" x=\"737.5\" y=\"-8.3\">(None, 316, 128)</text>\n",
       "</g>\n",
       "<!-- 139878269070480&#45;&gt;139878269069968 -->\n",
       "<g class=\"edge\" id=\"edge2\">\n",
       "<title>139878269070480-&gt;139878269069968</title>\n",
       "<path d=\"M496.37,-35C504.61,-35 512.97,-35 521.34,-35\" fill=\"none\" stroke=\"black\"/>\n",
       "<polygon fill=\"black\" points=\"521.54,-38.5 531.54,-35 521.54,-31.5 521.54,-38.5\" stroke=\"black\"/>\n",
       "</g>\n",
       "<!-- 139878269080400 -->\n",
       "<g class=\"node\" id=\"node4\">\n",
       "<title>139878269080400</title>\n",
       "<polygon fill=\"none\" points=\"842,-0.5 842,-69.5 1071,-69.5 1071,-0.5 842,-0.5\" stroke=\"black\"/>\n",
       "<text font-family=\"Times,serif\" font-size=\"14.00\" text-anchor=\"middle\" x=\"956.5\" y=\"-54.3\">LSTM</text>\n",
       "<polyline fill=\"none\" points=\"842,-46.5 1071,-46.5 \" stroke=\"black\"/>\n",
       "<text font-family=\"Times,serif\" font-size=\"14.00\" text-anchor=\"middle\" x=\"897\" y=\"-31.3\">input:</text>\n",
       "<polyline fill=\"none\" points=\"952,-23.5 952,-46.5 \" stroke=\"black\"/>\n",
       "<text font-family=\"Times,serif\" font-size=\"14.00\" text-anchor=\"middle\" x=\"1011.5\" y=\"-31.3\">output:</text>\n",
       "<polyline fill=\"none\" points=\"842,-23.5 1071,-23.5 \" stroke=\"black\"/>\n",
       "<text font-family=\"Times,serif\" font-size=\"14.00\" text-anchor=\"middle\" x=\"910.5\" y=\"-8.3\">(None, 316, 128)</text>\n",
       "<polyline fill=\"none\" points=\"979,-0.5 979,-23.5 \" stroke=\"black\"/>\n",
       "<text font-family=\"Times,serif\" font-size=\"14.00\" text-anchor=\"middle\" x=\"1025\" y=\"-8.3\">(None, 64)</text>\n",
       "</g>\n",
       "<!-- 139878269069968&#45;&gt;139878269080400 -->\n",
       "<g class=\"edge\" id=\"edge3\">\n",
       "<title>139878269069968-&gt;139878269080400</title>\n",
       "<path d=\"M806.06,-35C814.54,-35 823.04,-35 831.46,-35\" fill=\"none\" stroke=\"black\"/>\n",
       "<polygon fill=\"black\" points=\"831.68,-38.5 841.68,-35 831.68,-31.5 831.68,-38.5\" stroke=\"black\"/>\n",
       "</g>\n",
       "<!-- 139878261980624 -->\n",
       "<g class=\"node\" id=\"node5\">\n",
       "<title>139878261980624</title>\n",
       "<polygon fill=\"none\" points=\"1107,-0.5 1107,-69.5 1282,-69.5 1282,-0.5 1107,-0.5\" stroke=\"black\"/>\n",
       "<text font-family=\"Times,serif\" font-size=\"14.00\" text-anchor=\"middle\" x=\"1194.5\" y=\"-54.3\">Dense</text>\n",
       "<polyline fill=\"none\" points=\"1107,-46.5 1282,-46.5 \" stroke=\"black\"/>\n",
       "<text font-family=\"Times,serif\" font-size=\"14.00\" text-anchor=\"middle\" x=\"1148.5\" y=\"-31.3\">input:</text>\n",
       "<polyline fill=\"none\" points=\"1190,-23.5 1190,-46.5 \" stroke=\"black\"/>\n",
       "<text font-family=\"Times,serif\" font-size=\"14.00\" text-anchor=\"middle\" x=\"1236\" y=\"-31.3\">output:</text>\n",
       "<polyline fill=\"none\" points=\"1107,-23.5 1282,-23.5 \" stroke=\"black\"/>\n",
       "<text font-family=\"Times,serif\" font-size=\"14.00\" text-anchor=\"middle\" x=\"1153\" y=\"-8.3\">(None, 64)</text>\n",
       "<polyline fill=\"none\" points=\"1199,-0.5 1199,-23.5 \" stroke=\"black\"/>\n",
       "<text font-family=\"Times,serif\" font-size=\"14.00\" text-anchor=\"middle\" x=\"1240.5\" y=\"-8.3\">(None, 3)</text>\n",
       "</g>\n",
       "<!-- 139878269080400&#45;&gt;139878261980624 -->\n",
       "<g class=\"edge\" id=\"edge4\">\n",
       "<title>139878269080400-&gt;139878261980624</title>\n",
       "<path d=\"M1071.01,-35C1079.57,-35 1088.16,-35 1096.61,-35\" fill=\"none\" stroke=\"black\"/>\n",
       "<polygon fill=\"black\" points=\"1096.83,-38.5 1106.83,-35 1096.83,-31.5 1096.83,-38.5\" stroke=\"black\"/>\n",
       "</g>\n",
       "</g>\n",
       "</svg>"
      ],
      "text/plain": [
       "<IPython.core.display.SVG object>"
      ]
     },
     "execution_count": 50,
     "metadata": {},
     "output_type": "execute_result"
    }
   ],
   "source": [
    "from IPython.display import SVG\n",
    "from keras.utils.vis_utils import model_to_dot\n",
    "\n",
    "SVG(model_to_dot(model_0, show_shapes=True, show_layer_names=False, \n",
    "                 rankdir='LR', dpi=65).create(prog='dot', format='svg'))"
   ]
  },
  {
   "cell_type": "markdown",
   "id": "7622f76b",
   "metadata": {
    "papermill": {
     "duration": 0.024382,
     "end_time": "2022-07-30T21:53:25.333322",
     "exception": false,
     "start_time": "2022-07-30T21:53:25.308940",
     "status": "completed"
    },
    "tags": []
   },
   "source": [
    "Training the model"
   ]
  },
  {
   "cell_type": "code",
   "execution_count": 51,
   "id": "584b54c6",
   "metadata": {
    "execution": {
     "iopub.execute_input": "2022-07-30T21:53:25.383247Z",
     "iopub.status.busy": "2022-07-30T21:53:25.381766Z",
     "iopub.status.idle": "2022-07-30T21:58:13.635780Z",
     "shell.execute_reply": "2022-07-30T21:58:13.634467Z"
    },
    "papermill": {
     "duration": 288.281007,
     "end_time": "2022-07-30T21:58:13.638080",
     "exception": false,
     "start_time": "2022-07-30T21:53:25.357073",
     "status": "completed"
    },
    "tags": []
   },
   "outputs": [
    {
     "name": "stderr",
     "output_type": "stream",
     "text": [
      "2022-07-30 21:53:25.438136: I tensorflow/compiler/mlir/mlir_graph_optimization_pass.cc:185] None of the MLIR Optimization Passes are enabled (registered 2)\n"
     ]
    },
    {
     "name": "stdout",
     "output_type": "stream",
     "text": [
      "Epoch 1/20\n",
      "21/21 [==============================] - 32s 1s/step - loss: 0.9961 - accuracy: 0.5497 - val_loss: 0.9416 - val_accuracy: 0.5696\n",
      "\n",
      "Epoch 00001: val_accuracy improved from -inf to 0.56957, saving model to \\classifier_01-01-0.5696.hdf5\n",
      "Epoch 2/20\n",
      "21/21 [==============================] - 29s 1s/step - loss: 0.8237 - accuracy: 0.6526 - val_loss: 0.7961 - val_accuracy: 0.6522\n",
      "\n",
      "Epoch 00002: val_accuracy improved from 0.56957 to 0.65217, saving model to \\classifier_01-02-0.6522.hdf5\n",
      "Epoch 3/20\n",
      "21/21 [==============================] - 28s 1s/step - loss: 0.7312 - accuracy: 0.6812 - val_loss: 0.7667 - val_accuracy: 0.6565\n",
      "\n",
      "Epoch 00003: val_accuracy improved from 0.65217 to 0.65652, saving model to \\classifier_01-03-0.6565.hdf5\n",
      "Epoch 4/20\n",
      "21/21 [==============================] - 28s 1s/step - loss: 0.6031 - accuracy: 0.7390 - val_loss: 0.7487 - val_accuracy: 0.6696\n",
      "\n",
      "Epoch 00004: val_accuracy improved from 0.65652 to 0.66957, saving model to \\classifier_01-04-0.6696.hdf5\n",
      "Epoch 5/20\n",
      "21/21 [==============================] - 28s 1s/step - loss: 0.4680 - accuracy: 0.8001 - val_loss: 0.8311 - val_accuracy: 0.6739\n",
      "\n",
      "Epoch 00005: val_accuracy improved from 0.66957 to 0.67391, saving model to \\classifier_01-05-0.6739.hdf5\n",
      "Epoch 6/20\n",
      "21/21 [==============================] - 29s 1s/step - loss: 0.3527 - accuracy: 0.8603 - val_loss: 1.0389 - val_accuracy: 0.6565\n",
      "\n",
      "Epoch 00006: val_accuracy did not improve from 0.67391\n",
      "Epoch 7/20\n",
      "21/21 [==============================] - 28s 1s/step - loss: 0.2735 - accuracy: 0.8957 - val_loss: 1.2355 - val_accuracy: 0.6087\n",
      "\n",
      "Epoch 00007: val_accuracy did not improve from 0.67391\n",
      "Epoch 8/20\n",
      "21/21 [==============================] - 28s 1s/step - loss: 0.2510 - accuracy: 0.9049 - val_loss: 1.2428 - val_accuracy: 0.6087\n",
      "\n",
      "Epoch 00008: val_accuracy did not improve from 0.67391\n",
      "Epoch 9/20\n",
      "21/21 [==============================] - 29s 1s/step - loss: 0.1981 - accuracy: 0.9311 - val_loss: 1.6122 - val_accuracy: 0.5696\n",
      "\n",
      "Epoch 00009: val_accuracy did not improve from 0.67391\n",
      "Epoch 10/20\n",
      "21/21 [==============================] - 28s 1s/step - loss: 0.1744 - accuracy: 0.9393 - val_loss: 1.3725 - val_accuracy: 0.5870\n",
      "\n",
      "Epoch 00010: val_accuracy did not improve from 0.67391\n",
      "Restoring model weights from the end of the best epoch.\n",
      "Epoch 00010: early stopping\n"
     ]
    },
    {
     "data": {
      "text/plain": [
       "<keras.callbacks.History at 0x7f37f1d64190>"
      ]
     },
     "execution_count": 51,
     "metadata": {},
     "output_type": "execute_result"
    }
   ],
   "source": [
    "batch_size = 100\n",
    "#model.fit(train_X, train_y, epochs=5, batch_size=batch_size, \n",
    "model_0.fit(train_X_0, train_y_0, epochs=20, batch_size=batch_size, \n",
    "          shuffle=True, validation_split=0.1, callbacks=[checkpointer_0, earlyStop], verbose=1)"
   ]
  },
  {
   "cell_type": "code",
   "execution_count": 52,
   "id": "9259f6ee",
   "metadata": {
    "execution": {
     "iopub.execute_input": "2022-07-30T21:58:13.716426Z",
     "iopub.status.busy": "2022-07-30T21:58:13.715634Z",
     "iopub.status.idle": "2022-07-30T22:00:00.520476Z",
     "shell.execute_reply": "2022-07-30T22:00:00.519617Z"
    },
    "papermill": {
     "duration": 106.845886,
     "end_time": "2022-07-30T22:00:00.522528",
     "exception": false,
     "start_time": "2022-07-30T21:58:13.676642",
     "status": "completed"
    },
    "tags": []
   },
   "outputs": [
    {
     "name": "stdout",
     "output_type": "stream",
     "text": [
      "Epoch 1/20\n",
      "37/37 [==============================] - 10s 202ms/step - loss: 0.8446 - accuracy: 0.6990 - val_loss: 0.9386 - val_accuracy: 0.5682\n",
      "\n",
      "Epoch 00001: val_accuracy improved from -inf to 0.56824, saving model to \\classifier_02-01-0.5682.hdf5\n",
      "Epoch 2/20\n",
      "37/37 [==============================] - 7s 197ms/step - loss: 0.7323 - accuracy: 0.7167 - val_loss: 0.8698 - val_accuracy: 0.6328\n",
      "\n",
      "Epoch 00002: val_accuracy improved from 0.56824 to 0.63275, saving model to \\classifier_02-02-0.6328.hdf5\n",
      "Epoch 3/20\n",
      "37/37 [==============================] - 8s 225ms/step - loss: 0.6523 - accuracy: 0.7454 - val_loss: 0.8725 - val_accuracy: 0.6377\n",
      "\n",
      "Epoch 00003: val_accuracy improved from 0.63275 to 0.63772, saving model to \\classifier_02-03-0.6377.hdf5\n",
      "Epoch 4/20\n",
      "37/37 [==============================] - 8s 207ms/step - loss: 0.5634 - accuracy: 0.7788 - val_loss: 0.8960 - val_accuracy: 0.6501\n",
      "\n",
      "Epoch 00004: val_accuracy improved from 0.63772 to 0.65012, saving model to \\classifier_02-04-0.6501.hdf5\n",
      "Epoch 5/20\n",
      "37/37 [==============================] - 7s 191ms/step - loss: 0.4855 - accuracy: 0.8144 - val_loss: 0.9921 - val_accuracy: 0.6278\n",
      "\n",
      "Epoch 00005: val_accuracy did not improve from 0.65012\n",
      "Epoch 6/20\n",
      "37/37 [==============================] - 7s 202ms/step - loss: 0.4298 - accuracy: 0.8412 - val_loss: 0.9957 - val_accuracy: 0.6476\n",
      "\n",
      "Epoch 00006: val_accuracy did not improve from 0.65012\n",
      "Epoch 7/20\n",
      "37/37 [==============================] - 8s 228ms/step - loss: 0.3707 - accuracy: 0.8608 - val_loss: 1.0243 - val_accuracy: 0.6203\n",
      "\n",
      "Epoch 00007: val_accuracy did not improve from 0.65012\n",
      "Epoch 8/20\n",
      "37/37 [==============================] - 7s 194ms/step - loss: 0.3289 - accuracy: 0.8829 - val_loss: 1.1208 - val_accuracy: 0.6005\n",
      "\n",
      "Epoch 00008: val_accuracy did not improve from 0.65012\n",
      "Epoch 9/20\n",
      "37/37 [==============================] - 8s 207ms/step - loss: 0.3015 - accuracy: 0.8928 - val_loss: 1.2626 - val_accuracy: 0.5955\n",
      "\n",
      "Epoch 00009: val_accuracy did not improve from 0.65012\n",
      "Restoring model weights from the end of the best epoch.\n",
      "Epoch 00009: early stopping\n"
     ]
    },
    {
     "data": {
      "text/plain": [
       "<keras.callbacks.History at 0x7f37e81aaed0>"
      ]
     },
     "execution_count": 52,
     "metadata": {},
     "output_type": "execute_result"
    }
   ],
   "source": [
    "model_1.fit(train_X_1, train_y_1, epochs=20, batch_size=batch_size, \n",
    "          shuffle=True, validation_split=0.1, callbacks=[checkpointer_1, earlyStop], verbose=1)"
   ]
  },
  {
   "cell_type": "code",
   "execution_count": 53,
   "id": "4ff9e927",
   "metadata": {
    "execution": {
     "iopub.execute_input": "2022-07-30T22:00:00.646894Z",
     "iopub.status.busy": "2022-07-30T22:00:00.646512Z",
     "iopub.status.idle": "2022-07-30T22:02:57.044860Z",
     "shell.execute_reply": "2022-07-30T22:02:57.043818Z"
    },
    "papermill": {
     "duration": 176.465398,
     "end_time": "2022-07-30T22:02:57.046903",
     "exception": false,
     "start_time": "2022-07-30T22:00:00.581505",
     "status": "completed"
    },
    "tags": []
   },
   "outputs": [
    {
     "name": "stdout",
     "output_type": "stream",
     "text": [
      "Epoch 1/20\n",
      "108/108 [==============================] - 28s 238ms/step - loss: 0.8968 - accuracy: 0.6168 - val_loss: 0.9157 - val_accuracy: 0.5326\n",
      "\n",
      "Epoch 00001: val_accuracy improved from -inf to 0.53255, saving model to \\classifier_03-01-0.5326.hdf5\n",
      "Epoch 2/20\n",
      "108/108 [==============================] - 25s 231ms/step - loss: 0.7528 - accuracy: 0.6793 - val_loss: 0.8975 - val_accuracy: 0.5718\n",
      "\n",
      "Epoch 00002: val_accuracy improved from 0.53255 to 0.57179, saving model to \\classifier_03-02-0.5718.hdf5\n",
      "Epoch 3/20\n",
      "108/108 [==============================] - 25s 229ms/step - loss: 0.6595 - accuracy: 0.7147 - val_loss: 0.9411 - val_accuracy: 0.5668\n",
      "\n",
      "Epoch 00003: val_accuracy did not improve from 0.57179\n",
      "Epoch 4/20\n",
      "108/108 [==============================] - 24s 222ms/step - loss: 0.5842 - accuracy: 0.7552 - val_loss: 0.9667 - val_accuracy: 0.5676\n",
      "\n",
      "Epoch 00004: val_accuracy did not improve from 0.57179\n",
      "Epoch 5/20\n",
      "108/108 [==============================] - 25s 234ms/step - loss: 0.5210 - accuracy: 0.7885 - val_loss: 1.0386 - val_accuracy: 0.5534\n",
      "\n",
      "Epoch 00005: val_accuracy did not improve from 0.57179\n",
      "Epoch 6/20\n",
      "108/108 [==============================] - 25s 229ms/step - loss: 0.4730 - accuracy: 0.8068 - val_loss: 1.0811 - val_accuracy: 0.5351\n",
      "\n",
      "Epoch 00006: val_accuracy did not improve from 0.57179\n",
      "Epoch 7/20\n",
      "108/108 [==============================] - 25s 231ms/step - loss: 0.4307 - accuracy: 0.8251 - val_loss: 1.1646 - val_accuracy: 0.5209\n",
      "\n",
      "Epoch 00007: val_accuracy did not improve from 0.57179\n",
      "Restoring model weights from the end of the best epoch.\n",
      "Epoch 00007: early stopping\n"
     ]
    },
    {
     "data": {
      "text/plain": [
       "<keras.callbacks.History at 0x7f37bf9a1f10>"
      ]
     },
     "execution_count": 53,
     "metadata": {},
     "output_type": "execute_result"
    }
   ],
   "source": [
    "model_2.fit(train_X_2, train_y_2, epochs=20, batch_size=batch_size, \n",
    "          shuffle=True, validation_split=0.1, callbacks=[checkpointer_2, earlyStop], verbose=1)"
   ]
  },
  {
   "cell_type": "code",
   "execution_count": 54,
   "id": "e5ed12a0",
   "metadata": {
    "execution": {
     "iopub.execute_input": "2022-07-30T22:02:57.262289Z",
     "iopub.status.busy": "2022-07-30T22:02:57.261963Z",
     "iopub.status.idle": "2022-07-30T22:24:47.537112Z",
     "shell.execute_reply": "2022-07-30T22:24:47.536020Z"
    },
    "papermill": {
     "duration": 1310.383103,
     "end_time": "2022-07-30T22:24:47.539167",
     "exception": false,
     "start_time": "2022-07-30T22:02:57.156064",
     "status": "completed"
    },
    "tags": []
   },
   "outputs": [
    {
     "name": "stdout",
     "output_type": "stream",
     "text": [
      "Epoch 1/20\n",
      "109/109 [==============================] - 184s 2s/step - loss: 0.9125 - accuracy: 0.5593 - val_loss: 0.8103 - val_accuracy: 0.6515\n",
      "\n",
      "Epoch 00001: val_accuracy improved from -inf to 0.65153, saving model to \\classifier_04-01-0.6515.hdf5\n",
      "Epoch 2/20\n",
      "109/109 [==============================] - 182s 2s/step - loss: 0.7510 - accuracy: 0.6442 - val_loss: 0.8422 - val_accuracy: 0.6557\n",
      "\n",
      "Epoch 00002: val_accuracy improved from 0.65153 to 0.65566, saving model to \\classifier_04-02-0.6557.hdf5\n",
      "Epoch 3/20\n",
      "109/109 [==============================] - 182s 2s/step - loss: 0.6385 - accuracy: 0.7220 - val_loss: 0.9479 - val_accuracy: 0.5838\n",
      "\n",
      "Epoch 00003: val_accuracy did not improve from 0.65566\n",
      "Epoch 4/20\n",
      "109/109 [==============================] - 184s 2s/step - loss: 0.5241 - accuracy: 0.7834 - val_loss: 0.9831 - val_accuracy: 0.6325\n",
      "\n",
      "Epoch 00004: val_accuracy did not improve from 0.65566\n",
      "Epoch 5/20\n",
      "109/109 [==============================] - 185s 2s/step - loss: 0.4322 - accuracy: 0.8274 - val_loss: 1.0390 - val_accuracy: 0.6201\n",
      "\n",
      "Epoch 00005: val_accuracy did not improve from 0.65566\n",
      "Epoch 6/20\n",
      "109/109 [==============================] - 183s 2s/step - loss: 0.3540 - accuracy: 0.8585 - val_loss: 1.0968 - val_accuracy: 0.6003\n",
      "\n",
      "Epoch 00006: val_accuracy did not improve from 0.65566\n",
      "Epoch 7/20\n",
      "109/109 [==============================] - 182s 2s/step - loss: 0.3005 - accuracy: 0.8820 - val_loss: 1.1118 - val_accuracy: 0.6226\n",
      "\n",
      "Epoch 00007: val_accuracy did not improve from 0.65566\n",
      "Restoring model weights from the end of the best epoch.\n",
      "Epoch 00007: early stopping\n"
     ]
    },
    {
     "data": {
      "text/plain": [
       "<keras.callbacks.History at 0x7f37bc221f10>"
      ]
     },
     "execution_count": 54,
     "metadata": {},
     "output_type": "execute_result"
    }
   ],
   "source": [
    "model_3.fit(train_X_3, train_y_3, epochs=20, batch_size=batch_size, \n",
    "          shuffle=True, validation_split=0.1, callbacks=[checkpointer_3, earlyStop], verbose=1)"
   ]
  },
  {
   "cell_type": "code",
   "execution_count": 55,
   "id": "a0f37cff",
   "metadata": {
    "execution": {
     "iopub.execute_input": "2022-07-30T22:24:47.840942Z",
     "iopub.status.busy": "2022-07-30T22:24:47.840615Z",
     "iopub.status.idle": "2022-07-30T22:26:08.051602Z",
     "shell.execute_reply": "2022-07-30T22:26:08.050457Z"
    },
    "papermill": {
     "duration": 80.363717,
     "end_time": "2022-07-30T22:26:08.053462",
     "exception": false,
     "start_time": "2022-07-30T22:24:47.689745",
     "status": "completed"
    },
    "tags": []
   },
   "outputs": [
    {
     "name": "stdout",
     "output_type": "stream",
     "text": [
      "Epoch 1/20\n",
      "16/16 [==============================] - 10s 469ms/step - loss: 0.9730 - accuracy: 0.6257 - val_loss: 0.7854 - val_accuracy: 0.6742\n",
      "\n",
      "Epoch 00001: val_accuracy improved from -inf to 0.67416, saving model to \\classifier_05-01-0.6742.hdf5\n",
      "Epoch 2/20\n",
      "16/16 [==============================] - 7s 462ms/step - loss: 0.8703 - accuracy: 0.6458 - val_loss: 0.7870 - val_accuracy: 0.6742\n",
      "\n",
      "Epoch 00002: val_accuracy did not improve from 0.67416\n",
      "Epoch 3/20\n",
      "16/16 [==============================] - 8s 525ms/step - loss: 0.8315 - accuracy: 0.6458 - val_loss: 0.7806 - val_accuracy: 0.6742\n",
      "\n",
      "Epoch 00003: val_accuracy did not improve from 0.67416\n",
      "Epoch 4/20\n",
      "16/16 [==============================] - 8s 490ms/step - loss: 0.7657 - accuracy: 0.6639 - val_loss: 0.7494 - val_accuracy: 0.6854\n",
      "\n",
      "Epoch 00004: val_accuracy improved from 0.67416 to 0.68539, saving model to \\classifier_05-04-0.6854.hdf5\n",
      "Epoch 5/20\n",
      "16/16 [==============================] - 7s 454ms/step - loss: 0.6569 - accuracy: 0.7266 - val_loss: 0.7278 - val_accuracy: 0.6910\n",
      "\n",
      "Epoch 00005: val_accuracy improved from 0.68539 to 0.69101, saving model to \\classifier_05-05-0.6910.hdf5\n",
      "Epoch 6/20\n",
      "16/16 [==============================] - 8s 472ms/step - loss: 0.5396 - accuracy: 0.7806 - val_loss: 0.7973 - val_accuracy: 0.6629\n",
      "\n",
      "Epoch 00006: val_accuracy did not improve from 0.69101\n",
      "Epoch 7/20\n",
      "16/16 [==============================] - 7s 445ms/step - loss: 0.4358 - accuracy: 0.8313 - val_loss: 0.9115 - val_accuracy: 0.6461\n",
      "\n",
      "Epoch 00007: val_accuracy did not improve from 0.69101\n",
      "Epoch 8/20\n",
      "16/16 [==============================] - 9s 524ms/step - loss: 0.3594 - accuracy: 0.8639 - val_loss: 0.9695 - val_accuracy: 0.5787\n",
      "\n",
      "Epoch 00008: val_accuracy did not improve from 0.69101\n",
      "Epoch 9/20\n",
      "16/16 [==============================] - 8s 471ms/step - loss: 0.3033 - accuracy: 0.8934 - val_loss: 1.0473 - val_accuracy: 0.5787\n",
      "\n",
      "Epoch 00009: val_accuracy did not improve from 0.69101\n",
      "Epoch 10/20\n",
      "16/16 [==============================] - 7s 468ms/step - loss: 0.2494 - accuracy: 0.9179 - val_loss: 1.2249 - val_accuracy: 0.6011\n",
      "\n",
      "Epoch 00010: val_accuracy did not improve from 0.69101\n",
      "Restoring model weights from the end of the best epoch.\n",
      "Epoch 00010: early stopping\n"
     ]
    },
    {
     "data": {
      "text/plain": [
       "<keras.callbacks.History at 0x7f37baa9ed50>"
      ]
     },
     "execution_count": 55,
     "metadata": {},
     "output_type": "execute_result"
    }
   ],
   "source": [
    "model_4.fit(train_X_4, train_y_4, epochs=20, batch_size=batch_size, \n",
    "          shuffle=True, validation_split=0.1, callbacks=[checkpointer_4, earlyStop], verbose=1)"
   ]
  },
  {
   "cell_type": "code",
   "execution_count": 56,
   "id": "04d2f2c6",
   "metadata": {
    "execution": {
     "iopub.execute_input": "2022-07-30T22:26:08.372190Z",
     "iopub.status.busy": "2022-07-30T22:26:08.371860Z",
     "iopub.status.idle": "2022-07-30T22:27:18.738918Z",
     "shell.execute_reply": "2022-07-30T22:27:18.737787Z"
    },
    "papermill": {
     "duration": 70.528129,
     "end_time": "2022-07-30T22:27:18.741082",
     "exception": false,
     "start_time": "2022-07-30T22:26:08.212953",
     "status": "completed"
    },
    "tags": []
   },
   "outputs": [
    {
     "name": "stdout",
     "output_type": "stream",
     "text": [
      "Epoch 1/20\n",
      "12/12 [==============================] - 9s 609ms/step - loss: 1.0516 - accuracy: 0.5139 - val_loss: 0.9379 - val_accuracy: 0.5680\n",
      "\n",
      "Epoch 00001: val_accuracy improved from -inf to 0.56800, saving model to \\classifier_06-01-0.5680.hdf5\n",
      "Epoch 2/20\n",
      "12/12 [==============================] - 8s 651ms/step - loss: 0.9560 - accuracy: 0.5559 - val_loss: 0.8943 - val_accuracy: 0.5680\n",
      "\n",
      "Epoch 00002: val_accuracy did not improve from 0.56800\n",
      "Epoch 3/20\n",
      "12/12 [==============================] - 7s 623ms/step - loss: 0.9152 - accuracy: 0.5827 - val_loss: 0.8537 - val_accuracy: 0.6320\n",
      "\n",
      "Epoch 00003: val_accuracy improved from 0.56800 to 0.63200, saving model to \\classifier_06-03-0.6320.hdf5\n",
      "Epoch 4/20\n",
      "12/12 [==============================] - 8s 641ms/step - loss: 0.8447 - accuracy: 0.6425 - val_loss: 0.7561 - val_accuracy: 0.6960\n",
      "\n",
      "Epoch 00004: val_accuracy improved from 0.63200 to 0.69600, saving model to \\classifier_06-04-0.6960.hdf5\n",
      "Epoch 5/20\n",
      "12/12 [==============================] - 7s 591ms/step - loss: 0.7773 - accuracy: 0.6685 - val_loss: 0.7259 - val_accuracy: 0.6800\n",
      "\n",
      "Epoch 00005: val_accuracy did not improve from 0.69600\n",
      "Epoch 6/20\n",
      "12/12 [==============================] - 8s 685ms/step - loss: 0.6721 - accuracy: 0.6944 - val_loss: 0.7068 - val_accuracy: 0.6720\n",
      "\n",
      "Epoch 00006: val_accuracy did not improve from 0.69600\n",
      "Epoch 7/20\n",
      "12/12 [==============================] - 7s 626ms/step - loss: 0.5662 - accuracy: 0.7712 - val_loss: 0.7321 - val_accuracy: 0.6400\n",
      "\n",
      "Epoch 00007: val_accuracy did not improve from 0.69600\n",
      "Epoch 8/20\n",
      "12/12 [==============================] - 7s 621ms/step - loss: 0.4431 - accuracy: 0.8168 - val_loss: 0.9405 - val_accuracy: 0.6480\n",
      "\n",
      "Epoch 00008: val_accuracy did not improve from 0.69600\n",
      "Epoch 9/20\n",
      "12/12 [==============================] - 8s 634ms/step - loss: 0.3795 - accuracy: 0.8847 - val_loss: 1.1713 - val_accuracy: 0.6240\n",
      "\n",
      "Epoch 00009: val_accuracy did not improve from 0.69600\n",
      "Restoring model weights from the end of the best epoch.\n",
      "Epoch 00009: early stopping\n"
     ]
    },
    {
     "data": {
      "text/plain": [
       "<keras.callbacks.History at 0x7f37f1ecf490>"
      ]
     },
     "execution_count": 56,
     "metadata": {},
     "output_type": "execute_result"
    }
   ],
   "source": [
    "model_5.fit(train_X_5, train_y_5, epochs=20, batch_size=batch_size, \n",
    "          shuffle=True, validation_split=0.1, callbacks=[checkpointer_5, earlyStop], verbose=1)"
   ]
  },
  {
   "cell_type": "code",
   "execution_count": 57,
   "id": "6267437f",
   "metadata": {
    "execution": {
     "iopub.execute_input": "2022-07-30T22:27:19.078177Z",
     "iopub.status.busy": "2022-07-30T22:27:19.077303Z",
     "iopub.status.idle": "2022-07-30T22:30:06.904542Z",
     "shell.execute_reply": "2022-07-30T22:30:06.903609Z"
    },
    "papermill": {
     "duration": 167.996467,
     "end_time": "2022-07-30T22:30:06.906701",
     "exception": false,
     "start_time": "2022-07-30T22:27:18.910234",
     "status": "completed"
    },
    "tags": []
   },
   "outputs": [
    {
     "name": "stdout",
     "output_type": "stream",
     "text": [
      "Epoch 1/20\n",
      "31/31 [==============================] - 19s 547ms/step - loss: 0.9130 - accuracy: 0.6053 - val_loss: 0.7663 - val_accuracy: 0.6339\n",
      "\n",
      "Epoch 00001: val_accuracy improved from -inf to 0.63393, saving model to \\classifier_07-01-0.6339.hdf5\n",
      "Epoch 2/20\n",
      "31/31 [==============================] - 17s 561ms/step - loss: 0.7113 - accuracy: 0.6816 - val_loss: 0.8419 - val_accuracy: 0.6488\n",
      "\n",
      "Epoch 00002: val_accuracy improved from 0.63393 to 0.64881, saving model to \\classifier_07-02-0.6488.hdf5\n",
      "Epoch 3/20\n",
      "31/31 [==============================] - 17s 534ms/step - loss: 0.6019 - accuracy: 0.7297 - val_loss: 0.9029 - val_accuracy: 0.6429\n",
      "\n",
      "Epoch 00003: val_accuracy did not improve from 0.64881\n",
      "Epoch 4/20\n",
      "31/31 [==============================] - 17s 567ms/step - loss: 0.4949 - accuracy: 0.7864 - val_loss: 0.8097 - val_accuracy: 0.6548\n",
      "\n",
      "Epoch 00004: val_accuracy improved from 0.64881 to 0.65476, saving model to \\classifier_07-04-0.6548.hdf5\n",
      "Epoch 5/20\n",
      "31/31 [==============================] - 16s 522ms/step - loss: 0.3990 - accuracy: 0.8352 - val_loss: 1.0441 - val_accuracy: 0.6161\n",
      "\n",
      "Epoch 00005: val_accuracy did not improve from 0.65476\n",
      "Epoch 6/20\n",
      "31/31 [==============================] - 17s 546ms/step - loss: 0.3000 - accuracy: 0.8876 - val_loss: 1.2653 - val_accuracy: 0.5833\n",
      "\n",
      "Epoch 00006: val_accuracy did not improve from 0.65476\n",
      "Epoch 7/20\n",
      "31/31 [==============================] - 17s 554ms/step - loss: 0.2399 - accuracy: 0.9085 - val_loss: 1.4111 - val_accuracy: 0.5565\n",
      "\n",
      "Epoch 00007: val_accuracy did not improve from 0.65476\n",
      "Epoch 8/20\n",
      "31/31 [==============================] - 17s 538ms/step - loss: 0.2032 - accuracy: 0.9221 - val_loss: 1.6792 - val_accuracy: 0.4702\n",
      "\n",
      "Epoch 00008: val_accuracy did not improve from 0.65476\n",
      "Epoch 9/20\n",
      "31/31 [==============================] - 17s 549ms/step - loss: 0.1796 - accuracy: 0.9323 - val_loss: 1.7207 - val_accuracy: 0.5387\n",
      "\n",
      "Epoch 00009: val_accuracy did not improve from 0.65476\n",
      "Restoring model weights from the end of the best epoch.\n",
      "Epoch 00009: early stopping\n"
     ]
    },
    {
     "data": {
      "text/plain": [
       "<keras.callbacks.History at 0x7f37b8692f90>"
      ]
     },
     "execution_count": 57,
     "metadata": {},
     "output_type": "execute_result"
    }
   ],
   "source": [
    "model_6.fit(train_X_6, train_y_6, epochs=20, batch_size=batch_size, \n",
    "          shuffle=True, validation_split=0.1, callbacks=[checkpointer_6, earlyStop], verbose=1)"
   ]
  },
  {
   "cell_type": "markdown",
   "id": "8acd946a",
   "metadata": {
    "papermill": {
     "duration": 0.182268,
     "end_time": "2022-07-30T22:30:07.275895",
     "exception": false,
     "start_time": "2022-07-30T22:30:07.093627",
     "status": "completed"
    },
    "tags": []
   },
   "source": [
    "**Submitting the model**"
   ]
  },
  {
   "cell_type": "code",
   "execution_count": 58,
   "id": "3e683d79",
   "metadata": {
    "execution": {
     "iopub.execute_input": "2022-07-30T22:30:07.688406Z",
     "iopub.status.busy": "2022-07-30T22:30:07.688064Z",
     "iopub.status.idle": "2022-07-30T22:30:07.713094Z",
     "shell.execute_reply": "2022-07-30T22:30:07.712146Z"
    },
    "papermill": {
     "duration": 0.212736,
     "end_time": "2022-07-30T22:30:07.714962",
     "exception": false,
     "start_time": "2022-07-30T22:30:07.502226",
     "status": "completed"
    },
    "tags": []
   },
   "outputs": [
    {
     "data": {
      "text/html": [
       "<div>\n",
       "<style scoped>\n",
       "    .dataframe tbody tr th:only-of-type {\n",
       "        vertical-align: middle;\n",
       "    }\n",
       "\n",
       "    .dataframe tbody tr th {\n",
       "        vertical-align: top;\n",
       "    }\n",
       "\n",
       "    .dataframe thead th {\n",
       "        text-align: right;\n",
       "    }\n",
       "</style>\n",
       "<table border=\"1\" class=\"dataframe\">\n",
       "  <thead>\n",
       "    <tr style=\"text-align: right;\">\n",
       "      <th></th>\n",
       "      <th>discourse_id</th>\n",
       "      <th>Ineffective</th>\n",
       "      <th>Adequate</th>\n",
       "      <th>Effective</th>\n",
       "    </tr>\n",
       "  </thead>\n",
       "  <tbody>\n",
       "    <tr>\n",
       "      <th>0</th>\n",
       "      <td>a261b6e14276</td>\n",
       "      <td>0.20</td>\n",
       "      <td>0.60</td>\n",
       "      <td>0.40</td>\n",
       "    </tr>\n",
       "    <tr>\n",
       "      <th>1</th>\n",
       "      <td>5a88900e7dc1</td>\n",
       "      <td>3.00</td>\n",
       "      <td>6.00</td>\n",
       "      <td>1.00</td>\n",
       "    </tr>\n",
       "    <tr>\n",
       "      <th>2</th>\n",
       "      <td>9790d835736b</td>\n",
       "      <td>1.00</td>\n",
       "      <td>2.00</td>\n",
       "      <td>3.00</td>\n",
       "    </tr>\n",
       "    <tr>\n",
       "      <th>3</th>\n",
       "      <td>75ce6d68b67b</td>\n",
       "      <td>0.33</td>\n",
       "      <td>0.34</td>\n",
       "      <td>0.33</td>\n",
       "    </tr>\n",
       "    <tr>\n",
       "      <th>4</th>\n",
       "      <td>93578d946723</td>\n",
       "      <td>0.01</td>\n",
       "      <td>0.24</td>\n",
       "      <td>0.47</td>\n",
       "    </tr>\n",
       "    <tr>\n",
       "      <th>5</th>\n",
       "      <td>2e214524dbe3</td>\n",
       "      <td>0.20</td>\n",
       "      <td>0.60</td>\n",
       "      <td>0.40</td>\n",
       "    </tr>\n",
       "    <tr>\n",
       "      <th>6</th>\n",
       "      <td>84812fc2ab9f</td>\n",
       "      <td>3.00</td>\n",
       "      <td>6.00</td>\n",
       "      <td>1.00</td>\n",
       "    </tr>\n",
       "    <tr>\n",
       "      <th>7</th>\n",
       "      <td>c668ff840720</td>\n",
       "      <td>1.00</td>\n",
       "      <td>2.00</td>\n",
       "      <td>3.00</td>\n",
       "    </tr>\n",
       "    <tr>\n",
       "      <th>8</th>\n",
       "      <td>739a6d00f44a</td>\n",
       "      <td>0.33</td>\n",
       "      <td>0.34</td>\n",
       "      <td>0.33</td>\n",
       "    </tr>\n",
       "    <tr>\n",
       "      <th>9</th>\n",
       "      <td>bcfae2c9a244</td>\n",
       "      <td>0.01</td>\n",
       "      <td>0.24</td>\n",
       "      <td>0.47</td>\n",
       "    </tr>\n",
       "  </tbody>\n",
       "</table>\n",
       "</div>"
      ],
      "text/plain": [
       "   discourse_id  Ineffective  Adequate  Effective\n",
       "0  a261b6e14276         0.20      0.60       0.40\n",
       "1  5a88900e7dc1         3.00      6.00       1.00\n",
       "2  9790d835736b         1.00      2.00       3.00\n",
       "3  75ce6d68b67b         0.33      0.34       0.33\n",
       "4  93578d946723         0.01      0.24       0.47\n",
       "5  2e214524dbe3         0.20      0.60       0.40\n",
       "6  84812fc2ab9f         3.00      6.00       1.00\n",
       "7  c668ff840720         1.00      2.00       3.00\n",
       "8  739a6d00f44a         0.33      0.34       0.33\n",
       "9  bcfae2c9a244         0.01      0.24       0.47"
      ]
     },
     "execution_count": 58,
     "metadata": {},
     "output_type": "execute_result"
    }
   ],
   "source": [
    "submission_file = pd.read_csv(\"/kaggle/input/feedback-prize-effectiveness/sample_submission.csv\")\n",
    "\n",
    "submission_file"
   ]
  },
  {
   "cell_type": "code",
   "execution_count": 59,
   "id": "3ad6a801",
   "metadata": {
    "execution": {
     "iopub.execute_input": "2022-07-30T22:30:08.086550Z",
     "iopub.status.busy": "2022-07-30T22:30:08.086150Z",
     "iopub.status.idle": "2022-07-30T22:30:58.443671Z",
     "shell.execute_reply": "2022-07-30T22:30:58.442786Z"
    },
    "papermill": {
     "duration": 50.544775,
     "end_time": "2022-07-30T22:30:58.445623",
     "exception": false,
     "start_time": "2022-07-30T22:30:07.900848",
     "status": "completed"
    },
    "tags": []
   },
   "outputs": [
    {
     "name": "stdout",
     "output_type": "stream",
     "text": [
      "1/1 [==============================] - 0s 299ms/step\n"
     ]
    },
    {
     "name": "stderr",
     "output_type": "stream",
     "text": [
      "/opt/conda/lib/python3.7/site-packages/ipykernel_launcher.py:105: SettingWithCopyWarning: \n",
      "A value is trying to be set on a copy of a slice from a DataFrame\n",
      "\n",
      "See the caveats in the documentation: https://pandas.pydata.org/pandas-docs/stable/user_guide/indexing.html#returning-a-view-versus-a-copy\n",
      "/opt/conda/lib/python3.7/site-packages/ipykernel_launcher.py:106: SettingWithCopyWarning: \n",
      "A value is trying to be set on a copy of a slice from a DataFrame\n",
      "\n",
      "See the caveats in the documentation: https://pandas.pydata.org/pandas-docs/stable/user_guide/indexing.html#returning-a-view-versus-a-copy\n",
      "/opt/conda/lib/python3.7/site-packages/ipykernel_launcher.py:107: SettingWithCopyWarning: \n",
      "A value is trying to be set on a copy of a slice from a DataFrame\n",
      "\n",
      "See the caveats in the documentation: https://pandas.pydata.org/pandas-docs/stable/user_guide/indexing.html#returning-a-view-versus-a-copy\n"
     ]
    },
    {
     "name": "stdout",
     "output_type": "stream",
     "text": [
      "1/1 [==============================] - 0s 302ms/step\n",
      "1/1 [==============================] - 0s 204ms/step\n",
      "1/1 [==============================] - 0s 26ms/step\n",
      "1/1 [==============================] - 0s 26ms/step\n",
      "1/1 [==============================] - 0s 295ms/step\n",
      "1/1 [==============================] - 0s 105ms/step\n",
      "1/1 [==============================] - 0s 25ms/step\n",
      "1/1 [==============================] - 0s 108ms/step\n",
      "1/1 [==============================] - 0s 216ms/step\n"
     ]
    }
   ],
   "source": [
    "# Predict and Evaluate Model Performance\n",
    "for rtx in range(len(dataset_test)):\n",
    "    # Passa para numpy array\n",
    "    #test_inputs = np.array(dataset_test[\"discourse_text\"][rtx])\n",
    "    test_inputs = np.empty(shape=(1,), dtype=object)\n",
    "    test_inputs[0] = dataset_test[\"discourse_text\"][rtx]\n",
    "    \n",
    "    # Normalize datasets\n",
    "    norm_test_inputs = tn.normalize_corpus(test_inputs)\n",
    "\n",
    "    # Tokenize train & test datasets\n",
    "    tokenized_test = [tn.tokenizer.tokenize(text) for text in norm_test_inputs]\n",
    "    \n",
    "    if dataset_test.discourse_type[rtx] == dataset_train.discourse_type.unique()[0]:\n",
    "        ## Test discourses data corpus\n",
    "        # Convert tokenized text discourses to numeric vectors\n",
    "        test_X = [[vocab_map_0[token] if vocab_map_0.get(token) else vocab_map_0['NOT_FOUND_INDEX'] \n",
    "                   for token in tokenized_discourse] \n",
    "                      for tokenized_discourse in tokenized_test]\n",
    "        test_X = sequence.pad_sequences(test_X, maxlen=max_len_0)\n",
    "        #test_X = pad_sequences(test_X, maxlen=max_len_0)\n",
    "        \n",
    "        # Predict and Evaluate Model Performance\n",
    "        #pred_test = model_0.predict_classes(test_X)\n",
    "        test_y = model_0.predict(test_X, verbose=1)\n",
    "        \n",
    "    elif dataset_test.discourse_type[rtx] == dataset_train.discourse_type.unique()[1]:\n",
    "        ## Test discourses data corpus\n",
    "        # Convert tokenized text discourses to numeric vectors\n",
    "        test_X = [[vocab_map_1[token] if vocab_map_1.get(token) else vocab_map_1['NOT_FOUND_INDEX'] \n",
    "                   for token in tokenized_discourse] \n",
    "                      for tokenized_discourse in tokenized_test]\n",
    "        test_X = sequence.pad_sequences(test_X, maxlen=max_len_1)\n",
    "        #test_X = pad_sequences(test_X, maxlen=max_len_1)\n",
    "        \n",
    "        # Predict and Evaluate Model Performance\n",
    "        #pred_test = model_1.predict_classes(test_X)\n",
    "        test_y = model_1.predict(test_X, verbose=1)\n",
    "        \n",
    "    elif dataset_test.discourse_type[rtx] == dataset_train.discourse_type.unique()[2]:\n",
    "        ## Test discourses data corpus\n",
    "        # Convert tokenized text discourses to numeric vectors\n",
    "        test_X = [[vocab_map_2[token] if vocab_map_2.get(token) else vocab_map_2['NOT_FOUND_INDEX'] \n",
    "                   for token in tokenized_discourse] \n",
    "                      for tokenized_discourse in tokenized_test]\n",
    "        test_X = sequence.pad_sequences(test_X, maxlen=max_len_2)\n",
    "        #test_X = pad_sequences(test_X, maxlen=max_len_2)\n",
    "        \n",
    "        # Predict and Evaluate Model Performance\n",
    "        #pred_test = model.predict_classes(test_X)\n",
    "        test_y = model_2.predict(test_X, verbose=1)\n",
    "        \n",
    "    elif dataset_test.discourse_type[rtx] == dataset_train.discourse_type.unique()[3]:\n",
    "        ## Test discourses data corpus\n",
    "        # Convert tokenized text discourses to numeric vectors\n",
    "        test_X = [[vocab_map_3[token] if vocab_map_3.get(token) else vocab_map_3['NOT_FOUND_INDEX'] \n",
    "                   for token in tokenized_discourse] \n",
    "                      for tokenized_discourse in tokenized_test]\n",
    "        test_X = sequence.pad_sequences(test_X, maxlen=max_len_3)\n",
    "        #test_X = pad_sequences(test_X, maxlen=max_len_3)\n",
    "        \n",
    "        # Predict and Evaluate Model Performance\n",
    "        #pred_test = model.predict_classes(test_X)\n",
    "        test_y = model_3.predict(test_X, verbose=1)\n",
    "        \n",
    "    elif dataset_test.discourse_type[rtx] == dataset_train.discourse_type.unique()[4]:\n",
    "        ## Test discourses data corpus\n",
    "        # Convert tokenized text discourses to numeric vectors\n",
    "        test_X = [[vocab_map_4[token] if vocab_map_4.get(token) else vocab_map_4['NOT_FOUND_INDEX'] \n",
    "                   for token in tokenized_discourse] \n",
    "                      for tokenized_discourse in tokenized_test]\n",
    "        test_X = sequence.pad_sequences(test_X, maxlen=max_len_4)\n",
    "        #test_X = pad_sequences(test_X, maxlen=max_len_4)\n",
    "        \n",
    "        # Predict and Evaluate Model Performance\n",
    "        #pred_test = model.predict_classes(test_X)\n",
    "        test_y = model_4.predict(test_X, verbose=1)\n",
    "        \n",
    "    elif dataset_test.discourse_type[rtx] == dataset_train.discourse_type.unique()[5]:\n",
    "        ## Test discourses data corpus\n",
    "        # Convert tokenized text discourses to numeric vectors\n",
    "        test_X = [[vocab_map_5[token] if vocab_map_5.get(token) else vocab_map_5['NOT_FOUND_INDEX'] \n",
    "                   for token in tokenized_discourse] \n",
    "                      for tokenized_discourse in tokenized_test]\n",
    "        test_X = sequence.pad_sequences(test_X, maxlen=max_len_5)\n",
    "        #test_X = pad_sequences(test_X, maxlen=max_len_5)\n",
    "        \n",
    "        # Predict and Evaluate Model Performance\n",
    "        #pred_test = model.predict_classes(test_X)\n",
    "        test_y = model_5.predict(test_X, verbose=1)\n",
    "        \n",
    "    else:\n",
    "        ## Test discourses data corpus\n",
    "        # Convert tokenized text discourses to numeric vectors\n",
    "        test_X = [[vocab_map_6[token] if vocab_map_6.get(token) else vocab_map_6['NOT_FOUND_INDEX'] \n",
    "                   for token in tokenized_discourse] \n",
    "                      for tokenized_discourse in tokenized_test]\n",
    "        test_X = sequence.pad_sequences(test_X, maxlen=max_len_6)\n",
    "        #test_X = pad_sequences(test_X, maxlen=max_len_6)\n",
    "        \n",
    "        # Predict and Evaluate Model Performance\n",
    "        #pred_test = model.predict_classes(test_X)\n",
    "        test_y = model_6.predict(test_X, verbose=1)\n",
    "        \n",
    "    submission_file[\"Ineffective\"][rtx] = test_y[0, 0]\n",
    "    submission_file[\"Adequate\"][rtx] = test_y[0, 1]\n",
    "    submission_file[\"Effective\"][rtx] = test_y[0, 2]"
   ]
  },
  {
   "cell_type": "code",
   "execution_count": 60,
   "id": "f1daa98a",
   "metadata": {
    "execution": {
     "iopub.execute_input": "2022-07-30T22:30:58.822185Z",
     "iopub.status.busy": "2022-07-30T22:30:58.821492Z",
     "iopub.status.idle": "2022-07-30T22:30:58.825863Z",
     "shell.execute_reply": "2022-07-30T22:30:58.824828Z"
    },
    "papermill": {
     "duration": 0.194663,
     "end_time": "2022-07-30T22:30:58.828161",
     "exception": false,
     "start_time": "2022-07-30T22:30:58.633498",
     "status": "completed"
    },
    "tags": []
   },
   "outputs": [],
   "source": [
    "# Predictions\n",
    "#test_y = model.predict(test_X, verbose=1)\n",
    "#test_y"
   ]
  },
  {
   "cell_type": "markdown",
   "id": "58dd1f65",
   "metadata": {
    "papermill": {
     "duration": 0.18416,
     "end_time": "2022-07-30T22:30:59.197167",
     "exception": false,
     "start_time": "2022-07-30T22:30:59.013007",
     "status": "completed"
    },
    "tags": []
   },
   "source": [
    "Loading submission template to paste the predictions to and then saving the file:"
   ]
  },
  {
   "cell_type": "code",
   "execution_count": 61,
   "id": "0181f534",
   "metadata": {
    "execution": {
     "iopub.execute_input": "2022-07-30T22:30:59.567398Z",
     "iopub.status.busy": "2022-07-30T22:30:59.567061Z",
     "iopub.status.idle": "2022-07-30T22:30:59.578531Z",
     "shell.execute_reply": "2022-07-30T22:30:59.577657Z"
    },
    "papermill": {
     "duration": 0.199535,
     "end_time": "2022-07-30T22:30:59.580486",
     "exception": false,
     "start_time": "2022-07-30T22:30:59.380951",
     "status": "completed"
    },
    "tags": []
   },
   "outputs": [
    {
     "data": {
      "text/html": [
       "<div>\n",
       "<style scoped>\n",
       "    .dataframe tbody tr th:only-of-type {\n",
       "        vertical-align: middle;\n",
       "    }\n",
       "\n",
       "    .dataframe tbody tr th {\n",
       "        vertical-align: top;\n",
       "    }\n",
       "\n",
       "    .dataframe thead th {\n",
       "        text-align: right;\n",
       "    }\n",
       "</style>\n",
       "<table border=\"1\" class=\"dataframe\">\n",
       "  <thead>\n",
       "    <tr style=\"text-align: right;\">\n",
       "      <th></th>\n",
       "      <th>discourse_id</th>\n",
       "      <th>Ineffective</th>\n",
       "      <th>Adequate</th>\n",
       "      <th>Effective</th>\n",
       "    </tr>\n",
       "  </thead>\n",
       "  <tbody>\n",
       "    <tr>\n",
       "      <th>0</th>\n",
       "      <td>a261b6e14276</td>\n",
       "      <td>0.002299</td>\n",
       "      <td>0.014599</td>\n",
       "      <td>0.983102</td>\n",
       "    </tr>\n",
       "    <tr>\n",
       "      <th>1</th>\n",
       "      <td>5a88900e7dc1</td>\n",
       "      <td>0.150915</td>\n",
       "      <td>0.719789</td>\n",
       "      <td>0.129296</td>\n",
       "    </tr>\n",
       "    <tr>\n",
       "      <th>2</th>\n",
       "      <td>9790d835736b</td>\n",
       "      <td>0.042501</td>\n",
       "      <td>0.424913</td>\n",
       "      <td>0.532586</td>\n",
       "    </tr>\n",
       "    <tr>\n",
       "      <th>3</th>\n",
       "      <td>75ce6d68b67b</td>\n",
       "      <td>0.069652</td>\n",
       "      <td>0.486056</td>\n",
       "      <td>0.444292</td>\n",
       "    </tr>\n",
       "    <tr>\n",
       "      <th>4</th>\n",
       "      <td>93578d946723</td>\n",
       "      <td>0.095274</td>\n",
       "      <td>0.487629</td>\n",
       "      <td>0.417098</td>\n",
       "    </tr>\n",
       "    <tr>\n",
       "      <th>5</th>\n",
       "      <td>2e214524dbe3</td>\n",
       "      <td>0.097100</td>\n",
       "      <td>0.335804</td>\n",
       "      <td>0.567096</td>\n",
       "    </tr>\n",
       "    <tr>\n",
       "      <th>6</th>\n",
       "      <td>84812fc2ab9f</td>\n",
       "      <td>0.060311</td>\n",
       "      <td>0.595423</td>\n",
       "      <td>0.344266</td>\n",
       "    </tr>\n",
       "    <tr>\n",
       "      <th>7</th>\n",
       "      <td>c668ff840720</td>\n",
       "      <td>0.063674</td>\n",
       "      <td>0.409164</td>\n",
       "      <td>0.527162</td>\n",
       "    </tr>\n",
       "    <tr>\n",
       "      <th>8</th>\n",
       "      <td>739a6d00f44a</td>\n",
       "      <td>0.187631</td>\n",
       "      <td>0.590310</td>\n",
       "      <td>0.222059</td>\n",
       "    </tr>\n",
       "    <tr>\n",
       "      <th>9</th>\n",
       "      <td>bcfae2c9a244</td>\n",
       "      <td>0.050719</td>\n",
       "      <td>0.687254</td>\n",
       "      <td>0.262027</td>\n",
       "    </tr>\n",
       "  </tbody>\n",
       "</table>\n",
       "</div>"
      ],
      "text/plain": [
       "   discourse_id  Ineffective  Adequate  Effective\n",
       "0  a261b6e14276     0.002299  0.014599   0.983102\n",
       "1  5a88900e7dc1     0.150915  0.719789   0.129296\n",
       "2  9790d835736b     0.042501  0.424913   0.532586\n",
       "3  75ce6d68b67b     0.069652  0.486056   0.444292\n",
       "4  93578d946723     0.095274  0.487629   0.417098\n",
       "5  2e214524dbe3     0.097100  0.335804   0.567096\n",
       "6  84812fc2ab9f     0.060311  0.595423   0.344266\n",
       "7  c668ff840720     0.063674  0.409164   0.527162\n",
       "8  739a6d00f44a     0.187631  0.590310   0.222059\n",
       "9  bcfae2c9a244     0.050719  0.687254   0.262027"
      ]
     },
     "execution_count": 61,
     "metadata": {},
     "output_type": "execute_result"
    }
   ],
   "source": [
    "#submission_file = pd.read_csv(\"/kaggle/input/feedback-prize-effectiveness/sample_submission.csv\")\n",
    "\n",
    "submission_file"
   ]
  },
  {
   "cell_type": "code",
   "execution_count": 62,
   "id": "deb85a2b",
   "metadata": {
    "execution": {
     "iopub.execute_input": "2022-07-30T22:30:59.994202Z",
     "iopub.status.busy": "2022-07-30T22:30:59.993164Z",
     "iopub.status.idle": "2022-07-30T22:30:59.998844Z",
     "shell.execute_reply": "2022-07-30T22:30:59.997959Z"
    },
    "papermill": {
     "duration": 0.235742,
     "end_time": "2022-07-30T22:31:00.000624",
     "exception": false,
     "start_time": "2022-07-30T22:30:59.764882",
     "status": "completed"
    },
    "tags": []
   },
   "outputs": [],
   "source": [
    "#submission_file[\"Ineffective\"] = test_y[:, 0]\n",
    "#submission_file[\"Adequate\"] = test_y[:, 1]\n",
    "#submission_file[\"Effective\"] = test_y[:, 2]\n",
    "\n",
    "#submission_file"
   ]
  },
  {
   "cell_type": "code",
   "execution_count": 63,
   "id": "880028f4",
   "metadata": {
    "execution": {
     "iopub.execute_input": "2022-07-30T22:31:00.370646Z",
     "iopub.status.busy": "2022-07-30T22:31:00.368892Z",
     "iopub.status.idle": "2022-07-30T22:31:00.376930Z",
     "shell.execute_reply": "2022-07-30T22:31:00.376066Z"
    },
    "papermill": {
     "duration": 0.194685,
     "end_time": "2022-07-30T22:31:00.378899",
     "exception": false,
     "start_time": "2022-07-30T22:31:00.184214",
     "status": "completed"
    },
    "tags": []
   },
   "outputs": [],
   "source": [
    "submission_file.to_csv(\"submission.csv\", index=False)"
   ]
  }
 ],
 "metadata": {
  "kernelspec": {
   "display_name": "Python 3",
   "language": "python",
   "name": "python3"
  },
  "language_info": {
   "codemirror_mode": {
    "name": "ipython",
    "version": 3
   },
   "file_extension": ".py",
   "mimetype": "text/x-python",
   "name": "python",
   "nbconvert_exporter": "python",
   "pygments_lexer": "ipython3",
   "version": "3.7.12"
  },
  "papermill": {
   "default_parameters": {},
   "duration": 2813.821094,
   "end_time": "2022-07-30T22:31:03.498324",
   "environment_variables": {},
   "exception": null,
   "input_path": "__notebook__.ipynb",
   "output_path": "__notebook__.ipynb",
   "parameters": {},
   "start_time": "2022-07-30T21:44:09.677230",
   "version": "2.3.4"
  }
 },
 "nbformat": 4,
 "nbformat_minor": 5
}
